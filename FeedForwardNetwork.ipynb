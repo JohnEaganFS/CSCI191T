{
  "nbformat": 4,
  "nbformat_minor": 0,
  "metadata": {
    "colab": {
      "name": "FeedForwardNetwork.ipynb",
      "provenance": [],
      "collapsed_sections": [],
      "authorship_tag": "ABX9TyN4Pcr737V4pbC7BGvrW0T9",
      "include_colab_link": true
    },
    "kernelspec": {
      "name": "python3",
      "display_name": "Python 3"
    },
    "language_info": {
      "name": "python"
    }
  },
  "cells": [
    {
      "cell_type": "markdown",
      "metadata": {
        "id": "view-in-github",
        "colab_type": "text"
      },
      "source": [
        "<a href=\"https://colab.research.google.com/github/JohnEaganFS/CSCI191T/blob/main/FeedForwardNetwork.ipynb\" target=\"_parent\"><img src=\"https://colab.research.google.com/assets/colab-badge.svg\" alt=\"Open In Colab\"/></a>"
      ]
    },
    {
      "cell_type": "markdown",
      "metadata": {
        "id": "9SNwIdqB1ldm"
      },
      "source": [
        "## CSCI 191T - Machine Learning\n",
        "##Name: John Eagan \n",
        "##Assignment: Feed Forward Network w/ 2 Hidden Units"
      ]
    },
    {
      "cell_type": "markdown",
      "metadata": {
        "id": "aUchahHz4wup"
      },
      "source": [
        "<div>\n",
        "<img src=https://drive.google.com/uc?export=view&id=1e0DPR_52rzTdWaf7RaVY5KEjpiBSPMDX width=\"500\">\n",
        "</div>"
      ]
    },
    {
      "cell_type": "markdown",
      "metadata": {
        "id": "SJspQmB7Bw48"
      },
      "source": [
        "Given weight vectors $w_1$, $w_2$, $v_1$ and test points for ($x_1$, $x_2$), \n",
        "\n",
        "calculate $z_1$ and $z_2$ to calculate $y_1$ for each test point."
      ]
    },
    {
      "cell_type": "code",
      "metadata": {
        "id": "SmAK-ep0ylt3"
      },
      "source": [
        "import math\n",
        "import plotly.express as px"
      ],
      "execution_count": 13,
      "outputs": []
    },
    {
      "cell_type": "markdown",
      "metadata": {
        "id": "dLjVNQ5Kh8qf"
      },
      "source": [
        "## F(w, x), Sigmoid, and Classify Functions"
      ]
    },
    {
      "cell_type": "code",
      "metadata": {
        "id": "kT-cugX3IPWp"
      },
      "source": [
        "def F(W,X):\n",
        "  return sum([w*x for w,x in zip(W,X)])"
      ],
      "execution_count": 14,
      "outputs": []
    },
    {
      "cell_type": "code",
      "metadata": {
        "id": "Y5HE0OZ1hWno"
      },
      "source": [
        "def sigmoid(x):\n",
        "  return 1.0/(1+math.exp(-x))"
      ],
      "execution_count": 15,
      "outputs": []
    },
    {
      "cell_type": "code",
      "metadata": {
        "id": "TcPdYXEcAezG"
      },
      "source": [
        "def classify(model, X):\n",
        "  return [1 if sigmoid(F(model, x)) > 0.5 else 0 for x in X]"
      ],
      "execution_count": 16,
      "outputs": []
    },
    {
      "cell_type": "markdown",
      "metadata": {
        "id": "7IE8T2y97Jxx"
      },
      "source": [
        "##Weight Vectors"
      ]
    },
    {
      "cell_type": "markdown",
      "metadata": {
        "id": "P5XQRzaGCwXI"
      },
      "source": [
        "Weights are given.\n",
        "\n",
        "$w_1$ = ($w_{1,0}$, $w_{1,1}$, $w_{1,2}$)\n",
        "\n",
        "$w_1$ = ($w_{2,0}$, $w_{2,1}$, $w_{2,2}$)\n",
        "\n",
        "$v_1$ = ($v_{1,0}$, $v_{1,1}$, $v_{1,2}$)"
      ]
    },
    {
      "cell_type": "code",
      "metadata": {
        "id": "bMM-ajJz6pCI"
      },
      "source": [
        "w1 = (3.19304864, 9.93278091, -4.74659947)\n",
        "w2 = (-1.59451474, 9.97879746, 4.47953684)\n",
        "v1 = (0.32620883, -8.71647388, 8.39004239)"
      ],
      "execution_count": 17,
      "outputs": []
    },
    {
      "cell_type": "markdown",
      "metadata": {
        "id": "xcSmelwO7Rfl"
      },
      "source": [
        "## $x_0$, $x_1$, and $x_2$"
      ]
    },
    {
      "cell_type": "markdown",
      "metadata": {
        "id": "-_HnXNZjDNJ9"
      },
      "source": [
        "Four test points given for ($x_1$, $x_2$).\n",
        "\n",
        "$x_0$ is the bias term (equal to 1)"
      ]
    },
    {
      "cell_type": "code",
      "metadata": {
        "colab": {
          "base_uri": "https://localhost:8080/"
        },
        "id": "N1nlyFct7QdZ",
        "outputId": "bd48fd4d-9533-4037-9a3e-f2bbaf96c047"
      },
      "source": [
        "X = [(0,0), (0,1), (1,0), (1,1)]\n",
        "x1 = [x1 for (x1, x2) in X]\n",
        "x2 = [x2 for (x1, x2) in X]\n",
        "print(\"Test Points:\", X)\n",
        "\n",
        "xData = [(1,x1,x2) for (x1,x2) in X]\n",
        "print(\"X:\", xData)"
      ],
      "execution_count": 18,
      "outputs": [
        {
          "output_type": "stream",
          "name": "stdout",
          "text": [
            "Test Points: [(0, 0), (0, 1), (1, 0), (1, 1)]\n",
            "X: [(1, 0, 0), (1, 0, 1), (1, 1, 0), (1, 1, 1)]\n"
          ]
        }
      ]
    },
    {
      "cell_type": "markdown",
      "metadata": {
        "id": "lChv1-UB7xqm"
      },
      "source": [
        "## $z_0$, $z_1$, and $z_2$"
      ]
    },
    {
      "cell_type": "markdown",
      "metadata": {
        "id": "KpXonhVCDxYq"
      },
      "source": [
        "Calculate $z_i$ as sigmoid(F($w_i$, $x$)) where $x$ = ($x_0$, $x_1$, $x_2$) for given test point.\n",
        "\n",
        "$z_0$ is the bias term (equal to 1)"
      ]
    },
    {
      "cell_type": "code",
      "metadata": {
        "colab": {
          "base_uri": "https://localhost:8080/"
        },
        "id": "iJsibTiC8P08",
        "outputId": "6971124b-4710-4a4c-cfe9-f09b37f5b592"
      },
      "source": [
        "# Performing z1 and z2 calculations for all test points\n",
        "z1 = [sigmoid(F(w1, x)) for x in xData]\n",
        "z2 = [sigmoid(F(w2, x)) for x in xData]\n",
        "\n",
        "# z = (z_0, z_1, z_2) = (1, z_1, z_2) for each test point\n",
        "zData = [(1, z_1, z_2) for (z_1, z_2) in zip(z1, z2)]\n",
        "print(\"z1:\", z1)\n",
        "print(\"z2:\", z2)\n",
        "print(\"Z:\", zData)"
      ],
      "execution_count": 19,
      "outputs": [
        {
          "output_type": "stream",
          "name": "stdout",
          "text": [
            "z1: [0.9605718456066229, 0.17457400953677152, 0.9999980069243171, 0.9997704660571543]\n",
            "z2: [0.16874965243320605, 0.9471010398304239, 0.9997716226203648, 0.9999974099209205]\n",
            "Z: [(1, 0.9605718456066229, 0.16874965243320605), (1, 0.17457400953677152, 0.9471010398304239), (1, 0.9999980069243171, 0.9997716226203648), (1, 0.9997704660571543, 0.9999974099209205)]\n"
          ]
        }
      ]
    },
    {
      "cell_type": "markdown",
      "metadata": {
        "id": "fhuftlnK95IJ"
      },
      "source": [
        "## $y_1$ (Output)"
      ]
    },
    {
      "cell_type": "markdown",
      "metadata": {
        "id": "k4A8vwL9FDyX"
      },
      "source": [
        "Calculate $y_1$ as F($v_1$, $z$) where $z$ = ($z_0$, $z_1$, $z_2$) for some test point."
      ]
    },
    {
      "cell_type": "code",
      "metadata": {
        "colab": {
          "base_uri": "https://localhost:8080/"
        },
        "id": "fgyw7soC9pMy",
        "outputId": "96bfb1ed-0c95-4ba0-8e1f-06b99fc83c0a"
      },
      "source": [
        "y1 = [F(v1, z) for z in zData]\n",
        "print(\"y1:\", y1)\n",
        "\n",
        "print(\"Output for given Input (x1, x2):\", list(zip(X, y1)))"
      ],
      "execution_count": 20,
      "outputs": [
        {
          "output_type": "stream",
          "name": "stdout",
          "text": [
            "y1: [-6.630773834881156, 6.750756907536195, -0.0021213833039261942, 0.0017563357441172656]\n",
            "Output for given Input (x1, x2): [((0, 0), -6.630773834881156), ((0, 1), 6.750756907536195), ((1, 0), -0.0021213833039261942), ((1, 1), 0.0017563357441172656)]\n"
          ]
        }
      ]
    },
    {
      "cell_type": "markdown",
      "metadata": {
        "id": "P967_pUHFXHt"
      },
      "source": [
        "Classification of each test point based on $y_1$"
      ]
    },
    {
      "cell_type": "code",
      "metadata": {
        "colab": {
          "base_uri": "https://localhost:8080/"
        },
        "id": "T5DVyhBfAYsk",
        "outputId": "2bea60f1-b8c8-44ff-c78b-22d0afea0f4c"
      },
      "source": [
        "classification = classify(v1, zData)\n",
        "print(\"Class Predictions:\", classification)\n",
        "\n",
        "testClassifications = list(zip(X, classification))\n",
        "print(testClassifications)"
      ],
      "execution_count": 21,
      "outputs": [
        {
          "output_type": "stream",
          "name": "stdout",
          "text": [
            "Class Predictions: [0, 1, 0, 1]\n",
            "[((0, 0), 0), ((0, 1), 1), ((1, 0), 0), ((1, 1), 1)]\n"
          ]
        }
      ]
    },
    {
      "cell_type": "code",
      "metadata": {
        "id": "cn9amH06Lkhc"
      },
      "source": [
        "%matplotlib inline\n",
        "import matplotlib.pyplot as plt"
      ],
      "execution_count": 22,
      "outputs": []
    },
    {
      "cell_type": "code",
      "metadata": {
        "colab": {
          "base_uri": "https://localhost:8080/",
          "height": 265
        },
        "id": "BSuEA2EPLlS4",
        "outputId": "9795cf09-3512-4019-f156-4b2d49fc4b9e"
      },
      "source": [
        "# Plotting test points (x1, x2) and predicted output y1\n",
        "ax = plt.axes(projection = '3d')\n",
        "plt.xlabel(\"x1\")\n",
        "plt.ylabel(\"x2\")\n",
        "ax.set_zlabel(\"y1\")\n",
        "ax.scatter3D(x1, x2, y1, c='g', s=100)"
      ],
      "execution_count": 25,
      "outputs": [
        {
          "output_type": "execute_result",
          "data": {
            "text/plain": [
              "<mpl_toolkits.mplot3d.art3d.Path3DCollection at 0x7f042979a350>"
            ]
          },
          "metadata": {},
          "execution_count": 25
        },
        {
          "output_type": "display_data",
          "data": {
            "image/png": "[encoded data removed]",
            "text/plain": [
              "<Figure size 432x288 with 1 Axes>"
            ]
          },
          "metadata": {
            "needs_background": "light"
          }
        }
      ]
    }
  ]
}