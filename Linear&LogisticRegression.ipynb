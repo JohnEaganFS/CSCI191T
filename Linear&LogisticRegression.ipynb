{
  "nbformat": 4,
  "nbformat_minor": 0,
  "metadata": {
    "colab": {
      "name": "Linear&LogisticRegression.ipynb",
      "provenance": [],
      "collapsed_sections": [],
      "toc_visible": true,
      "authorship_tag": "ABX9TyN/3tkjZLwh1RRAHTDvNmxV",
      "include_colab_link": true
    },
    "kernelspec": {
      "name": "python3",
      "display_name": "Python 3"
    },
    "language_info": {
      "name": "python"
    }
  },
  "cells": [
    {
      "cell_type": "markdown",
      "metadata": {
        "id": "view-in-github",
        "colab_type": "text"
      },
      "source": [
        "<a href=\"https://colab.research.google.com/github/JohnEaganFS/CSCI191T/blob/main/Linear%26LogisticRegression.ipynb\" target=\"_parent\"><img src=\"https://colab.research.google.com/assets/colab-badge.svg\" alt=\"Open In Colab\"/></a>"
      ]
    },
    {
      "cell_type": "markdown",
      "metadata": {
        "id": "IVML57hsH-yK"
      },
      "source": [
        "## CSCI 191T - Machine Learning\n",
        "##Name: John Eagan \n",
        "##Assignment: Linear & Logistic Regression with Iris dataset"
      ]
    },
    {
      "cell_type": "markdown",
      "metadata": {
        "id": "Ym54Ee6HIHq9"
      },
      "source": [
        "Github Link:"
      ]
    },
    {
      "cell_type": "code",
      "metadata": {
        "id": "WCCovhUOfVOI",
        "colab": {
          "base_uri": "https://localhost:8080/"
        },
        "outputId": "f2afd4e0-eaeb-4a11-df79-dfd2d3a4c79a"
      },
      "source": [
        "%matplotlib inline\n",
        "import matplotlib.pyplot as plt\n",
        "import math\n",
        "import random\n",
        "!pip uninstall scikit-learn -y # I'm including these two lines so that sklearn is updated to the latest version\n",
        "!pip install -U scikit-learn   # This is necessary for one of the metrics used in the \"Sklearn Metrics\" section\n",
        "import sklearn                 # If you get an error saying you must restart the runtime, do so and then \"Run all\" one more time for complete notebook results."
      ],
      "execution_count": 1,
      "outputs": [
        {
          "output_type": "stream",
          "name": "stdout",
          "text": [
            "Found existing installation: scikit-learn 1.0\n",
            "Uninstalling scikit-learn-1.0:\n",
            "  Successfully uninstalled scikit-learn-1.0\n",
            "Collecting scikit-learn\n",
            "  Using cached scikit_learn-1.0-cp37-cp37m-manylinux_2_12_x86_64.manylinux2010_x86_64.whl (23.1 MB)\n",
            "Requirement already satisfied: threadpoolctl>=2.0.0 in /usr/local/lib/python3.7/dist-packages (from scikit-learn) (3.0.0)\n",
            "Requirement already satisfied: scipy>=1.1.0 in /usr/local/lib/python3.7/dist-packages (from scikit-learn) (1.4.1)\n",
            "Requirement already satisfied: numpy>=1.14.6 in /usr/local/lib/python3.7/dist-packages (from scikit-learn) (1.19.5)\n",
            "Requirement already satisfied: joblib>=0.11 in /usr/local/lib/python3.7/dist-packages (from scikit-learn) (1.0.1)\n",
            "Installing collected packages: scikit-learn\n",
            "Successfully installed scikit-learn-1.0\n"
          ]
        }
      ]
    },
    {
      "cell_type": "markdown",
      "metadata": {
        "id": "dLjVNQ5Kh8qf"
      },
      "source": [
        "## F(w, x), Sigmoid, and Classify Functions"
      ]
    },
    {
      "cell_type": "code",
      "metadata": {
        "id": "kT-cugX3IPWp"
      },
      "source": [
        "def F(W,X):\n",
        "  return sum([w*x for w,x in zip(W,X)])"
      ],
      "execution_count": 2,
      "outputs": []
    },
    {
      "cell_type": "code",
      "metadata": {
        "id": "Y5HE0OZ1hWno"
      },
      "source": [
        "def sigmoid(x):\n",
        "  return 1.0/(1+math.exp(-x))"
      ],
      "execution_count": 3,
      "outputs": []
    },
    {
      "cell_type": "code",
      "metadata": {
        "id": "7yJE2H8FkbTI"
      },
      "source": [
        "def classify(model, X): # Uses model to classify list of x values [(x0, x1, x2),...] into either 1 (positive) or 0 (negative).\n",
        "  return [1 if sigmoid(F(model, x)) > 0.5 else 0 for x in X]"
      ],
      "execution_count": 4,
      "outputs": []
    },
    {
      "cell_type": "markdown",
      "metadata": {
        "id": "Z55vHSWOIVy3"
      },
      "source": [
        "# Iris Dataset"
      ]
    },
    {
      "cell_type": "code",
      "metadata": {
        "id": "HvQKC67QIcip"
      },
      "source": [
        "import pandas as pd # I will be using pandas for the csv file reading."
      ],
      "execution_count": 5,
      "outputs": []
    },
    {
      "cell_type": "markdown",
      "metadata": {
        "id": "9lV7dPCuLiyn"
      },
      "source": [
        "## Reading Data from CSV file"
      ]
    },
    {
      "cell_type": "markdown",
      "metadata": {
        "id": "rtw8n7g9Lmrv"
      },
      "source": [
        "I placed the dataset in a Github repository and I am using pandas to read the csv file from the github url into a dataframe. I had to define the names of the features and label as they were not included in the file."
      ]
    },
    {
      "cell_type": "code",
      "metadata": {
        "colab": {
          "base_uri": "https://localhost:8080/"
        },
        "id": "OUt3TrGPIllO",
        "outputId": "1d95c876-0fbc-4a36-c062-96f7f37f73eb"
      },
      "source": [
        "data = pd.read_csv('https://raw.githubusercontent.com/JohnEaganFS/CSCI191T/main/datasets/iris.data.csv', names=[\"Sepal Length\", \"Sepal Width\", \"Petal Length\", \"Petal Width\", \"Class\"])\n",
        "print(data) # Confirming the data has been read properly."
      ],
      "execution_count": 6,
      "outputs": [
        {
          "output_type": "stream",
          "name": "stdout",
          "text": [
            "     Sepal Length  Sepal Width  Petal Length  Petal Width           Class\n",
            "0             5.1          3.5           1.4          0.2     Iris-setosa\n",
            "1             4.9          3.0           1.4          0.2     Iris-setosa\n",
            "2             4.7          3.2           1.3          0.2     Iris-setosa\n",
            "3             4.6          3.1           1.5          0.2     Iris-setosa\n",
            "4             5.0          3.6           1.4          0.2     Iris-setosa\n",
            "..            ...          ...           ...          ...             ...\n",
            "145           6.7          3.0           5.2          2.3  Iris-virginica\n",
            "146           6.3          2.5           5.0          1.9  Iris-virginica\n",
            "147           6.5          3.0           5.2          2.0  Iris-virginica\n",
            "148           6.2          3.4           5.4          2.3  Iris-virginica\n",
            "149           5.9          3.0           5.1          1.8  Iris-virginica\n",
            "\n",
            "[150 rows x 5 columns]\n"
          ]
        }
      ]
    },
    {
      "cell_type": "code",
      "metadata": {
        "colab": {
          "base_uri": "https://localhost:8080/"
        },
        "id": "ct0cDBmiBuzK",
        "outputId": "2e448249-a18d-4c0d-a159-037f50297468"
      },
      "source": [
        "data = data.values.tolist() # Converting the dataframe into a normal list\n",
        "print(data)"
      ],
      "execution_count": 7,
      "outputs": [
        {
          "output_type": "stream",
          "name": "stdout",
          "text": [
            "[[5.1, 3.5, 1.4, 0.2, 'Iris-setosa'], [4.9, 3.0, 1.4, 0.2, 'Iris-setosa'], [4.7, 3.2, 1.3, 0.2, 'Iris-setosa'], [4.6, 3.1, 1.5, 0.2, 'Iris-setosa'], [5.0, 3.6, 1.4, 0.2, 'Iris-setosa'], [5.4, 3.9, 1.7, 0.4, 'Iris-setosa'], [4.6, 3.4, 1.4, 0.3, 'Iris-setosa'], [5.0, 3.4, 1.5, 0.2, 'Iris-setosa'], [4.4, 2.9, 1.4, 0.2, 'Iris-setosa'], [4.9, 3.1, 1.5, 0.1, 'Iris-setosa'], [5.4, 3.7, 1.5, 0.2, 'Iris-setosa'], [4.8, 3.4, 1.6, 0.2, 'Iris-setosa'], [4.8, 3.0, 1.4, 0.1, 'Iris-setosa'], [4.3, 3.0, 1.1, 0.1, 'Iris-setosa'], [5.8, 4.0, 1.2, 0.2, 'Iris-setosa'], [5.7, 4.4, 1.5, 0.4, 'Iris-setosa'], [5.4, 3.9, 1.3, 0.4, 'Iris-setosa'], [5.1, 3.5, 1.4, 0.3, 'Iris-setosa'], [5.7, 3.8, 1.7, 0.3, 'Iris-setosa'], [5.1, 3.8, 1.5, 0.3, 'Iris-setosa'], [5.4, 3.4, 1.7, 0.2, 'Iris-setosa'], [5.1, 3.7, 1.5, 0.4, 'Iris-setosa'], [4.6, 3.6, 1.0, 0.2, 'Iris-setosa'], [5.1, 3.3, 1.7, 0.5, 'Iris-setosa'], [4.8, 3.4, 1.9, 0.2, 'Iris-setosa'], [5.0, 3.0, 1.6, 0.2, 'Iris-setosa'], [5.0, 3.4, 1.6, 0.4, 'Iris-setosa'], [5.2, 3.5, 1.5, 0.2, 'Iris-setosa'], [5.2, 3.4, 1.4, 0.2, 'Iris-setosa'], [4.7, 3.2, 1.6, 0.2, 'Iris-setosa'], [4.8, 3.1, 1.6, 0.2, 'Iris-setosa'], [5.4, 3.4, 1.5, 0.4, 'Iris-setosa'], [5.2, 4.1, 1.5, 0.1, 'Iris-setosa'], [5.5, 4.2, 1.4, 0.2, 'Iris-setosa'], [4.9, 3.1, 1.5, 0.1, 'Iris-setosa'], [5.0, 3.2, 1.2, 0.2, 'Iris-setosa'], [5.5, 3.5, 1.3, 0.2, 'Iris-setosa'], [4.9, 3.1, 1.5, 0.1, 'Iris-setosa'], [4.4, 3.0, 1.3, 0.2, 'Iris-setosa'], [5.1, 3.4, 1.5, 0.2, 'Iris-setosa'], [5.0, 3.5, 1.3, 0.3, 'Iris-setosa'], [4.5, 2.3, 1.3, 0.3, 'Iris-setosa'], [4.4, 3.2, 1.3, 0.2, 'Iris-setosa'], [5.0, 3.5, 1.6, 0.6, 'Iris-setosa'], [5.1, 3.8, 1.9, 0.4, 'Iris-setosa'], [4.8, 3.0, 1.4, 0.3, 'Iris-setosa'], [5.1, 3.8, 1.6, 0.2, 'Iris-setosa'], [4.6, 3.2, 1.4, 0.2, 'Iris-setosa'], [5.3, 3.7, 1.5, 0.2, 'Iris-setosa'], [5.0, 3.3, 1.4, 0.2, 'Iris-setosa'], [7.0, 3.2, 4.7, 1.4, 'Iris-versicolor'], [6.4, 3.2, 4.5, 1.5, 'Iris-versicolor'], [6.9, 3.1, 4.9, 1.5, 'Iris-versicolor'], [5.5, 2.3, 4.0, 1.3, 'Iris-versicolor'], [6.5, 2.8, 4.6, 1.5, 'Iris-versicolor'], [5.7, 2.8, 4.5, 1.3, 'Iris-versicolor'], [6.3, 3.3, 4.7, 1.6, 'Iris-versicolor'], [4.9, 2.4, 3.3, 1.0, 'Iris-versicolor'], [6.6, 2.9, 4.6, 1.3, 'Iris-versicolor'], [5.2, 2.7, 3.9, 1.4, 'Iris-versicolor'], [5.0, 2.0, 3.5, 1.0, 'Iris-versicolor'], [5.9, 3.0, 4.2, 1.5, 'Iris-versicolor'], [6.0, 2.2, 4.0, 1.0, 'Iris-versicolor'], [6.1, 2.9, 4.7, 1.4, 'Iris-versicolor'], [5.6, 2.9, 3.6, 1.3, 'Iris-versicolor'], [6.7, 3.1, 4.4, 1.4, 'Iris-versicolor'], [5.6, 3.0, 4.5, 1.5, 'Iris-versicolor'], [5.8, 2.7, 4.1, 1.0, 'Iris-versicolor'], [6.2, 2.2, 4.5, 1.5, 'Iris-versicolor'], [5.6, 2.5, 3.9, 1.1, 'Iris-versicolor'], [5.9, 3.2, 4.8, 1.8, 'Iris-versicolor'], [6.1, 2.8, 4.0, 1.3, 'Iris-versicolor'], [6.3, 2.5, 4.9, 1.5, 'Iris-versicolor'], [6.1, 2.8, 4.7, 1.2, 'Iris-versicolor'], [6.4, 2.9, 4.3, 1.3, 'Iris-versicolor'], [6.6, 3.0, 4.4, 1.4, 'Iris-versicolor'], [6.8, 2.8, 4.8, 1.4, 'Iris-versicolor'], [6.7, 3.0, 5.0, 1.7, 'Iris-versicolor'], [6.0, 2.9, 4.5, 1.5, 'Iris-versicolor'], [5.7, 2.6, 3.5, 1.0, 'Iris-versicolor'], [5.5, 2.4, 3.8, 1.1, 'Iris-versicolor'], [5.5, 2.4, 3.7, 1.0, 'Iris-versicolor'], [5.8, 2.7, 3.9, 1.2, 'Iris-versicolor'], [6.0, 2.7, 5.1, 1.6, 'Iris-versicolor'], [5.4, 3.0, 4.5, 1.5, 'Iris-versicolor'], [6.0, 3.4, 4.5, 1.6, 'Iris-versicolor'], [6.7, 3.1, 4.7, 1.5, 'Iris-versicolor'], [6.3, 2.3, 4.4, 1.3, 'Iris-versicolor'], [5.6, 3.0, 4.1, 1.3, 'Iris-versicolor'], [5.5, 2.5, 4.0, 1.3, 'Iris-versicolor'], [5.5, 2.6, 4.4, 1.2, 'Iris-versicolor'], [6.1, 3.0, 4.6, 1.4, 'Iris-versicolor'], [5.8, 2.6, 4.0, 1.2, 'Iris-versicolor'], [5.0, 2.3, 3.3, 1.0, 'Iris-versicolor'], [5.6, 2.7, 4.2, 1.3, 'Iris-versicolor'], [5.7, 3.0, 4.2, 1.2, 'Iris-versicolor'], [5.7, 2.9, 4.2, 1.3, 'Iris-versicolor'], [6.2, 2.9, 4.3, 1.3, 'Iris-versicolor'], [5.1, 2.5, 3.0, 1.1, 'Iris-versicolor'], [5.7, 2.8, 4.1, 1.3, 'Iris-versicolor'], [6.3, 3.3, 6.0, 2.5, 'Iris-virginica'], [5.8, 2.7, 5.1, 1.9, 'Iris-virginica'], [7.1, 3.0, 5.9, 2.1, 'Iris-virginica'], [6.3, 2.9, 5.6, 1.8, 'Iris-virginica'], [6.5, 3.0, 5.8, 2.2, 'Iris-virginica'], [7.6, 3.0, 6.6, 2.1, 'Iris-virginica'], [4.9, 2.5, 4.5, 1.7, 'Iris-virginica'], [7.3, 2.9, 6.3, 1.8, 'Iris-virginica'], [6.7, 2.5, 5.8, 1.8, 'Iris-virginica'], [7.2, 3.6, 6.1, 2.5, 'Iris-virginica'], [6.5, 3.2, 5.1, 2.0, 'Iris-virginica'], [6.4, 2.7, 5.3, 1.9, 'Iris-virginica'], [6.8, 3.0, 5.5, 2.1, 'Iris-virginica'], [5.7, 2.5, 5.0, 2.0, 'Iris-virginica'], [5.8, 2.8, 5.1, 2.4, 'Iris-virginica'], [6.4, 3.2, 5.3, 2.3, 'Iris-virginica'], [6.5, 3.0, 5.5, 1.8, 'Iris-virginica'], [7.7, 3.8, 6.7, 2.2, 'Iris-virginica'], [7.7, 2.6, 6.9, 2.3, 'Iris-virginica'], [6.0, 2.2, 5.0, 1.5, 'Iris-virginica'], [6.9, 3.2, 5.7, 2.3, 'Iris-virginica'], [5.6, 2.8, 4.9, 2.0, 'Iris-virginica'], [7.7, 2.8, 6.7, 2.0, 'Iris-virginica'], [6.3, 2.7, 4.9, 1.8, 'Iris-virginica'], [6.7, 3.3, 5.7, 2.1, 'Iris-virginica'], [7.2, 3.2, 6.0, 1.8, 'Iris-virginica'], [6.2, 2.8, 4.8, 1.8, 'Iris-virginica'], [6.1, 3.0, 4.9, 1.8, 'Iris-virginica'], [6.4, 2.8, 5.6, 2.1, 'Iris-virginica'], [7.2, 3.0, 5.8, 1.6, 'Iris-virginica'], [7.4, 2.8, 6.1, 1.9, 'Iris-virginica'], [7.9, 3.8, 6.4, 2.0, 'Iris-virginica'], [6.4, 2.8, 5.6, 2.2, 'Iris-virginica'], [6.3, 2.8, 5.1, 1.5, 'Iris-virginica'], [6.1, 2.6, 5.6, 1.4, 'Iris-virginica'], [7.7, 3.0, 6.1, 2.3, 'Iris-virginica'], [6.3, 3.4, 5.6, 2.4, 'Iris-virginica'], [6.4, 3.1, 5.5, 1.8, 'Iris-virginica'], [6.0, 3.0, 4.8, 1.8, 'Iris-virginica'], [6.9, 3.1, 5.4, 2.1, 'Iris-virginica'], [6.7, 3.1, 5.6, 2.4, 'Iris-virginica'], [6.9, 3.1, 5.1, 2.3, 'Iris-virginica'], [5.8, 2.7, 5.1, 1.9, 'Iris-virginica'], [6.8, 3.2, 5.9, 2.3, 'Iris-virginica'], [6.7, 3.3, 5.7, 2.5, 'Iris-virginica'], [6.7, 3.0, 5.2, 2.3, 'Iris-virginica'], [6.3, 2.5, 5.0, 1.9, 'Iris-virginica'], [6.5, 3.0, 5.2, 2.0, 'Iris-virginica'], [6.2, 3.4, 5.4, 2.3, 'Iris-virginica'], [5.9, 3.0, 5.1, 1.8, 'Iris-virginica']]\n"
          ]
        }
      ]
    },
    {
      "cell_type": "markdown",
      "metadata": {
        "id": "4ZKyYAkSRdys"
      },
      "source": [
        "## Visualizing the Data"
      ]
    },
    {
      "cell_type": "code",
      "metadata": {
        "id": "p7fsXk-BRyXv"
      },
      "source": [
        "dataVisual = [((1,x1,x2,x3,x4), species) for (x1,x2,x3,x4,species) in data]"
      ],
      "execution_count": 8,
      "outputs": []
    },
    {
      "cell_type": "code",
      "metadata": {
        "id": "sRYAJOWMRh5m"
      },
      "source": [
        "def plotAllClasses(data):\n",
        "  X = [x for (x,r) in data]\n",
        "  R = [r for (x,r) in data]\n",
        "\n",
        "  random.seed(38)\n",
        "\n",
        "  ax = plt.axes(projection = '3d')\n",
        "  plt.xlabel(\"Sepal Length\")\n",
        "  plt.ylabel(\"Sepal Width\")\n",
        "  ax.set_zlabel(\"Petal Length\")\n",
        "  classes = list(set(R)) # remove duplicates to just get classes\n",
        "  for i in classes:\n",
        "    Xr = [x for (x,r) in data if r == i]\n",
        "    x1r = [x[1] for x in Xr]\n",
        "    x2r = [x[2] for x in Xr]\n",
        "    x3r = [x[3] for x in Xr]\n",
        "    x4r = [x[4] for x in Xr]\n",
        "    rgb = [random.random(),random.random(),random.random()]\n",
        "    ax.scatter3D(x1r, x2r, x3r, color=rgb, s=[50*x for x in x4r])\n",
        "    ax.legend(classes)\n",
        "\n",
        "  plt.show()"
      ],
      "execution_count": 9,
      "outputs": []
    },
    {
      "cell_type": "markdown",
      "metadata": {
        "id": "q0CAxa4rVf5W"
      },
      "source": [
        "In this plot, the sepal length, sepal width, and petal length are presented using the axes. The petal width is represented by the size of the marker for each data point. Each species of iris is a different color."
      ]
    },
    {
      "cell_type": "code",
      "metadata": {
        "colab": {
          "base_uri": "https://localhost:8080/",
          "height": 248
        },
        "id": "8PZXKaY0SLL4",
        "outputId": "326a08da-5f65-442e-adfe-1ca831afc95e"
      },
      "source": [
        "plotAllClasses(dataVisual)"
      ],
      "execution_count": 10,
      "outputs": [
        {
          "output_type": "display_data",
          "data": {
            "image/png": "[encoded data removed]",
            "text/plain": [
              "<Figure size 432x288 with 1 Axes>"
            ]
          },
          "metadata": {
            "needs_background": "light"
          }
        }
      ]
    },
    {
      "cell_type": "markdown",
      "metadata": {
        "id": "XYjUwWoyg_hT"
      },
      "source": [
        "Interactive form of the data above. Plotly has the iris data set already prepared as a pandas dataframe. In this graph, the petal length is instead being represented through the size of the markers."
      ]
    },
    {
      "cell_type": "code",
      "metadata": {
        "colab": {
          "base_uri": "https://localhost:8080/",
          "height": 542
        },
        "id": "H7fHjHSueezA",
        "outputId": "3af0c455-3e87-49f4-b8a1-3f74b98df212"
      },
      "source": [
        "import plotly.express as px\n",
        "df = px.data.iris()\n",
        "fig = px.scatter_3d(df, x='sepal_length', y='sepal_width', z='petal_width',\n",
        "                    size='petal_length', color='species')\n",
        "fig.show()\n"
      ],
      "execution_count": 11,
      "outputs": [
        {
          "output_type": "display_data",
          "data": {
            "text/html": [
              "<html>\n",
              "<head><meta charset=\"utf-8\" /></head>\n",
              "<body>\n",
              "    <div>\n",
              "            <script src=\"https://cdnjs.cloudflare.com/ajax/libs/mathjax/2.7.5/MathJax.js?config=TeX-AMS-MML_SVG\"></script><script type=\"text/javascript\">if (window.MathJax) {MathJax.Hub.Config({SVG: {font: \"STIX-Web\"}});}</script>\n",
              "                <script type=\"text/javascript\">window.PlotlyConfig = {MathJaxConfig: 'local'};</script>\n",
              "        <script src=\"https://cdn.plot.ly/plotly-latest.min.js\"></script>    \n",
              "            <div id=\"bd978687-fc1b-407f-bc0b-b6805d99bf80\" class=\"plotly-graph-div\" style=\"height:525px; width:100%;\"></div>\n",
              "            <script type=\"text/javascript\">\n",
              "                \n",
              "                    window.PLOTLYENV=window.PLOTLYENV || {};\n",
              "                    \n",
              "                if (document.getElementById(\"bd978687-fc1b-407f-bc0b-b6805d99bf80\")) {\n",
              "                    Plotly.newPlot(\n",
              "                        'bd978687-fc1b-407f-bc0b-b6805d99bf80',\n",
              "                        [{\"hoverlabel\": {\"namelength\": 0}, \"hovertemplate\": \"species=setosa<br>sepal_length=%{x}<br>sepal_width=%{y}<br>petal_width=%{z}<br>petal_length=%{marker.size}\", \"legendgroup\": \"species=setosa\", \"marker\": {\"color\": \"#636efa\", \"size\": [1.4, 1.4, 1.3, 1.5, 1.4, 1.7, 1.4, 1.5, 1.4, 1.5, 1.5, 1.6, 1.4, 1.1, 1.2, 1.5, 1.3, 1.4, 1.7, 1.5, 1.7, 1.5, 1.0, 1.7, 1.9, 1.6, 1.6, 1.5, 1.4, 1.6, 1.6, 1.5, 1.5, 1.4, 1.5, 1.2, 1.3, 1.5, 1.3, 1.5, 1.3, 1.3, 1.3, 1.6, 1.9, 1.4, 1.6, 1.4, 1.5, 1.4], \"sizemode\": \"area\", \"sizeref\": 0.01725, \"symbol\": \"circle\"}, \"mode\": \"markers\", \"name\": \"species=setosa\", \"scene\": \"scene\", \"showlegend\": true, \"type\": \"scatter3d\", \"x\": [5.1, 4.9, 4.7, 4.6, 5.0, 5.4, 4.6, 5.0, 4.4, 4.9, 5.4, 4.8, 4.8, 4.3, 5.8, 5.7, 5.4, 5.1, 5.7, 5.1, 5.4, 5.1, 4.6, 5.1, 4.8, 5.0, 5.0, 5.2, 5.2, 4.7, 4.8, 5.4, 5.2, 5.5, 4.9, 5.0, 5.5, 4.9, 4.4, 5.1, 5.0, 4.5, 4.4, 5.0, 5.1, 4.8, 5.1, 4.6, 5.3, 5.0], \"y\": [3.5, 3.0, 3.2, 3.1, 3.6, 3.9, 3.4, 3.4, 2.9, 3.1, 3.7, 3.4, 3.0, 3.0, 4.0, 4.4, 3.9, 3.5, 3.8, 3.8, 3.4, 3.7, 3.6, 3.3, 3.4, 3.0, 3.4, 3.5, 3.4, 3.2, 3.1, 3.4, 4.1, 4.2, 3.1, 3.2, 3.5, 3.1, 3.0, 3.4, 3.5, 2.3, 3.2, 3.5, 3.8, 3.0, 3.8, 3.2, 3.7, 3.3], \"z\": [0.2, 0.2, 0.2, 0.2, 0.2, 0.4, 0.3, 0.2, 0.2, 0.1, 0.2, 0.2, 0.1, 0.1, 0.2, 0.4, 0.4, 0.3, 0.3, 0.3, 0.2, 0.4, 0.2, 0.5, 0.2, 0.2, 0.4, 0.2, 0.2, 0.2, 0.2, 0.4, 0.1, 0.2, 0.1, 0.2, 0.2, 0.1, 0.2, 0.2, 0.3, 0.3, 0.2, 0.6, 0.4, 0.3, 0.2, 0.2, 0.2, 0.2]}, {\"hoverlabel\": {\"namelength\": 0}, \"hovertemplate\": \"species=versicolor<br>sepal_length=%{x}<br>sepal_width=%{y}<br>petal_width=%{z}<br>petal_length=%{marker.size}\", \"legendgroup\": \"species=versicolor\", \"marker\": {\"color\": \"#EF553B\", \"size\": [4.7, 4.5, 4.9, 4.0, 4.6, 4.5, 4.7, 3.3, 4.6, 3.9, 3.5, 4.2, 4.0, 4.7, 3.6, 4.4, 4.5, 4.1, 4.5, 3.9, 4.8, 4.0, 4.9, 4.7, 4.3, 4.4, 4.8, 5.0, 4.5, 3.5, 3.8, 3.7, 3.9, 5.1, 4.5, 4.5, 4.7, 4.4, 4.1, 4.0, 4.4, 4.6, 4.0, 3.3, 4.2, 4.2, 4.2, 4.3, 3.0, 4.1], \"sizemode\": \"area\", \"sizeref\": 0.01725, \"symbol\": \"circle\"}, \"mode\": \"markers\", \"name\": \"species=versicolor\", \"scene\": \"scene\", \"showlegend\": true, \"type\": \"scatter3d\", \"x\": [7.0, 6.4, 6.9, 5.5, 6.5, 5.7, 6.3, 4.9, 6.6, 5.2, 5.0, 5.9, 6.0, 6.1, 5.6, 6.7, 5.6, 5.8, 6.2, 5.6, 5.9, 6.1, 6.3, 6.1, 6.4, 6.6, 6.8, 6.7, 6.0, 5.7, 5.5, 5.5, 5.8, 6.0, 5.4, 6.0, 6.7, 6.3, 5.6, 5.5, 5.5, 6.1, 5.8, 5.0, 5.6, 5.7, 5.7, 6.2, 5.1, 5.7], \"y\": [3.2, 3.2, 3.1, 2.3, 2.8, 2.8, 3.3, 2.4, 2.9, 2.7, 2.0, 3.0, 2.2, 2.9, 2.9, 3.1, 3.0, 2.7, 2.2, 2.5, 3.2, 2.8, 2.5, 2.8, 2.9, 3.0, 2.8, 3.0, 2.9, 2.6, 2.4, 2.4, 2.7, 2.7, 3.0, 3.4, 3.1, 2.3, 3.0, 2.5, 2.6, 3.0, 2.6, 2.3, 2.7, 3.0, 2.9, 2.9, 2.5, 2.8], \"z\": [1.4, 1.5, 1.5, 1.3, 1.5, 1.3, 1.6, 1.0, 1.3, 1.4, 1.0, 1.5, 1.0, 1.4, 1.3, 1.4, 1.5, 1.0, 1.5, 1.1, 1.8, 1.3, 1.5, 1.2, 1.3, 1.4, 1.4, 1.7, 1.5, 1.0, 1.1, 1.0, 1.2, 1.6, 1.5, 1.6, 1.5, 1.3, 1.3, 1.3, 1.2, 1.4, 1.2, 1.0, 1.3, 1.2, 1.3, 1.3, 1.1, 1.3]}, {\"hoverlabel\": {\"namelength\": 0}, \"hovertemplate\": \"species=virginica<br>sepal_length=%{x}<br>sepal_width=%{y}<br>petal_width=%{z}<br>petal_length=%{marker.size}\", \"legendgroup\": \"species=virginica\", \"marker\": {\"color\": \"#00cc96\", \"size\": [6.0, 5.1, 5.9, 5.6, 5.8, 6.6, 4.5, 6.3, 5.8, 6.1, 5.1, 5.3, 5.5, 5.0, 5.1, 5.3, 5.5, 6.7, 6.9, 5.0, 5.7, 4.9, 6.7, 4.9, 5.7, 6.0, 4.8, 4.9, 5.6, 5.8, 6.1, 6.4, 5.6, 5.1, 5.6, 6.1, 5.6, 5.5, 4.8, 5.4, 5.6, 5.1, 5.1, 5.9, 5.7, 5.2, 5.0, 5.2, 5.4, 5.1], \"sizemode\": \"area\", \"sizeref\": 0.01725, \"symbol\": \"circle\"}, \"mode\": \"markers\", \"name\": \"species=virginica\", \"scene\": \"scene\", \"showlegend\": true, \"type\": \"scatter3d\", \"x\": [6.3, 5.8, 7.1, 6.3, 6.5, 7.6, 4.9, 7.3, 6.7, 7.2, 6.5, 6.4, 6.8, 5.7, 5.8, 6.4, 6.5, 7.7, 7.7, 6.0, 6.9, 5.6, 7.7, 6.3, 6.7, 7.2, 6.2, 6.1, 6.4, 7.2, 7.4, 7.9, 6.4, 6.3, 6.1, 7.7, 6.3, 6.4, 6.0, 6.9, 6.7, 6.9, 5.8, 6.8, 6.7, 6.7, 6.3, 6.5, 6.2, 5.9], \"y\": [3.3, 2.7, 3.0, 2.9, 3.0, 3.0, 2.5, 2.9, 2.5, 3.6, 3.2, 2.7, 3.0, 2.5, 2.8, 3.2, 3.0, 3.8, 2.6, 2.2, 3.2, 2.8, 2.8, 2.7, 3.3, 3.2, 2.8, 3.0, 2.8, 3.0, 2.8, 3.8, 2.8, 2.8, 2.6, 3.0, 3.4, 3.1, 3.0, 3.1, 3.1, 3.1, 2.7, 3.2, 3.3, 3.0, 2.5, 3.0, 3.4, 3.0], \"z\": [2.5, 1.9, 2.1, 1.8, 2.2, 2.1, 1.7, 1.8, 1.8, 2.5, 2.0, 1.9, 2.1, 2.0, 2.4, 2.3, 1.8, 2.2, 2.3, 1.5, 2.3, 2.0, 2.0, 1.8, 2.1, 1.8, 1.8, 1.8, 2.1, 1.6, 1.9, 2.0, 2.2, 1.5, 1.4, 2.3, 2.4, 1.8, 1.8, 2.1, 2.4, 2.3, 1.9, 2.3, 2.5, 2.3, 1.9, 2.0, 2.3, 1.8]}],\n",
              "                        {\"legend\": {\"itemsizing\": \"constant\", \"tracegroupgap\": 0}, \"margin\": {\"t\": 60}, \"scene\": {\"domain\": {\"x\": [0.0, 1.0], \"y\": [0.0, 1.0]}, \"xaxis\": {\"title\": {\"text\": \"sepal_length\"}}, \"yaxis\": {\"title\": {\"text\": \"sepal_width\"}}, \"zaxis\": {\"title\": {\"text\": \"petal_width\"}}}, \"template\": {\"data\": {\"bar\": [{\"error_x\": {\"color\": \"#2a3f5f\"}, \"error_y\": {\"color\": \"#2a3f5f\"}, \"marker\": {\"line\": {\"color\": \"#E5ECF6\", \"width\": 0.5}}, \"type\": \"bar\"}], \"barpolar\": [{\"marker\": {\"line\": {\"color\": \"#E5ECF6\", \"width\": 0.5}}, \"type\": \"barpolar\"}], \"carpet\": [{\"aaxis\": {\"endlinecolor\": \"#2a3f5f\", \"gridcolor\": \"white\", \"linecolor\": \"white\", \"minorgridcolor\": \"white\", \"startlinecolor\": \"#2a3f5f\"}, \"baxis\": {\"endlinecolor\": \"#2a3f5f\", \"gridcolor\": \"white\", \"linecolor\": \"white\", \"minorgridcolor\": \"white\", \"startlinecolor\": \"#2a3f5f\"}, \"type\": \"carpet\"}], \"choropleth\": [{\"colorbar\": {\"outlinewidth\": 0, \"ticks\": \"\"}, \"type\": \"choropleth\"}], \"contour\": [{\"colorbar\": {\"outlinewidth\": 0, \"ticks\": \"\"}, \"colorscale\": [[0.0, \"#0d0887\"], [0.1111111111111111, \"#46039f\"], [0.2222222222222222, \"#7201a8\"], [0.3333333333333333, \"#9c179e\"], [0.4444444444444444, \"#bd3786\"], [0.5555555555555556, \"#d8576b\"], [0.6666666666666666, \"#ed7953\"], [0.7777777777777778, \"#fb9f3a\"], [0.8888888888888888, \"#fdca26\"], [1.0, \"#f0f921\"]], \"type\": \"contour\"}], \"contourcarpet\": [{\"colorbar\": {\"outlinewidth\": 0, \"ticks\": \"\"}, \"type\": \"contourcarpet\"}], \"heatmap\": [{\"colorbar\": {\"outlinewidth\": 0, \"ticks\": \"\"}, \"colorscale\": [[0.0, \"#0d0887\"], [0.1111111111111111, \"#46039f\"], [0.2222222222222222, \"#7201a8\"], [0.3333333333333333, \"#9c179e\"], [0.4444444444444444, \"#bd3786\"], [0.5555555555555556, \"#d8576b\"], [0.6666666666666666, \"#ed7953\"], [0.7777777777777778, \"#fb9f3a\"], [0.8888888888888888, \"#fdca26\"], [1.0, \"#f0f921\"]], \"type\": \"heatmap\"}], \"heatmapgl\": [{\"colorbar\": {\"outlinewidth\": 0, \"ticks\": \"\"}, \"colorscale\": [[0.0, \"#0d0887\"], [0.1111111111111111, \"#46039f\"], [0.2222222222222222, \"#7201a8\"], [0.3333333333333333, \"#9c179e\"], [0.4444444444444444, \"#bd3786\"], [0.5555555555555556, \"#d8576b\"], [0.6666666666666666, \"#ed7953\"], [0.7777777777777778, \"#fb9f3a\"], [0.8888888888888888, \"#fdca26\"], [1.0, \"#f0f921\"]], \"type\": \"heatmapgl\"}], \"histogram\": [{\"marker\": {\"colorbar\": {\"outlinewidth\": 0, \"ticks\": \"\"}}, \"type\": \"histogram\"}], \"histogram2d\": [{\"colorbar\": {\"outlinewidth\": 0, \"ticks\": \"\"}, \"colorscale\": [[0.0, \"#0d0887\"], [0.1111111111111111, \"#46039f\"], [0.2222222222222222, \"#7201a8\"], [0.3333333333333333, \"#9c179e\"], [0.4444444444444444, \"#bd3786\"], [0.5555555555555556, \"#d8576b\"], [0.6666666666666666, \"#ed7953\"], [0.7777777777777778, \"#fb9f3a\"], [0.8888888888888888, \"#fdca26\"], [1.0, \"#f0f921\"]], \"type\": \"histogram2d\"}], \"histogram2dcontour\": [{\"colorbar\": {\"outlinewidth\": 0, \"ticks\": \"\"}, \"colorscale\": [[0.0, \"#0d0887\"], [0.1111111111111111, \"#46039f\"], [0.2222222222222222, \"#7201a8\"], [0.3333333333333333, \"#9c179e\"], [0.4444444444444444, \"#bd3786\"], [0.5555555555555556, \"#d8576b\"], [0.6666666666666666, \"#ed7953\"], [0.7777777777777778, \"#fb9f3a\"], [0.8888888888888888, \"#fdca26\"], [1.0, \"#f0f921\"]], \"type\": \"histogram2dcontour\"}], \"mesh3d\": [{\"colorbar\": {\"outlinewidth\": 0, \"ticks\": \"\"}, \"type\": \"mesh3d\"}], \"parcoords\": [{\"line\": {\"colorbar\": {\"outlinewidth\": 0, \"ticks\": \"\"}}, \"type\": \"parcoords\"}], \"pie\": [{\"automargin\": true, \"type\": \"pie\"}], \"scatter\": [{\"marker\": {\"colorbar\": {\"outlinewidth\": 0, \"ticks\": \"\"}}, \"type\": \"scatter\"}], \"scatter3d\": [{\"line\": {\"colorbar\": {\"outlinewidth\": 0, \"ticks\": \"\"}}, \"marker\": {\"colorbar\": {\"outlinewidth\": 0, \"ticks\": \"\"}}, \"type\": \"scatter3d\"}], \"scattercarpet\": [{\"marker\": {\"colorbar\": {\"outlinewidth\": 0, \"ticks\": \"\"}}, \"type\": \"scattercarpet\"}], \"scattergeo\": [{\"marker\": {\"colorbar\": {\"outlinewidth\": 0, \"ticks\": \"\"}}, \"type\": \"scattergeo\"}], \"scattergl\": [{\"marker\": {\"colorbar\": {\"outlinewidth\": 0, \"ticks\": \"\"}}, \"type\": \"scattergl\"}], \"scattermapbox\": [{\"marker\": {\"colorbar\": {\"outlinewidth\": 0, \"ticks\": \"\"}}, \"type\": \"scattermapbox\"}], \"scatterpolar\": [{\"marker\": {\"colorbar\": {\"outlinewidth\": 0, \"ticks\": \"\"}}, \"type\": \"scatterpolar\"}], \"scatterpolargl\": [{\"marker\": {\"colorbar\": {\"outlinewidth\": 0, \"ticks\": \"\"}}, \"type\": \"scatterpolargl\"}], \"scatterternary\": [{\"marker\": {\"colorbar\": {\"outlinewidth\": 0, \"ticks\": \"\"}}, \"type\": \"scatterternary\"}], \"surface\": [{\"colorbar\": {\"outlinewidth\": 0, \"ticks\": \"\"}, \"colorscale\": [[0.0, \"#0d0887\"], [0.1111111111111111, \"#46039f\"], [0.2222222222222222, \"#7201a8\"], [0.3333333333333333, \"#9c179e\"], [0.4444444444444444, \"#bd3786\"], [0.5555555555555556, \"#d8576b\"], [0.6666666666666666, \"#ed7953\"], [0.7777777777777778, \"#fb9f3a\"], [0.8888888888888888, \"#fdca26\"], [1.0, \"#f0f921\"]], \"type\": \"surface\"}], \"table\": [{\"cells\": {\"fill\": {\"color\": \"#EBF0F8\"}, \"line\": {\"color\": \"white\"}}, \"header\": {\"fill\": {\"color\": \"#C8D4E3\"}, \"line\": {\"color\": \"white\"}}, \"type\": \"table\"}]}, \"layout\": {\"annotationdefaults\": {\"arrowcolor\": \"#2a3f5f\", \"arrowhead\": 0, \"arrowwidth\": 1}, \"coloraxis\": {\"colorbar\": {\"outlinewidth\": 0, \"ticks\": \"\"}}, \"colorscale\": {\"diverging\": [[0, \"#8e0152\"], [0.1, \"#c51b7d\"], [0.2, \"#de77ae\"], [0.3, \"#f1b6da\"], [0.4, \"#fde0ef\"], [0.5, \"#f7f7f7\"], [0.6, \"#e6f5d0\"], [0.7, \"#b8e186\"], [0.8, \"#7fbc41\"], [0.9, \"#4d9221\"], [1, \"#276419\"]], \"sequential\": [[0.0, \"#0d0887\"], [0.1111111111111111, \"#46039f\"], [0.2222222222222222, \"#7201a8\"], [0.3333333333333333, \"#9c179e\"], [0.4444444444444444, \"#bd3786\"], [0.5555555555555556, \"#d8576b\"], [0.6666666666666666, \"#ed7953\"], [0.7777777777777778, \"#fb9f3a\"], [0.8888888888888888, \"#fdca26\"], [1.0, \"#f0f921\"]], \"sequentialminus\": [[0.0, \"#0d0887\"], [0.1111111111111111, \"#46039f\"], [0.2222222222222222, \"#7201a8\"], [0.3333333333333333, \"#9c179e\"], [0.4444444444444444, \"#bd3786\"], [0.5555555555555556, \"#d8576b\"], [0.6666666666666666, \"#ed7953\"], [0.7777777777777778, \"#fb9f3a\"], [0.8888888888888888, \"#fdca26\"], [1.0, \"#f0f921\"]]}, \"colorway\": [\"#636efa\", \"#EF553B\", \"#00cc96\", \"#ab63fa\", \"#FFA15A\", \"#19d3f3\", \"#FF6692\", \"#B6E880\", \"#FF97FF\", \"#FECB52\"], \"font\": {\"color\": \"#2a3f5f\"}, \"geo\": {\"bgcolor\": \"white\", \"lakecolor\": \"white\", \"landcolor\": \"#E5ECF6\", \"showlakes\": true, \"showland\": true, \"subunitcolor\": \"white\"}, \"hoverlabel\": {\"align\": \"left\"}, \"hovermode\": \"closest\", \"mapbox\": {\"style\": \"light\"}, \"paper_bgcolor\": \"white\", \"plot_bgcolor\": \"#E5ECF6\", \"polar\": {\"angularaxis\": {\"gridcolor\": \"white\", \"linecolor\": \"white\", \"ticks\": \"\"}, \"bgcolor\": \"#E5ECF6\", \"radialaxis\": {\"gridcolor\": \"white\", \"linecolor\": \"white\", \"ticks\": \"\"}}, \"scene\": {\"xaxis\": {\"backgroundcolor\": \"#E5ECF6\", \"gridcolor\": \"white\", \"gridwidth\": 2, \"linecolor\": \"white\", \"showbackground\": true, \"ticks\": \"\", \"zerolinecolor\": \"white\"}, \"yaxis\": {\"backgroundcolor\": \"#E5ECF6\", \"gridcolor\": \"white\", \"gridwidth\": 2, \"linecolor\": \"white\", \"showbackground\": true, \"ticks\": \"\", \"zerolinecolor\": \"white\"}, \"zaxis\": {\"backgroundcolor\": \"#E5ECF6\", \"gridcolor\": \"white\", \"gridwidth\": 2, \"linecolor\": \"white\", \"showbackground\": true, \"ticks\": \"\", \"zerolinecolor\": \"white\"}}, \"shapedefaults\": {\"line\": {\"color\": \"#2a3f5f\"}}, \"ternary\": {\"aaxis\": {\"gridcolor\": \"white\", \"linecolor\": \"white\", \"ticks\": \"\"}, \"baxis\": {\"gridcolor\": \"white\", \"linecolor\": \"white\", \"ticks\": \"\"}, \"bgcolor\": \"#E5ECF6\", \"caxis\": {\"gridcolor\": \"white\", \"linecolor\": \"white\", \"ticks\": \"\"}}, \"title\": {\"x\": 0.05}, \"xaxis\": {\"automargin\": true, \"gridcolor\": \"white\", \"linecolor\": \"white\", \"ticks\": \"\", \"title\": {\"standoff\": 15}, \"zerolinecolor\": \"white\", \"zerolinewidth\": 2}, \"yaxis\": {\"automargin\": true, \"gridcolor\": \"white\", \"linecolor\": \"white\", \"ticks\": \"\", \"title\": {\"standoff\": 15}, \"zerolinecolor\": \"white\", \"zerolinewidth\": 2}}}},\n",
              "                        {\"responsive\": true}\n",
              "                    ).then(function(){\n",
              "                            \n",
              "var gd = document.getElementById('bd978687-fc1b-407f-bc0b-b6805d99bf80');\n",
              "var x = new MutationObserver(function (mutations, observer) {{\n",
              "        var display = window.getComputedStyle(gd).display;\n",
              "        if (!display || display === 'none') {{\n",
              "            console.log([gd, 'removed!']);\n",
              "            Plotly.purge(gd);\n",
              "            observer.disconnect();\n",
              "        }}\n",
              "}});\n",
              "\n",
              "// Listen for the removal of the full notebook cells\n",
              "var notebookContainer = gd.closest('#notebook-container');\n",
              "if (notebookContainer) {{\n",
              "    x.observe(notebookContainer, {childList: true});\n",
              "}}\n",
              "\n",
              "// Listen for the clearing of the current output cell\n",
              "var outputEl = gd.closest('.output');\n",
              "if (outputEl) {{\n",
              "    x.observe(outputEl, {childList: true});\n",
              "}}\n",
              "\n",
              "                        })\n",
              "                };\n",
              "                \n",
              "            </script>\n",
              "        </div>\n",
              "</body>\n",
              "</html>"
            ]
          },
          "metadata": {}
        }
      ]
    },
    {
      "cell_type": "markdown",
      "metadata": {
        "id": "Q9q47hfbQTAP"
      },
      "source": [
        "## Linear Regression"
      ]
    },
    {
      "cell_type": "markdown",
      "metadata": {
        "id": "UAcc3OUKQbZY"
      },
      "source": [
        "To showcase Linear Regression, I'll be creating a model that predicts the petal length of an iris based off the other features (sepal length, sepal width, petal width) as well as the species of iris (setosa, versicolor, virginica).\n",
        "\n",
        "This section will also showcase how I deal with the categorical text data of the iris species feature."
      ]
    },
    {
      "cell_type": "markdown",
      "metadata": {
        "id": "nf9swqENTK_y"
      },
      "source": [
        "### Petal Length Model"
      ]
    },
    {
      "cell_type": "code",
      "metadata": {
        "id": "ovcvj_fiLZwR",
        "colab": {
          "base_uri": "https://localhost:8080/"
        },
        "outputId": "8057307f-985b-4dcb-a855-075e4196b498"
      },
      "source": [
        "# Constructing the data into a tuple containing a tuple of the feature values and the label value (petal length).\n",
        "dataPL = [((1,x1,x2,x3,species), petal_length) for (x1,x2,petal_length,x3,species) in data]\n",
        "print(dataPL)"
      ],
      "execution_count": 12,
      "outputs": [
        {
          "output_type": "stream",
          "name": "stdout",
          "text": [
            "[((1, 5.1, 3.5, 0.2, 'Iris-setosa'), 1.4), ((1, 4.9, 3.0, 0.2, 'Iris-setosa'), 1.4), ((1, 4.7, 3.2, 0.2, 'Iris-setosa'), 1.3), ((1, 4.6, 3.1, 0.2, 'Iris-setosa'), 1.5), ((1, 5.0, 3.6, 0.2, 'Iris-setosa'), 1.4), ((1, 5.4, 3.9, 0.4, 'Iris-setosa'), 1.7), ((1, 4.6, 3.4, 0.3, 'Iris-setosa'), 1.4), ((1, 5.0, 3.4, 0.2, 'Iris-setosa'), 1.5), ((1, 4.4, 2.9, 0.2, 'Iris-setosa'), 1.4), ((1, 4.9, 3.1, 0.1, 'Iris-setosa'), 1.5), ((1, 5.4, 3.7, 0.2, 'Iris-setosa'), 1.5), ((1, 4.8, 3.4, 0.2, 'Iris-setosa'), 1.6), ((1, 4.8, 3.0, 0.1, 'Iris-setosa'), 1.4), ((1, 4.3, 3.0, 0.1, 'Iris-setosa'), 1.1), ((1, 5.8, 4.0, 0.2, 'Iris-setosa'), 1.2), ((1, 5.7, 4.4, 0.4, 'Iris-setosa'), 1.5), ((1, 5.4, 3.9, 0.4, 'Iris-setosa'), 1.3), ((1, 5.1, 3.5, 0.3, 'Iris-setosa'), 1.4), ((1, 5.7, 3.8, 0.3, 'Iris-setosa'), 1.7), ((1, 5.1, 3.8, 0.3, 'Iris-setosa'), 1.5), ((1, 5.4, 3.4, 0.2, 'Iris-setosa'), 1.7), ((1, 5.1, 3.7, 0.4, 'Iris-setosa'), 1.5), ((1, 4.6, 3.6, 0.2, 'Iris-setosa'), 1.0), ((1, 5.1, 3.3, 0.5, 'Iris-setosa'), 1.7), ((1, 4.8, 3.4, 0.2, 'Iris-setosa'), 1.9), ((1, 5.0, 3.0, 0.2, 'Iris-setosa'), 1.6), ((1, 5.0, 3.4, 0.4, 'Iris-setosa'), 1.6), ((1, 5.2, 3.5, 0.2, 'Iris-setosa'), 1.5), ((1, 5.2, 3.4, 0.2, 'Iris-setosa'), 1.4), ((1, 4.7, 3.2, 0.2, 'Iris-setosa'), 1.6), ((1, 4.8, 3.1, 0.2, 'Iris-setosa'), 1.6), ((1, 5.4, 3.4, 0.4, 'Iris-setosa'), 1.5), ((1, 5.2, 4.1, 0.1, 'Iris-setosa'), 1.5), ((1, 5.5, 4.2, 0.2, 'Iris-setosa'), 1.4), ((1, 4.9, 3.1, 0.1, 'Iris-setosa'), 1.5), ((1, 5.0, 3.2, 0.2, 'Iris-setosa'), 1.2), ((1, 5.5, 3.5, 0.2, 'Iris-setosa'), 1.3), ((1, 4.9, 3.1, 0.1, 'Iris-setosa'), 1.5), ((1, 4.4, 3.0, 0.2, 'Iris-setosa'), 1.3), ((1, 5.1, 3.4, 0.2, 'Iris-setosa'), 1.5), ((1, 5.0, 3.5, 0.3, 'Iris-setosa'), 1.3), ((1, 4.5, 2.3, 0.3, 'Iris-setosa'), 1.3), ((1, 4.4, 3.2, 0.2, 'Iris-setosa'), 1.3), ((1, 5.0, 3.5, 0.6, 'Iris-setosa'), 1.6), ((1, 5.1, 3.8, 0.4, 'Iris-setosa'), 1.9), ((1, 4.8, 3.0, 0.3, 'Iris-setosa'), 1.4), ((1, 5.1, 3.8, 0.2, 'Iris-setosa'), 1.6), ((1, 4.6, 3.2, 0.2, 'Iris-setosa'), 1.4), ((1, 5.3, 3.7, 0.2, 'Iris-setosa'), 1.5), ((1, 5.0, 3.3, 0.2, 'Iris-setosa'), 1.4), ((1, 7.0, 3.2, 1.4, 'Iris-versicolor'), 4.7), ((1, 6.4, 3.2, 1.5, 'Iris-versicolor'), 4.5), ((1, 6.9, 3.1, 1.5, 'Iris-versicolor'), 4.9), ((1, 5.5, 2.3, 1.3, 'Iris-versicolor'), 4.0), ((1, 6.5, 2.8, 1.5, 'Iris-versicolor'), 4.6), ((1, 5.7, 2.8, 1.3, 'Iris-versicolor'), 4.5), ((1, 6.3, 3.3, 1.6, 'Iris-versicolor'), 4.7), ((1, 4.9, 2.4, 1.0, 'Iris-versicolor'), 3.3), ((1, 6.6, 2.9, 1.3, 'Iris-versicolor'), 4.6), ((1, 5.2, 2.7, 1.4, 'Iris-versicolor'), 3.9), ((1, 5.0, 2.0, 1.0, 'Iris-versicolor'), 3.5), ((1, 5.9, 3.0, 1.5, 'Iris-versicolor'), 4.2), ((1, 6.0, 2.2, 1.0, 'Iris-versicolor'), 4.0), ((1, 6.1, 2.9, 1.4, 'Iris-versicolor'), 4.7), ((1, 5.6, 2.9, 1.3, 'Iris-versicolor'), 3.6), ((1, 6.7, 3.1, 1.4, 'Iris-versicolor'), 4.4), ((1, 5.6, 3.0, 1.5, 'Iris-versicolor'), 4.5), ((1, 5.8, 2.7, 1.0, 'Iris-versicolor'), 4.1), ((1, 6.2, 2.2, 1.5, 'Iris-versicolor'), 4.5), ((1, 5.6, 2.5, 1.1, 'Iris-versicolor'), 3.9), ((1, 5.9, 3.2, 1.8, 'Iris-versicolor'), 4.8), ((1, 6.1, 2.8, 1.3, 'Iris-versicolor'), 4.0), ((1, 6.3, 2.5, 1.5, 'Iris-versicolor'), 4.9), ((1, 6.1, 2.8, 1.2, 'Iris-versicolor'), 4.7), ((1, 6.4, 2.9, 1.3, 'Iris-versicolor'), 4.3), ((1, 6.6, 3.0, 1.4, 'Iris-versicolor'), 4.4), ((1, 6.8, 2.8, 1.4, 'Iris-versicolor'), 4.8), ((1, 6.7, 3.0, 1.7, 'Iris-versicolor'), 5.0), ((1, 6.0, 2.9, 1.5, 'Iris-versicolor'), 4.5), ((1, 5.7, 2.6, 1.0, 'Iris-versicolor'), 3.5), ((1, 5.5, 2.4, 1.1, 'Iris-versicolor'), 3.8), ((1, 5.5, 2.4, 1.0, 'Iris-versicolor'), 3.7), ((1, 5.8, 2.7, 1.2, 'Iris-versicolor'), 3.9), ((1, 6.0, 2.7, 1.6, 'Iris-versicolor'), 5.1), ((1, 5.4, 3.0, 1.5, 'Iris-versicolor'), 4.5), ((1, 6.0, 3.4, 1.6, 'Iris-versicolor'), 4.5), ((1, 6.7, 3.1, 1.5, 'Iris-versicolor'), 4.7), ((1, 6.3, 2.3, 1.3, 'Iris-versicolor'), 4.4), ((1, 5.6, 3.0, 1.3, 'Iris-versicolor'), 4.1), ((1, 5.5, 2.5, 1.3, 'Iris-versicolor'), 4.0), ((1, 5.5, 2.6, 1.2, 'Iris-versicolor'), 4.4), ((1, 6.1, 3.0, 1.4, 'Iris-versicolor'), 4.6), ((1, 5.8, 2.6, 1.2, 'Iris-versicolor'), 4.0), ((1, 5.0, 2.3, 1.0, 'Iris-versicolor'), 3.3), ((1, 5.6, 2.7, 1.3, 'Iris-versicolor'), 4.2), ((1, 5.7, 3.0, 1.2, 'Iris-versicolor'), 4.2), ((1, 5.7, 2.9, 1.3, 'Iris-versicolor'), 4.2), ((1, 6.2, 2.9, 1.3, 'Iris-versicolor'), 4.3), ((1, 5.1, 2.5, 1.1, 'Iris-versicolor'), 3.0), ((1, 5.7, 2.8, 1.3, 'Iris-versicolor'), 4.1), ((1, 6.3, 3.3, 2.5, 'Iris-virginica'), 6.0), ((1, 5.8, 2.7, 1.9, 'Iris-virginica'), 5.1), ((1, 7.1, 3.0, 2.1, 'Iris-virginica'), 5.9), ((1, 6.3, 2.9, 1.8, 'Iris-virginica'), 5.6), ((1, 6.5, 3.0, 2.2, 'Iris-virginica'), 5.8), ((1, 7.6, 3.0, 2.1, 'Iris-virginica'), 6.6), ((1, 4.9, 2.5, 1.7, 'Iris-virginica'), 4.5), ((1, 7.3, 2.9, 1.8, 'Iris-virginica'), 6.3), ((1, 6.7, 2.5, 1.8, 'Iris-virginica'), 5.8), ((1, 7.2, 3.6, 2.5, 'Iris-virginica'), 6.1), ((1, 6.5, 3.2, 2.0, 'Iris-virginica'), 5.1), ((1, 6.4, 2.7, 1.9, 'Iris-virginica'), 5.3), ((1, 6.8, 3.0, 2.1, 'Iris-virginica'), 5.5), ((1, 5.7, 2.5, 2.0, 'Iris-virginica'), 5.0), ((1, 5.8, 2.8, 2.4, 'Iris-virginica'), 5.1), ((1, 6.4, 3.2, 2.3, 'Iris-virginica'), 5.3), ((1, 6.5, 3.0, 1.8, 'Iris-virginica'), 5.5), ((1, 7.7, 3.8, 2.2, 'Iris-virginica'), 6.7), ((1, 7.7, 2.6, 2.3, 'Iris-virginica'), 6.9), ((1, 6.0, 2.2, 1.5, 'Iris-virginica'), 5.0), ((1, 6.9, 3.2, 2.3, 'Iris-virginica'), 5.7), ((1, 5.6, 2.8, 2.0, 'Iris-virginica'), 4.9), ((1, 7.7, 2.8, 2.0, 'Iris-virginica'), 6.7), ((1, 6.3, 2.7, 1.8, 'Iris-virginica'), 4.9), ((1, 6.7, 3.3, 2.1, 'Iris-virginica'), 5.7), ((1, 7.2, 3.2, 1.8, 'Iris-virginica'), 6.0), ((1, 6.2, 2.8, 1.8, 'Iris-virginica'), 4.8), ((1, 6.1, 3.0, 1.8, 'Iris-virginica'), 4.9), ((1, 6.4, 2.8, 2.1, 'Iris-virginica'), 5.6), ((1, 7.2, 3.0, 1.6, 'Iris-virginica'), 5.8), ((1, 7.4, 2.8, 1.9, 'Iris-virginica'), 6.1), ((1, 7.9, 3.8, 2.0, 'Iris-virginica'), 6.4), ((1, 6.4, 2.8, 2.2, 'Iris-virginica'), 5.6), ((1, 6.3, 2.8, 1.5, 'Iris-virginica'), 5.1), ((1, 6.1, 2.6, 1.4, 'Iris-virginica'), 5.6), ((1, 7.7, 3.0, 2.3, 'Iris-virginica'), 6.1), ((1, 6.3, 3.4, 2.4, 'Iris-virginica'), 5.6), ((1, 6.4, 3.1, 1.8, 'Iris-virginica'), 5.5), ((1, 6.0, 3.0, 1.8, 'Iris-virginica'), 4.8), ((1, 6.9, 3.1, 2.1, 'Iris-virginica'), 5.4), ((1, 6.7, 3.1, 2.4, 'Iris-virginica'), 5.6), ((1, 6.9, 3.1, 2.3, 'Iris-virginica'), 5.1), ((1, 5.8, 2.7, 1.9, 'Iris-virginica'), 5.1), ((1, 6.8, 3.2, 2.3, 'Iris-virginica'), 5.9), ((1, 6.7, 3.3, 2.5, 'Iris-virginica'), 5.7), ((1, 6.7, 3.0, 2.3, 'Iris-virginica'), 5.2), ((1, 6.3, 2.5, 1.9, 'Iris-virginica'), 5.0), ((1, 6.5, 3.0, 2.0, 'Iris-virginica'), 5.2), ((1, 6.2, 3.4, 2.3, 'Iris-virginica'), 5.4), ((1, 5.9, 3.0, 1.8, 'Iris-virginica'), 5.1)]\n"
          ]
        }
      ]
    },
    {
      "cell_type": "markdown",
      "metadata": {
        "id": "TDIKtP0jGBPU"
      },
      "source": [
        "Next, I need to turn the categorical text data of the iris species into numerical values that my linear regression algorithm can use.\n",
        "\n",
        "I will be using one-hot encoding to perform this conversion. I decided not to use ordinal encoding (i.e. assign each category a different integer), because there is no ordinal relation for the species.\n",
        "\n",
        "To perform ordinal encoding, I will be turning the \"species\" feature into three features (one for each iris species) and assigning a value of one to the feature that represents the data point's actual species.\n",
        "\n",
        "Ex: ('Iris-Setosa') → (setosa, versicolor, virginica) → (1, 0, 0)"
      ]
    },
    {
      "cell_type": "markdown",
      "metadata": {
        "id": "v0QxYWF9H9e8"
      },
      "source": [
        "#### One-Hot Encoding"
      ]
    },
    {
      "cell_type": "markdown",
      "metadata": {
        "id": "sOnANe79LcBX"
      },
      "source": [
        "Using list comprehensions to pull out the species data and then turning each of the values into their associated one-hot encoded value."
      ]
    },
    {
      "cell_type": "code",
      "metadata": {
        "id": "-bdwG_9IIC9j"
      },
      "source": [
        "speciesData = [s for ((_,_,_,_,s),_) in dataPL]\n",
        "speciesOHE = [(1,0,0) if x == 'Iris-Setosa' else (0,1,0) if x == 'Iris-versicolor' else (0,0,1) for x in speciesData]"
      ],
      "execution_count": 13,
      "outputs": []
    },
    {
      "cell_type": "markdown",
      "metadata": {
        "id": "HzdBpXDzLmNQ"
      },
      "source": [
        "Putting the OHE data back into the dataset"
      ]
    },
    {
      "cell_type": "code",
      "metadata": {
        "colab": {
          "base_uri": "https://localhost:8080/"
        },
        "id": "nqqKTdHELxE0",
        "outputId": "5620dea6-ba1a-4d82-a98f-105ac04209fc"
      },
      "source": [
        "dataPL = [((xs[0],xs[1],xs[2],xs[3],setosa,versicolor,virginica), y) for ((xs,y), (setosa, versicolor, virginica)) in zip(dataPL, speciesOHE)]\n",
        "print(dataPL)"
      ],
      "execution_count": 14,
      "outputs": [
        {
          "output_type": "stream",
          "name": "stdout",
          "text": [
            "[((1, 5.1, 3.5, 0.2, 0, 0, 1), 1.4), ((1, 4.9, 3.0, 0.2, 0, 0, 1), 1.4), ((1, 4.7, 3.2, 0.2, 0, 0, 1), 1.3), ((1, 4.6, 3.1, 0.2, 0, 0, 1), 1.5), ((1, 5.0, 3.6, 0.2, 0, 0, 1), 1.4), ((1, 5.4, 3.9, 0.4, 0, 0, 1), 1.7), ((1, 4.6, 3.4, 0.3, 0, 0, 1), 1.4), ((1, 5.0, 3.4, 0.2, 0, 0, 1), 1.5), ((1, 4.4, 2.9, 0.2, 0, 0, 1), 1.4), ((1, 4.9, 3.1, 0.1, 0, 0, 1), 1.5), ((1, 5.4, 3.7, 0.2, 0, 0, 1), 1.5), ((1, 4.8, 3.4, 0.2, 0, 0, 1), 1.6), ((1, 4.8, 3.0, 0.1, 0, 0, 1), 1.4), ((1, 4.3, 3.0, 0.1, 0, 0, 1), 1.1), ((1, 5.8, 4.0, 0.2, 0, 0, 1), 1.2), ((1, 5.7, 4.4, 0.4, 0, 0, 1), 1.5), ((1, 5.4, 3.9, 0.4, 0, 0, 1), 1.3), ((1, 5.1, 3.5, 0.3, 0, 0, 1), 1.4), ((1, 5.7, 3.8, 0.3, 0, 0, 1), 1.7), ((1, 5.1, 3.8, 0.3, 0, 0, 1), 1.5), ((1, 5.4, 3.4, 0.2, 0, 0, 1), 1.7), ((1, 5.1, 3.7, 0.4, 0, 0, 1), 1.5), ((1, 4.6, 3.6, 0.2, 0, 0, 1), 1.0), ((1, 5.1, 3.3, 0.5, 0, 0, 1), 1.7), ((1, 4.8, 3.4, 0.2, 0, 0, 1), 1.9), ((1, 5.0, 3.0, 0.2, 0, 0, 1), 1.6), ((1, 5.0, 3.4, 0.4, 0, 0, 1), 1.6), ((1, 5.2, 3.5, 0.2, 0, 0, 1), 1.5), ((1, 5.2, 3.4, 0.2, 0, 0, 1), 1.4), ((1, 4.7, 3.2, 0.2, 0, 0, 1), 1.6), ((1, 4.8, 3.1, 0.2, 0, 0, 1), 1.6), ((1, 5.4, 3.4, 0.4, 0, 0, 1), 1.5), ((1, 5.2, 4.1, 0.1, 0, 0, 1), 1.5), ((1, 5.5, 4.2, 0.2, 0, 0, 1), 1.4), ((1, 4.9, 3.1, 0.1, 0, 0, 1), 1.5), ((1, 5.0, 3.2, 0.2, 0, 0, 1), 1.2), ((1, 5.5, 3.5, 0.2, 0, 0, 1), 1.3), ((1, 4.9, 3.1, 0.1, 0, 0, 1), 1.5), ((1, 4.4, 3.0, 0.2, 0, 0, 1), 1.3), ((1, 5.1, 3.4, 0.2, 0, 0, 1), 1.5), ((1, 5.0, 3.5, 0.3, 0, 0, 1), 1.3), ((1, 4.5, 2.3, 0.3, 0, 0, 1), 1.3), ((1, 4.4, 3.2, 0.2, 0, 0, 1), 1.3), ((1, 5.0, 3.5, 0.6, 0, 0, 1), 1.6), ((1, 5.1, 3.8, 0.4, 0, 0, 1), 1.9), ((1, 4.8, 3.0, 0.3, 0, 0, 1), 1.4), ((1, 5.1, 3.8, 0.2, 0, 0, 1), 1.6), ((1, 4.6, 3.2, 0.2, 0, 0, 1), 1.4), ((1, 5.3, 3.7, 0.2, 0, 0, 1), 1.5), ((1, 5.0, 3.3, 0.2, 0, 0, 1), 1.4), ((1, 7.0, 3.2, 1.4, 0, 1, 0), 4.7), ((1, 6.4, 3.2, 1.5, 0, 1, 0), 4.5), ((1, 6.9, 3.1, 1.5, 0, 1, 0), 4.9), ((1, 5.5, 2.3, 1.3, 0, 1, 0), 4.0), ((1, 6.5, 2.8, 1.5, 0, 1, 0), 4.6), ((1, 5.7, 2.8, 1.3, 0, 1, 0), 4.5), ((1, 6.3, 3.3, 1.6, 0, 1, 0), 4.7), ((1, 4.9, 2.4, 1.0, 0, 1, 0), 3.3), ((1, 6.6, 2.9, 1.3, 0, 1, 0), 4.6), ((1, 5.2, 2.7, 1.4, 0, 1, 0), 3.9), ((1, 5.0, 2.0, 1.0, 0, 1, 0), 3.5), ((1, 5.9, 3.0, 1.5, 0, 1, 0), 4.2), ((1, 6.0, 2.2, 1.0, 0, 1, 0), 4.0), ((1, 6.1, 2.9, 1.4, 0, 1, 0), 4.7), ((1, 5.6, 2.9, 1.3, 0, 1, 0), 3.6), ((1, 6.7, 3.1, 1.4, 0, 1, 0), 4.4), ((1, 5.6, 3.0, 1.5, 0, 1, 0), 4.5), ((1, 5.8, 2.7, 1.0, 0, 1, 0), 4.1), ((1, 6.2, 2.2, 1.5, 0, 1, 0), 4.5), ((1, 5.6, 2.5, 1.1, 0, 1, 0), 3.9), ((1, 5.9, 3.2, 1.8, 0, 1, 0), 4.8), ((1, 6.1, 2.8, 1.3, 0, 1, 0), 4.0), ((1, 6.3, 2.5, 1.5, 0, 1, 0), 4.9), ((1, 6.1, 2.8, 1.2, 0, 1, 0), 4.7), ((1, 6.4, 2.9, 1.3, 0, 1, 0), 4.3), ((1, 6.6, 3.0, 1.4, 0, 1, 0), 4.4), ((1, 6.8, 2.8, 1.4, 0, 1, 0), 4.8), ((1, 6.7, 3.0, 1.7, 0, 1, 0), 5.0), ((1, 6.0, 2.9, 1.5, 0, 1, 0), 4.5), ((1, 5.7, 2.6, 1.0, 0, 1, 0), 3.5), ((1, 5.5, 2.4, 1.1, 0, 1, 0), 3.8), ((1, 5.5, 2.4, 1.0, 0, 1, 0), 3.7), ((1, 5.8, 2.7, 1.2, 0, 1, 0), 3.9), ((1, 6.0, 2.7, 1.6, 0, 1, 0), 5.1), ((1, 5.4, 3.0, 1.5, 0, 1, 0), 4.5), ((1, 6.0, 3.4, 1.6, 0, 1, 0), 4.5), ((1, 6.7, 3.1, 1.5, 0, 1, 0), 4.7), ((1, 6.3, 2.3, 1.3, 0, 1, 0), 4.4), ((1, 5.6, 3.0, 1.3, 0, 1, 0), 4.1), ((1, 5.5, 2.5, 1.3, 0, 1, 0), 4.0), ((1, 5.5, 2.6, 1.2, 0, 1, 0), 4.4), ((1, 6.1, 3.0, 1.4, 0, 1, 0), 4.6), ((1, 5.8, 2.6, 1.2, 0, 1, 0), 4.0), ((1, 5.0, 2.3, 1.0, 0, 1, 0), 3.3), ((1, 5.6, 2.7, 1.3, 0, 1, 0), 4.2), ((1, 5.7, 3.0, 1.2, 0, 1, 0), 4.2), ((1, 5.7, 2.9, 1.3, 0, 1, 0), 4.2), ((1, 6.2, 2.9, 1.3, 0, 1, 0), 4.3), ((1, 5.1, 2.5, 1.1, 0, 1, 0), 3.0), ((1, 5.7, 2.8, 1.3, 0, 1, 0), 4.1), ((1, 6.3, 3.3, 2.5, 0, 0, 1), 6.0), ((1, 5.8, 2.7, 1.9, 0, 0, 1), 5.1), ((1, 7.1, 3.0, 2.1, 0, 0, 1), 5.9), ((1, 6.3, 2.9, 1.8, 0, 0, 1), 5.6), ((1, 6.5, 3.0, 2.2, 0, 0, 1), 5.8), ((1, 7.6, 3.0, 2.1, 0, 0, 1), 6.6), ((1, 4.9, 2.5, 1.7, 0, 0, 1), 4.5), ((1, 7.3, 2.9, 1.8, 0, 0, 1), 6.3), ((1, 6.7, 2.5, 1.8, 0, 0, 1), 5.8), ((1, 7.2, 3.6, 2.5, 0, 0, 1), 6.1), ((1, 6.5, 3.2, 2.0, 0, 0, 1), 5.1), ((1, 6.4, 2.7, 1.9, 0, 0, 1), 5.3), ((1, 6.8, 3.0, 2.1, 0, 0, 1), 5.5), ((1, 5.7, 2.5, 2.0, 0, 0, 1), 5.0), ((1, 5.8, 2.8, 2.4, 0, 0, 1), 5.1), ((1, 6.4, 3.2, 2.3, 0, 0, 1), 5.3), ((1, 6.5, 3.0, 1.8, 0, 0, 1), 5.5), ((1, 7.7, 3.8, 2.2, 0, 0, 1), 6.7), ((1, 7.7, 2.6, 2.3, 0, 0, 1), 6.9), ((1, 6.0, 2.2, 1.5, 0, 0, 1), 5.0), ((1, 6.9, 3.2, 2.3, 0, 0, 1), 5.7), ((1, 5.6, 2.8, 2.0, 0, 0, 1), 4.9), ((1, 7.7, 2.8, 2.0, 0, 0, 1), 6.7), ((1, 6.3, 2.7, 1.8, 0, 0, 1), 4.9), ((1, 6.7, 3.3, 2.1, 0, 0, 1), 5.7), ((1, 7.2, 3.2, 1.8, 0, 0, 1), 6.0), ((1, 6.2, 2.8, 1.8, 0, 0, 1), 4.8), ((1, 6.1, 3.0, 1.8, 0, 0, 1), 4.9), ((1, 6.4, 2.8, 2.1, 0, 0, 1), 5.6), ((1, 7.2, 3.0, 1.6, 0, 0, 1), 5.8), ((1, 7.4, 2.8, 1.9, 0, 0, 1), 6.1), ((1, 7.9, 3.8, 2.0, 0, 0, 1), 6.4), ((1, 6.4, 2.8, 2.2, 0, 0, 1), 5.6), ((1, 6.3, 2.8, 1.5, 0, 0, 1), 5.1), ((1, 6.1, 2.6, 1.4, 0, 0, 1), 5.6), ((1, 7.7, 3.0, 2.3, 0, 0, 1), 6.1), ((1, 6.3, 3.4, 2.4, 0, 0, 1), 5.6), ((1, 6.4, 3.1, 1.8, 0, 0, 1), 5.5), ((1, 6.0, 3.0, 1.8, 0, 0, 1), 4.8), ((1, 6.9, 3.1, 2.1, 0, 0, 1), 5.4), ((1, 6.7, 3.1, 2.4, 0, 0, 1), 5.6), ((1, 6.9, 3.1, 2.3, 0, 0, 1), 5.1), ((1, 5.8, 2.7, 1.9, 0, 0, 1), 5.1), ((1, 6.8, 3.2, 2.3, 0, 0, 1), 5.9), ((1, 6.7, 3.3, 2.5, 0, 0, 1), 5.7), ((1, 6.7, 3.0, 2.3, 0, 0, 1), 5.2), ((1, 6.3, 2.5, 1.9, 0, 0, 1), 5.0), ((1, 6.5, 3.0, 2.0, 0, 0, 1), 5.2), ((1, 6.2, 3.4, 2.3, 0, 0, 1), 5.4), ((1, 5.9, 3.0, 1.8, 0, 0, 1), 5.1)]\n"
          ]
        }
      ]
    },
    {
      "cell_type": "markdown",
      "metadata": {
        "id": "QIUygLZdbBWP"
      },
      "source": [
        "#### Building Model"
      ]
    },
    {
      "cell_type": "code",
      "metadata": {
        "id": "ulZqrXmkLTZI"
      },
      "source": [
        "# Initial model\n",
        "alpha=0.01\n",
        "model=[0, 0, 0, 0, 0, 0, 0]"
      ],
      "execution_count": 15,
      "outputs": []
    },
    {
      "cell_type": "markdown",
      "metadata": {
        "id": "Fs5vhzWfZJXd"
      },
      "source": [
        "#### Linear Regression Function"
      ]
    },
    {
      "cell_type": "code",
      "metadata": {
        "id": "ysgaBUQeNiYG"
      },
      "source": [
        "def LinearRegression(alpha, model, data, iterations):\n",
        "  X = [x for (x,y) in data]\n",
        "  Y = [y for (x,y) in data]\n",
        "  for i in range(iterations):\n",
        "    yPredicted = [F(model, x) for x in X]\n",
        "    \n",
        "    # Gradient function\n",
        "    D = lambda model, X, Y, var: 1/len(Y)*sum([(-2*(r-y)*x[var]) for r,y,x in zip(Y, yPredicted, X)])\n",
        "    for i in range(len(model)):\n",
        "      delta = D(model, X, Y, i)\n",
        "      model[i] = model[i]-alpha*delta\n",
        "\n",
        "  return model"
      ],
      "execution_count": 16,
      "outputs": []
    },
    {
      "cell_type": "markdown",
      "metadata": {
        "id": "MqHQH70vO1Fi"
      },
      "source": [
        "#### <font color=\"green\">Final Model"
      ]
    },
    {
      "cell_type": "code",
      "metadata": {
        "colab": {
          "base_uri": "https://localhost:8080/"
        },
        "id": "fz17Ss8ZN-NS",
        "outputId": "6a847c56-becb-4353-a407-d5642f95296a"
      },
      "source": [
        "model = LinearRegression(alpha, model, dataPL, 1000)\n",
        "print(\"Model Learned:\", model)"
      ],
      "execution_count": 17,
      "outputs": [
        {
          "output_type": "stream",
          "name": "stdout",
          "text": [
            "Model Learned: [-0.12655086095870405, 0.710328510592773, -0.6307139131982761, 1.454165670603469, 0.0, -0.010211806878512596, -0.11633905408019149]\n"
          ]
        }
      ]
    },
    {
      "cell_type": "markdown",
      "metadata": {
        "id": "LEZY7Db6XRtR"
      },
      "source": [
        "##### Plotting The Results and Error"
      ]
    },
    {
      "cell_type": "markdown",
      "metadata": {
        "id": "opVhbofzPkiA"
      },
      "source": [
        "It's difficult to plot this model's predictions against the original data because it has so many weights and therefore can't all be visualized, but I can show a 3D graph for 2 of the features and squared error and the mean squared error (MSE) for this model."
      ]
    },
    {
      "cell_type": "code",
      "metadata": {
        "colab": {
          "base_uri": "https://localhost:8080/",
          "height": 265
        },
        "id": "49rUXUOmOs7F",
        "outputId": "feed219c-e8e3-4aeb-b88d-08fbaf4d3d40"
      },
      "source": [
        "X = [x for (x,y) in dataPL]\n",
        "Y = [y for (x,y) in dataPL]\n",
        "dataX1 = [x for (_,x,_,_,_,_,_) in X]\n",
        "dataX2 = [x for (_,_,x,_,_,_,_) in X]\n",
        "yPredicted = [F(model, x) for x in X]\n",
        "\n",
        "ax = plt.axes(projection = '3d')\n",
        "plt.xlabel(\"Sepal Length\")\n",
        "plt.ylabel(\"Sepal Width\")\n",
        "ax.set_zlabel(\"Petal Length\")\n",
        "\n",
        "ax.scatter(dataX1, dataX2, Y, c='g')\n",
        "ax.scatter(dataX1, dataX2, yPredicted, c='b')"
      ],
      "execution_count": 18,
      "outputs": [
        {
          "output_type": "execute_result",
          "data": {
            "text/plain": [
              "<mpl_toolkits.mplot3d.art3d.Path3DCollection at 0x7f98cfe77750>"
            ]
          },
          "metadata": {},
          "execution_count": 18
        },
        {
          "output_type": "display_data",
          "data": {
            "image/png": "[encoded data removed]",
            "text/plain": [
              "<Figure size 432x288 with 1 Axes>"
            ]
          },
          "metadata": {
            "needs_background": "light"
          }
        }
      ]
    },
    {
      "cell_type": "code",
      "metadata": {
        "colab": {
          "base_uri": "https://localhost:8080/"
        },
        "id": "3gSIUFlhUPKQ",
        "outputId": "636990ce-0778-496a-ff2e-f62b2a8d9821"
      },
      "source": [
        "SE = sum([(r-y)**2.0 for r,y in zip(Y, yPredicted)])\n",
        "MSE = (1/len(dataPL)) * SE\n",
        "print(\"Squared Error:\", SE)\n",
        "print(\"Mean Squared Error:\", MSE)"
      ],
      "execution_count": 19,
      "outputs": [
        {
          "output_type": "stream",
          "name": "stdout",
          "text": [
            "Squared Error: 14.425668182910789\n",
            "Mean Squared Error: 0.09617112121940527\n"
          ]
        }
      ]
    },
    {
      "cell_type": "markdown",
      "metadata": {
        "id": "4nEOJ6KYWq5n"
      },
      "source": [
        "##### Actual Petal Length Values vs. Final Model Predictions"
      ]
    },
    {
      "cell_type": "markdown",
      "metadata": {
        "id": "5oFQeWN_XcqZ"
      },
      "source": [
        "The model ends up doing pretty well with a mean squared error of ~0.1. I would say that this shows the capabilities and strengths of linear regression through gradient descent as a relatively simple algorithm that can produce sufficiently accurate models for numerical prediction.\n",
        "\n",
        "This also showed how categorical text data/features without an ordinal relationship could be utilized in linear regression through one-hot encoding."
      ]
    },
    {
      "cell_type": "code",
      "metadata": {
        "colab": {
          "base_uri": "https://localhost:8080/"
        },
        "id": "wq0nJC7gU0b3",
        "outputId": "5f16533a-4673-4bb4-de5b-cd4d3a46acac"
      },
      "source": [
        "yComparison = list(zip(Y, yPredicted))\n",
        "yComparison = pd.DataFrame(yComparison, columns=[\"Actual Petal Length\", \"Model Predicted\"])\n",
        "print(yComparison.to_string())"
      ],
      "execution_count": 20,
      "outputs": [
        {
          "output_type": "stream",
          "name": "stdout",
          "text": [
            "     Actual Petal Length  Model Predicted\n",
            "0                    1.4         1.463120\n",
            "1                    1.4         1.636411\n",
            "2                    1.3         1.368203\n",
            "3                    1.5         1.360241\n",
            "4                    1.4         1.329016\n",
            "5                    1.7         1.714766\n",
            "6                    1.4         1.316444\n",
            "7                    1.5         1.455158\n",
            "8                    1.4         1.344318\n",
            "9                    1.5         1.427923\n",
            "10                   1.5         1.550076\n",
            "11                   1.6         1.313093\n",
            "12                   1.4         1.419962\n",
            "13                   1.1         1.064798\n",
            "14                   1.2         1.644993\n",
            "15                   1.5         1.612508\n",
            "16                   1.3         1.714766\n",
            "17                   1.4         1.608536\n",
            "18                   1.7         1.845519\n",
            "19                   1.5         1.419322\n",
            "20                   1.7         1.739290\n",
            "21                   1.5         1.627810\n",
            "22                   1.0         1.044884\n",
            "23                   1.7         2.025512\n",
            "24                   1.9         1.313093\n",
            "25                   1.6         1.707444\n",
            "26                   1.6         1.745992\n",
            "27                   1.5         1.534153\n",
            "28                   1.4         1.597224\n",
            "29                   1.6         1.368203\n",
            "30                   1.6         1.502307\n",
            "31                   1.5         2.030123\n",
            "32                   1.5         1.010308\n",
            "33                   1.4         1.305752\n",
            "34                   1.5         1.427923\n",
            "35                   1.2         1.581301\n",
            "36                   1.3         1.747251\n",
            "37                   1.5         1.427923\n",
            "38                   1.3         1.281247\n",
            "39                   1.5         1.526191\n",
            "40                   1.3         1.537504\n",
            "41                   1.3         1.939196\n",
            "42                   1.3         1.155104\n",
            "43                   1.6         1.973753\n",
            "44                   1.9         1.564739\n",
            "45                   1.4         1.710795\n",
            "46                   1.6         1.273906\n",
            "47                   1.4         1.297170\n",
            "48                   1.5         1.479043\n",
            "49                   1.4         1.518230\n",
            "50                   4.7         4.853084\n",
            "51                   4.5         4.572304\n",
            "52                   4.9         4.990539\n",
            "53                   4.0         4.209818\n",
            "54                   4.6         4.895622\n",
            "55                   4.5         4.036526\n",
            "56                   4.7         4.583616\n",
            "57                   3.3         3.284299\n",
            "58                   4.6         4.612751\n",
            "59                   3.9         3.889850\n",
            "60                   3.5         3.607618\n",
            "61                   4.2         4.343282\n",
            "62                   4.0         4.191803\n",
            "63                   4.7         4.403003\n",
            "64                   3.6         3.902422\n",
            "65                   4.4         4.703057\n",
            "66                   4.5         4.130184\n",
            "67                   4.1         3.734381\n",
            "68                   4.5         5.060952\n",
            "69                   3.9         3.863874\n",
            "70                   4.8         4.653389\n",
            "71                   4.0         4.320658\n",
            "72                   4.9         4.942771\n",
            "73                   4.7         4.175241\n",
            "74                   4.3         4.470685\n",
            "75                   4.4         4.695096\n",
            "76                   4.8         4.963304\n",
            "77                   5.0         5.202378\n",
            "78                   4.5         4.477387\n",
            "79                   3.5         3.726419\n",
            "80                   3.8         3.855913\n",
            "81                   3.7         3.710496\n",
            "82                   3.9         4.025214\n",
            "83                   5.1         4.748946\n",
            "84                   4.5         3.988118\n",
            "85                   4.5         4.307446\n",
            "86                   4.7         4.848474\n",
            "87                   4.4         4.778080\n",
            "88                   4.1         3.839351\n",
            "89                   4.0         4.083675\n",
            "90                   4.4         3.875187\n",
            "91                   4.6         4.339931\n",
            "92                   4.0         4.088285\n",
            "93                   3.3         3.418404\n",
            "94                   4.2         4.028565\n",
            "95                   4.2         3.764967\n",
            "96                   4.2         3.973455\n",
            "97                   4.3         4.328619\n",
            "98                   3.0         3.508710\n",
            "99                   4.1         4.036526\n",
            "100                  6.0         5.786238\n",
            "101                  5.1         4.937003\n",
            "102                  5.9         5.962049\n",
            "103                  5.6         5.020608\n",
            "104                  5.8         5.681268\n",
            "105                  6.6         6.317213\n",
            "106                  4.5         4.133017\n",
            "107                  6.3         5.730936\n",
            "108                  5.8         5.557025\n",
            "109                  6.1         6.236319\n",
            "110                  5.1         5.264292\n",
            "111                  5.3         5.363200\n",
            "112                  5.5         5.748950\n",
            "113                  5.0         5.137529\n",
            "114                  5.1         5.601014\n",
            "115                  5.3         5.629509\n",
            "116                  5.5         5.099602\n",
            "117                  6.7         6.029091\n",
            "118                  6.9         6.931364\n",
            "119                  5.0         4.812759\n",
            "120                  5.7         5.984673\n",
            "121                  4.9         4.877282\n",
            "122                  6.7         6.368972\n",
            "123                  4.9         5.146750\n",
            "124                  5.7         5.488703\n",
            "125                  6.0         5.470689\n",
            "126                  4.8         5.012646\n",
            "127                  4.9         4.815470\n",
            "128                  5.6         5.590962\n",
            "129                  5.8         5.305999\n",
            "130                  6.1         6.010457\n",
            "131                  6.4         5.880324\n",
            "132                  5.6         5.736378\n",
            "133                  5.1         4.647429\n",
            "134                  5.6         4.486090\n",
            "135                  6.1         6.679079\n",
            "136                  5.6         5.577750\n",
            "137                  5.5         4.965498\n",
            "138                  4.8         4.744438\n",
            "139                  5.4         5.756912\n",
            "140                  5.6         6.051096\n",
            "141                  5.1         6.047745\n",
            "142                  5.1         4.937003\n",
            "143                  5.9         5.913640\n",
            "144                  5.7         6.070369\n",
            "145                  5.2         5.968750\n",
            "146                  5.0         5.418310\n",
            "147                  5.2         5.390435\n",
            "148                  5.4         5.361301\n",
            "149                  5.1         4.673405\n"
          ]
        }
      ]
    },
    {
      "cell_type": "markdown",
      "metadata": {
        "id": "FeR7X6n1TPF4"
      },
      "source": [
        "## Logistic Regression"
      ]
    },
    {
      "cell_type": "markdown",
      "metadata": {
        "id": "zGrMkBzbTUT-"
      },
      "source": [
        "In this section, I will be applying Logistic Regression with both Squared Error and Cross Entropy gradient calculations to create a multi-class classification model for the species of an iris based off its features (petal and sepal length/width).\n",
        "\n",
        "In particular, I will be using the One-Vs-The-Rest methodology to produce 3 models that each attempt to classify one species of iris over the rest. With all three models, a class prediction can be made on a data point for all three models and the prediction with the highest value (closest to 1.0) will indicate the overall predicted class."
      ]
    },
    {
      "cell_type": "markdown",
      "metadata": {
        "id": "DECI2zTTo3-j"
      },
      "source": [
        "### Logistic Regression With Squared Error Gradient"
      ]
    },
    {
      "cell_type": "code",
      "metadata": {
        "id": "GMTSV1uupGKs"
      },
      "source": [
        "def LogisticRegressionSE(alpha, model, data, iterations):\n",
        "  X = [x for (x,r) in data]\n",
        "  R = [r for (x,r) in data]\n",
        "  dimensions = len(X[0]) # number of dimensions\n",
        "  N = len(X) # number of data points\n",
        "  for i in range(iterations):\n",
        "    deltaW = [0]*dimensions # initially, changes to each weight is 0\n",
        "    for t in range(N): # for each data point\n",
        "      yPredicted = sigmoid(F(model, X[t])) # calculate the predicted value using sigmoid(F(W,X)) with current model\n",
        "      for j in range(dimensions): # for each weight\n",
        "        deltaW[j] += -2 * (R[t] - yPredicted)*(yPredicted)*(1 - yPredicted)*X[t][j] # calculate the derivative (gradient) and increment change in weight by this amount\n",
        "    for j in range(dimensions): # for each weight\n",
        "      model[j] = model[j] - (1/N)*alpha*deltaW[j] # update current model by going in opposite direction of gradient\n",
        "  return model"
      ],
      "execution_count": 21,
      "outputs": []
    },
    {
      "cell_type": "markdown",
      "metadata": {
        "id": "p9bSZdgto_Kv"
      },
      "source": [
        "### Logistic Regression With Cross Entropy Gradient"
      ]
    },
    {
      "cell_type": "code",
      "metadata": {
        "id": "DHyUAv1LpIVm"
      },
      "source": [
        "def LogisticRegressionCE(alpha, model, data, iterations):\n",
        "  X = [x for (x,r) in data]\n",
        "  R = [r for (x,r) in data]\n",
        "  dimensions = len(X[0]) # number of dimensions\n",
        "  N = len(X) # number of data points\n",
        "  for i in range(iterations):\n",
        "    deltaW = [0]*dimensions # initially, changes to each weight is 0\n",
        "    for t in range(N): # for each data point\n",
        "      yPredicted = sigmoid(F(model, X[t])) # calculate the predicted value using sigmoid(F(W,X)) with current model\n",
        "      for j in range(dimensions): # for each weight\n",
        "        deltaW[j] += -1 * (R[t] - yPredicted)*X[t][j] # calculate the derivative (gradient) and increment change in weight by this amount\n",
        "    for j in range(dimensions): # for each weight\n",
        "      model[j] = model[j] - (1/N)*alpha*deltaW[j] # update current model by going in opposite direction of gradient\n",
        "  return model"
      ],
      "execution_count": 22,
      "outputs": []
    },
    {
      "cell_type": "markdown",
      "metadata": {
        "id": "A70rqeLfpkfD"
      },
      "source": [
        "### Setosa vs. Rest Model"
      ]
    },
    {
      "cell_type": "markdown",
      "metadata": {
        "id": "RygHbX2Up8Vm"
      },
      "source": [
        "#### Data Initialization"
      ]
    },
    {
      "cell_type": "markdown",
      "metadata": {
        "id": "NECQxbsrqDq5"
      },
      "source": [
        "The classes need to be given numerical values to use the Logistic Regression algorithms above. For the setosa vs. rest model, the setosa class will be given a value of 1 and versicolor/virginica will be given a value of 0.\n",
        "\n",
        "When the model is finalized, the prediction value provided by the model on a specific example can be thought of as the likelihood of that example being a setosa iris vs. the rest of the species."
      ]
    },
    {
      "cell_type": "code",
      "metadata": {
        "colab": {
          "base_uri": "https://localhost:8080/"
        },
        "id": "lNYfnhIRqC-o",
        "outputId": "5436f059-3c67-427b-e360-54acb239c898"
      },
      "source": [
        "dataSetosa = [((1,x1,x2,x3,x4), species) for (x1,x2,x3,x4,species) in data]\n",
        "dataSetosa = [(x,1) if species == 'Iris-setosa' else (x,0) for (x,species) in dataSetosa]\n",
        "print(dataSetosa)"
      ],
      "execution_count": 23,
      "outputs": [
        {
          "output_type": "stream",
          "name": "stdout",
          "text": [
            "[((1, 5.1, 3.5, 1.4, 0.2), 1), ((1, 4.9, 3.0, 1.4, 0.2), 1), ((1, 4.7, 3.2, 1.3, 0.2), 1), ((1, 4.6, 3.1, 1.5, 0.2), 1), ((1, 5.0, 3.6, 1.4, 0.2), 1), ((1, 5.4, 3.9, 1.7, 0.4), 1), ((1, 4.6, 3.4, 1.4, 0.3), 1), ((1, 5.0, 3.4, 1.5, 0.2), 1), ((1, 4.4, 2.9, 1.4, 0.2), 1), ((1, 4.9, 3.1, 1.5, 0.1), 1), ((1, 5.4, 3.7, 1.5, 0.2), 1), ((1, 4.8, 3.4, 1.6, 0.2), 1), ((1, 4.8, 3.0, 1.4, 0.1), 1), ((1, 4.3, 3.0, 1.1, 0.1), 1), ((1, 5.8, 4.0, 1.2, 0.2), 1), ((1, 5.7, 4.4, 1.5, 0.4), 1), ((1, 5.4, 3.9, 1.3, 0.4), 1), ((1, 5.1, 3.5, 1.4, 0.3), 1), ((1, 5.7, 3.8, 1.7, 0.3), 1), ((1, 5.1, 3.8, 1.5, 0.3), 1), ((1, 5.4, 3.4, 1.7, 0.2), 1), ((1, 5.1, 3.7, 1.5, 0.4), 1), ((1, 4.6, 3.6, 1.0, 0.2), 1), ((1, 5.1, 3.3, 1.7, 0.5), 1), ((1, 4.8, 3.4, 1.9, 0.2), 1), ((1, 5.0, 3.0, 1.6, 0.2), 1), ((1, 5.0, 3.4, 1.6, 0.4), 1), ((1, 5.2, 3.5, 1.5, 0.2), 1), ((1, 5.2, 3.4, 1.4, 0.2), 1), ((1, 4.7, 3.2, 1.6, 0.2), 1), ((1, 4.8, 3.1, 1.6, 0.2), 1), ((1, 5.4, 3.4, 1.5, 0.4), 1), ((1, 5.2, 4.1, 1.5, 0.1), 1), ((1, 5.5, 4.2, 1.4, 0.2), 1), ((1, 4.9, 3.1, 1.5, 0.1), 1), ((1, 5.0, 3.2, 1.2, 0.2), 1), ((1, 5.5, 3.5, 1.3, 0.2), 1), ((1, 4.9, 3.1, 1.5, 0.1), 1), ((1, 4.4, 3.0, 1.3, 0.2), 1), ((1, 5.1, 3.4, 1.5, 0.2), 1), ((1, 5.0, 3.5, 1.3, 0.3), 1), ((1, 4.5, 2.3, 1.3, 0.3), 1), ((1, 4.4, 3.2, 1.3, 0.2), 1), ((1, 5.0, 3.5, 1.6, 0.6), 1), ((1, 5.1, 3.8, 1.9, 0.4), 1), ((1, 4.8, 3.0, 1.4, 0.3), 1), ((1, 5.1, 3.8, 1.6, 0.2), 1), ((1, 4.6, 3.2, 1.4, 0.2), 1), ((1, 5.3, 3.7, 1.5, 0.2), 1), ((1, 5.0, 3.3, 1.4, 0.2), 1), ((1, 7.0, 3.2, 4.7, 1.4), 0), ((1, 6.4, 3.2, 4.5, 1.5), 0), ((1, 6.9, 3.1, 4.9, 1.5), 0), ((1, 5.5, 2.3, 4.0, 1.3), 0), ((1, 6.5, 2.8, 4.6, 1.5), 0), ((1, 5.7, 2.8, 4.5, 1.3), 0), ((1, 6.3, 3.3, 4.7, 1.6), 0), ((1, 4.9, 2.4, 3.3, 1.0), 0), ((1, 6.6, 2.9, 4.6, 1.3), 0), ((1, 5.2, 2.7, 3.9, 1.4), 0), ((1, 5.0, 2.0, 3.5, 1.0), 0), ((1, 5.9, 3.0, 4.2, 1.5), 0), ((1, 6.0, 2.2, 4.0, 1.0), 0), ((1, 6.1, 2.9, 4.7, 1.4), 0), ((1, 5.6, 2.9, 3.6, 1.3), 0), ((1, 6.7, 3.1, 4.4, 1.4), 0), ((1, 5.6, 3.0, 4.5, 1.5), 0), ((1, 5.8, 2.7, 4.1, 1.0), 0), ((1, 6.2, 2.2, 4.5, 1.5), 0), ((1, 5.6, 2.5, 3.9, 1.1), 0), ((1, 5.9, 3.2, 4.8, 1.8), 0), ((1, 6.1, 2.8, 4.0, 1.3), 0), ((1, 6.3, 2.5, 4.9, 1.5), 0), ((1, 6.1, 2.8, 4.7, 1.2), 0), ((1, 6.4, 2.9, 4.3, 1.3), 0), ((1, 6.6, 3.0, 4.4, 1.4), 0), ((1, 6.8, 2.8, 4.8, 1.4), 0), ((1, 6.7, 3.0, 5.0, 1.7), 0), ((1, 6.0, 2.9, 4.5, 1.5), 0), ((1, 5.7, 2.6, 3.5, 1.0), 0), ((1, 5.5, 2.4, 3.8, 1.1), 0), ((1, 5.5, 2.4, 3.7, 1.0), 0), ((1, 5.8, 2.7, 3.9, 1.2), 0), ((1, 6.0, 2.7, 5.1, 1.6), 0), ((1, 5.4, 3.0, 4.5, 1.5), 0), ((1, 6.0, 3.4, 4.5, 1.6), 0), ((1, 6.7, 3.1, 4.7, 1.5), 0), ((1, 6.3, 2.3, 4.4, 1.3), 0), ((1, 5.6, 3.0, 4.1, 1.3), 0), ((1, 5.5, 2.5, 4.0, 1.3), 0), ((1, 5.5, 2.6, 4.4, 1.2), 0), ((1, 6.1, 3.0, 4.6, 1.4), 0), ((1, 5.8, 2.6, 4.0, 1.2), 0), ((1, 5.0, 2.3, 3.3, 1.0), 0), ((1, 5.6, 2.7, 4.2, 1.3), 0), ((1, 5.7, 3.0, 4.2, 1.2), 0), ((1, 5.7, 2.9, 4.2, 1.3), 0), ((1, 6.2, 2.9, 4.3, 1.3), 0), ((1, 5.1, 2.5, 3.0, 1.1), 0), ((1, 5.7, 2.8, 4.1, 1.3), 0), ((1, 6.3, 3.3, 6.0, 2.5), 0), ((1, 5.8, 2.7, 5.1, 1.9), 0), ((1, 7.1, 3.0, 5.9, 2.1), 0), ((1, 6.3, 2.9, 5.6, 1.8), 0), ((1, 6.5, 3.0, 5.8, 2.2), 0), ((1, 7.6, 3.0, 6.6, 2.1), 0), ((1, 4.9, 2.5, 4.5, 1.7), 0), ((1, 7.3, 2.9, 6.3, 1.8), 0), ((1, 6.7, 2.5, 5.8, 1.8), 0), ((1, 7.2, 3.6, 6.1, 2.5), 0), ((1, 6.5, 3.2, 5.1, 2.0), 0), ((1, 6.4, 2.7, 5.3, 1.9), 0), ((1, 6.8, 3.0, 5.5, 2.1), 0), ((1, 5.7, 2.5, 5.0, 2.0), 0), ((1, 5.8, 2.8, 5.1, 2.4), 0), ((1, 6.4, 3.2, 5.3, 2.3), 0), ((1, 6.5, 3.0, 5.5, 1.8), 0), ((1, 7.7, 3.8, 6.7, 2.2), 0), ((1, 7.7, 2.6, 6.9, 2.3), 0), ((1, 6.0, 2.2, 5.0, 1.5), 0), ((1, 6.9, 3.2, 5.7, 2.3), 0), ((1, 5.6, 2.8, 4.9, 2.0), 0), ((1, 7.7, 2.8, 6.7, 2.0), 0), ((1, 6.3, 2.7, 4.9, 1.8), 0), ((1, 6.7, 3.3, 5.7, 2.1), 0), ((1, 7.2, 3.2, 6.0, 1.8), 0), ((1, 6.2, 2.8, 4.8, 1.8), 0), ((1, 6.1, 3.0, 4.9, 1.8), 0), ((1, 6.4, 2.8, 5.6, 2.1), 0), ((1, 7.2, 3.0, 5.8, 1.6), 0), ((1, 7.4, 2.8, 6.1, 1.9), 0), ((1, 7.9, 3.8, 6.4, 2.0), 0), ((1, 6.4, 2.8, 5.6, 2.2), 0), ((1, 6.3, 2.8, 5.1, 1.5), 0), ((1, 6.1, 2.6, 5.6, 1.4), 0), ((1, 7.7, 3.0, 6.1, 2.3), 0), ((1, 6.3, 3.4, 5.6, 2.4), 0), ((1, 6.4, 3.1, 5.5, 1.8), 0), ((1, 6.0, 3.0, 4.8, 1.8), 0), ((1, 6.9, 3.1, 5.4, 2.1), 0), ((1, 6.7, 3.1, 5.6, 2.4), 0), ((1, 6.9, 3.1, 5.1, 2.3), 0), ((1, 5.8, 2.7, 5.1, 1.9), 0), ((1, 6.8, 3.2, 5.9, 2.3), 0), ((1, 6.7, 3.3, 5.7, 2.5), 0), ((1, 6.7, 3.0, 5.2, 2.3), 0), ((1, 6.3, 2.5, 5.0, 1.9), 0), ((1, 6.5, 3.0, 5.2, 2.0), 0), ((1, 6.2, 3.4, 5.4, 2.3), 0), ((1, 5.9, 3.0, 5.1, 1.8), 0)]\n"
          ]
        }
      ]
    },
    {
      "cell_type": "markdown",
      "metadata": {
        "id": "tQSOfYiJsHLq"
      },
      "source": [
        "#### Building Model"
      ]
    },
    {
      "cell_type": "code",
      "metadata": {
        "id": "xQIjPIx7sLtU"
      },
      "source": [
        "alphaSE = 0.02\n",
        "alphaCE = 0.02\n",
        "modelSetosaSE = [0.01, 0.01, 0.01, 0.01, 0.01] # Initial model SE\n",
        "modelSetosaCE = [0.01, 0.01, 0.01, 0.01, 0.01] # Initial model CE"
      ],
      "execution_count": 24,
      "outputs": []
    },
    {
      "cell_type": "markdown",
      "metadata": {
        "id": "CVMb3GUOsbHp"
      },
      "source": [
        "#### Final Model (Squared Error Loss Function)"
      ]
    },
    {
      "cell_type": "code",
      "metadata": {
        "colab": {
          "base_uri": "https://localhost:8080/"
        },
        "id": "L5OQvrj-sywW",
        "outputId": "52d63039-8e71-4853-c0b3-81bb9a5a79c9"
      },
      "source": [
        "modelSetosaSE = LogisticRegressionSE(alphaSE, modelSetosaSE, dataSetosa, 1000)\n",
        "print(\"Model Learned (SE):\", modelSetosaSE) # Model after 1000 iterations"
      ],
      "execution_count": 25,
      "outputs": [
        {
          "output_type": "stream",
          "name": "stdout",
          "text": [
            "Model Learned (SE): [0.1465186979213436, 0.21573874515453373, 0.7364969628604425, -1.1608261892099507, -0.5195372401007344]\n"
          ]
        }
      ]
    },
    {
      "cell_type": "code",
      "metadata": {
        "id": "XAbdb3tMWVLj"
      },
      "source": [
        "def testModel(data, model): # Tests the model on the original data and prints out some statistics about its performance\n",
        "  X = [x for (x,r) in data]\n",
        "  R = [r for (x,r) in data]\n",
        "  #R = [r if r == 0 else 1 for r in R] # Had to change R values !=0 to 1's to make things easier for iris dataset\n",
        "  N = len(X)\n",
        "  predictions = classify(model, X) # Classify according to the final model learned\n",
        "  truePos = sum([1 for (r,y) in zip(R, predictions) if r == y and r == 1])\n",
        "  trueNeg = sum([1 for (r,y) in zip(R, predictions) if r == y and r == 0])\n",
        "  falsePos = sum([1 for (r,y) in zip(R, predictions) if r != y and r == 0])\n",
        "  falseNeg = sum([1 for (r,y) in zip(R, predictions) if r != y and r == 1])\n",
        "  \n",
        "  accuracy = (truePos + trueNeg) / N # How often we got the correct result\n",
        "  precision = truePos / (truePos + falsePos) # How often we predicted positive and it actually was\n",
        "  recall = truePos / (truePos + falseNeg) # How many of the actual positive examples were classified positive\n",
        "  f1 = 2*recall*precision / (recall + precision) # Combination of recall and precision for overall performance\n",
        "\n",
        "  print(\"True Pos:\", truePos)\n",
        "  print(\"True Neg:\", trueNeg)\n",
        "  print(\"False Pos:\", falsePos)\n",
        "  print(\"False Neg:\", falseNeg)\n",
        "  print(\"Accuracy:\", accuracy)\n",
        "  print(\"Precision:\", precision)\n",
        "  print(\"Recall:\", recall)\n",
        "  print(\"F1:\", f1)"
      ],
      "execution_count": 26,
      "outputs": []
    },
    {
      "cell_type": "markdown",
      "metadata": {
        "id": "_ald5Q5-jozE"
      },
      "source": [
        "##### Model Results on Original Data"
      ]
    },
    {
      "cell_type": "code",
      "metadata": {
        "colab": {
          "base_uri": "https://localhost:8080/"
        },
        "id": "AifQpJSQW1Y6",
        "outputId": "3778c533-583e-4392-db8b-19f4378b0c65"
      },
      "source": [
        "testModel(dataSetosa, modelSetosaSE)"
      ],
      "execution_count": 27,
      "outputs": [
        {
          "output_type": "stream",
          "name": "stdout",
          "text": [
            "True Pos: 50\n",
            "True Neg: 100\n",
            "False Pos: 0\n",
            "False Neg: 0\n",
            "Accuracy: 1.0\n",
            "Precision: 1.0\n",
            "Recall: 1.0\n",
            "F1: 1.0\n"
          ]
        }
      ]
    },
    {
      "cell_type": "markdown",
      "metadata": {
        "id": "rmPCTELssWaO"
      },
      "source": [
        "#### Final Model (Cross Entropy Loss Function)"
      ]
    },
    {
      "cell_type": "code",
      "metadata": {
        "colab": {
          "base_uri": "https://localhost:8080/"
        },
        "id": "dBgkXde-tIzY",
        "outputId": "206ca5f1-7fd1-4ca8-fd77-a34b13d41342"
      },
      "source": [
        "modelSetosaCE = LogisticRegressionCE(alphaCE, modelSetosaCE, dataSetosa, 1000)\n",
        "print(\"Model Learned (CE):\", modelSetosaCE) # Model after 1000 iterations"
      ],
      "execution_count": 28,
      "outputs": [
        {
          "output_type": "stream",
          "name": "stdout",
          "text": [
            "Model Learned (CE): [0.231300226716714, 0.34707696605201777, 1.1770879106082452, -1.8644044236792805, -0.8398524204662405]\n"
          ]
        }
      ]
    },
    {
      "cell_type": "markdown",
      "metadata": {
        "id": "weRM2TGpX1G2"
      },
      "source": [
        "##### Model Results on Original Data"
      ]
    },
    {
      "cell_type": "code",
      "metadata": {
        "colab": {
          "base_uri": "https://localhost:8080/"
        },
        "id": "R1XnKGGNXQ_U",
        "outputId": "98491756-9431-42f7-f530-d46d3d89a184"
      },
      "source": [
        "testModel(dataSetosa, modelSetosaCE)"
      ],
      "execution_count": 29,
      "outputs": [
        {
          "output_type": "stream",
          "name": "stdout",
          "text": [
            "True Pos: 50\n",
            "True Neg: 100\n",
            "False Pos: 0\n",
            "False Neg: 0\n",
            "Accuracy: 1.0\n",
            "Precision: 1.0\n",
            "Recall: 1.0\n",
            "F1: 1.0\n"
          ]
        }
      ]
    },
    {
      "cell_type": "markdown",
      "metadata": {
        "id": "ml4nikJGioqq"
      },
      "source": [
        "#### Results Discussion\n",
        "This model very easily distinguishes between setosa and everything else. This makes sense if you look back at the data visualization and see how separated setosa iris' are from the other two classes. Learning rates and iteration count were very low as it was easy find a \"line\" that classifies setosas.\n",
        "\n",
        "Setosa irises seem to have larger sepal lengths/widths and smaller petal lengths/widths than the other iris species."
      ]
    },
    {
      "cell_type": "markdown",
      "metadata": {
        "id": "HXG1qLCjpyTg"
      },
      "source": [
        "### Versicolor vs. Rest Model"
      ]
    },
    {
      "cell_type": "markdown",
      "metadata": {
        "id": "hu3nn10fX-ZK"
      },
      "source": [
        "#### Data Initialization"
      ]
    },
    {
      "cell_type": "code",
      "metadata": {
        "colab": {
          "base_uri": "https://localhost:8080/"
        },
        "id": "5VC57XZdX-ZK",
        "outputId": "7d54008a-d4bd-4a04-ae7a-66de69ef82ed"
      },
      "source": [
        "dataVersicolor = [((1,x1,x2,x3,x4), species) for (x1,x2,x3,x4,species) in data]\n",
        "dataVersicolor = [(x,1) if species == 'Iris-versicolor' else (x,0) for (x,species) in dataVersicolor]\n",
        "print(dataVersicolor)"
      ],
      "execution_count": 30,
      "outputs": [
        {
          "output_type": "stream",
          "name": "stdout",
          "text": [
            "[((1, 5.1, 3.5, 1.4, 0.2), 0), ((1, 4.9, 3.0, 1.4, 0.2), 0), ((1, 4.7, 3.2, 1.3, 0.2), 0), ((1, 4.6, 3.1, 1.5, 0.2), 0), ((1, 5.0, 3.6, 1.4, 0.2), 0), ((1, 5.4, 3.9, 1.7, 0.4), 0), ((1, 4.6, 3.4, 1.4, 0.3), 0), ((1, 5.0, 3.4, 1.5, 0.2), 0), ((1, 4.4, 2.9, 1.4, 0.2), 0), ((1, 4.9, 3.1, 1.5, 0.1), 0), ((1, 5.4, 3.7, 1.5, 0.2), 0), ((1, 4.8, 3.4, 1.6, 0.2), 0), ((1, 4.8, 3.0, 1.4, 0.1), 0), ((1, 4.3, 3.0, 1.1, 0.1), 0), ((1, 5.8, 4.0, 1.2, 0.2), 0), ((1, 5.7, 4.4, 1.5, 0.4), 0), ((1, 5.4, 3.9, 1.3, 0.4), 0), ((1, 5.1, 3.5, 1.4, 0.3), 0), ((1, 5.7, 3.8, 1.7, 0.3), 0), ((1, 5.1, 3.8, 1.5, 0.3), 0), ((1, 5.4, 3.4, 1.7, 0.2), 0), ((1, 5.1, 3.7, 1.5, 0.4), 0), ((1, 4.6, 3.6, 1.0, 0.2), 0), ((1, 5.1, 3.3, 1.7, 0.5), 0), ((1, 4.8, 3.4, 1.9, 0.2), 0), ((1, 5.0, 3.0, 1.6, 0.2), 0), ((1, 5.0, 3.4, 1.6, 0.4), 0), ((1, 5.2, 3.5, 1.5, 0.2), 0), ((1, 5.2, 3.4, 1.4, 0.2), 0), ((1, 4.7, 3.2, 1.6, 0.2), 0), ((1, 4.8, 3.1, 1.6, 0.2), 0), ((1, 5.4, 3.4, 1.5, 0.4), 0), ((1, 5.2, 4.1, 1.5, 0.1), 0), ((1, 5.5, 4.2, 1.4, 0.2), 0), ((1, 4.9, 3.1, 1.5, 0.1), 0), ((1, 5.0, 3.2, 1.2, 0.2), 0), ((1, 5.5, 3.5, 1.3, 0.2), 0), ((1, 4.9, 3.1, 1.5, 0.1), 0), ((1, 4.4, 3.0, 1.3, 0.2), 0), ((1, 5.1, 3.4, 1.5, 0.2), 0), ((1, 5.0, 3.5, 1.3, 0.3), 0), ((1, 4.5, 2.3, 1.3, 0.3), 0), ((1, 4.4, 3.2, 1.3, 0.2), 0), ((1, 5.0, 3.5, 1.6, 0.6), 0), ((1, 5.1, 3.8, 1.9, 0.4), 0), ((1, 4.8, 3.0, 1.4, 0.3), 0), ((1, 5.1, 3.8, 1.6, 0.2), 0), ((1, 4.6, 3.2, 1.4, 0.2), 0), ((1, 5.3, 3.7, 1.5, 0.2), 0), ((1, 5.0, 3.3, 1.4, 0.2), 0), ((1, 7.0, 3.2, 4.7, 1.4), 1), ((1, 6.4, 3.2, 4.5, 1.5), 1), ((1, 6.9, 3.1, 4.9, 1.5), 1), ((1, 5.5, 2.3, 4.0, 1.3), 1), ((1, 6.5, 2.8, 4.6, 1.5), 1), ((1, 5.7, 2.8, 4.5, 1.3), 1), ((1, 6.3, 3.3, 4.7, 1.6), 1), ((1, 4.9, 2.4, 3.3, 1.0), 1), ((1, 6.6, 2.9, 4.6, 1.3), 1), ((1, 5.2, 2.7, 3.9, 1.4), 1), ((1, 5.0, 2.0, 3.5, 1.0), 1), ((1, 5.9, 3.0, 4.2, 1.5), 1), ((1, 6.0, 2.2, 4.0, 1.0), 1), ((1, 6.1, 2.9, 4.7, 1.4), 1), ((1, 5.6, 2.9, 3.6, 1.3), 1), ((1, 6.7, 3.1, 4.4, 1.4), 1), ((1, 5.6, 3.0, 4.5, 1.5), 1), ((1, 5.8, 2.7, 4.1, 1.0), 1), ((1, 6.2, 2.2, 4.5, 1.5), 1), ((1, 5.6, 2.5, 3.9, 1.1), 1), ((1, 5.9, 3.2, 4.8, 1.8), 1), ((1, 6.1, 2.8, 4.0, 1.3), 1), ((1, 6.3, 2.5, 4.9, 1.5), 1), ((1, 6.1, 2.8, 4.7, 1.2), 1), ((1, 6.4, 2.9, 4.3, 1.3), 1), ((1, 6.6, 3.0, 4.4, 1.4), 1), ((1, 6.8, 2.8, 4.8, 1.4), 1), ((1, 6.7, 3.0, 5.0, 1.7), 1), ((1, 6.0, 2.9, 4.5, 1.5), 1), ((1, 5.7, 2.6, 3.5, 1.0), 1), ((1, 5.5, 2.4, 3.8, 1.1), 1), ((1, 5.5, 2.4, 3.7, 1.0), 1), ((1, 5.8, 2.7, 3.9, 1.2), 1), ((1, 6.0, 2.7, 5.1, 1.6), 1), ((1, 5.4, 3.0, 4.5, 1.5), 1), ((1, 6.0, 3.4, 4.5, 1.6), 1), ((1, 6.7, 3.1, 4.7, 1.5), 1), ((1, 6.3, 2.3, 4.4, 1.3), 1), ((1, 5.6, 3.0, 4.1, 1.3), 1), ((1, 5.5, 2.5, 4.0, 1.3), 1), ((1, 5.5, 2.6, 4.4, 1.2), 1), ((1, 6.1, 3.0, 4.6, 1.4), 1), ((1, 5.8, 2.6, 4.0, 1.2), 1), ((1, 5.0, 2.3, 3.3, 1.0), 1), ((1, 5.6, 2.7, 4.2, 1.3), 1), ((1, 5.7, 3.0, 4.2, 1.2), 1), ((1, 5.7, 2.9, 4.2, 1.3), 1), ((1, 6.2, 2.9, 4.3, 1.3), 1), ((1, 5.1, 2.5, 3.0, 1.1), 1), ((1, 5.7, 2.8, 4.1, 1.3), 1), ((1, 6.3, 3.3, 6.0, 2.5), 0), ((1, 5.8, 2.7, 5.1, 1.9), 0), ((1, 7.1, 3.0, 5.9, 2.1), 0), ((1, 6.3, 2.9, 5.6, 1.8), 0), ((1, 6.5, 3.0, 5.8, 2.2), 0), ((1, 7.6, 3.0, 6.6, 2.1), 0), ((1, 4.9, 2.5, 4.5, 1.7), 0), ((1, 7.3, 2.9, 6.3, 1.8), 0), ((1, 6.7, 2.5, 5.8, 1.8), 0), ((1, 7.2, 3.6, 6.1, 2.5), 0), ((1, 6.5, 3.2, 5.1, 2.0), 0), ((1, 6.4, 2.7, 5.3, 1.9), 0), ((1, 6.8, 3.0, 5.5, 2.1), 0), ((1, 5.7, 2.5, 5.0, 2.0), 0), ((1, 5.8, 2.8, 5.1, 2.4), 0), ((1, 6.4, 3.2, 5.3, 2.3), 0), ((1, 6.5, 3.0, 5.5, 1.8), 0), ((1, 7.7, 3.8, 6.7, 2.2), 0), ((1, 7.7, 2.6, 6.9, 2.3), 0), ((1, 6.0, 2.2, 5.0, 1.5), 0), ((1, 6.9, 3.2, 5.7, 2.3), 0), ((1, 5.6, 2.8, 4.9, 2.0), 0), ((1, 7.7, 2.8, 6.7, 2.0), 0), ((1, 6.3, 2.7, 4.9, 1.8), 0), ((1, 6.7, 3.3, 5.7, 2.1), 0), ((1, 7.2, 3.2, 6.0, 1.8), 0), ((1, 6.2, 2.8, 4.8, 1.8), 0), ((1, 6.1, 3.0, 4.9, 1.8), 0), ((1, 6.4, 2.8, 5.6, 2.1), 0), ((1, 7.2, 3.0, 5.8, 1.6), 0), ((1, 7.4, 2.8, 6.1, 1.9), 0), ((1, 7.9, 3.8, 6.4, 2.0), 0), ((1, 6.4, 2.8, 5.6, 2.2), 0), ((1, 6.3, 2.8, 5.1, 1.5), 0), ((1, 6.1, 2.6, 5.6, 1.4), 0), ((1, 7.7, 3.0, 6.1, 2.3), 0), ((1, 6.3, 3.4, 5.6, 2.4), 0), ((1, 6.4, 3.1, 5.5, 1.8), 0), ((1, 6.0, 3.0, 4.8, 1.8), 0), ((1, 6.9, 3.1, 5.4, 2.1), 0), ((1, 6.7, 3.1, 5.6, 2.4), 0), ((1, 6.9, 3.1, 5.1, 2.3), 0), ((1, 5.8, 2.7, 5.1, 1.9), 0), ((1, 6.8, 3.2, 5.9, 2.3), 0), ((1, 6.7, 3.3, 5.7, 2.5), 0), ((1, 6.7, 3.0, 5.2, 2.3), 0), ((1, 6.3, 2.5, 5.0, 1.9), 0), ((1, 6.5, 3.0, 5.2, 2.0), 0), ((1, 6.2, 3.4, 5.4, 2.3), 0), ((1, 5.9, 3.0, 5.1, 1.8), 0)]\n"
          ]
        }
      ]
    },
    {
      "cell_type": "markdown",
      "metadata": {
        "id": "bqVB1PTEX-ZL"
      },
      "source": [
        "#### Building Model"
      ]
    },
    {
      "cell_type": "code",
      "metadata": {
        "id": "z0WcA_4TX-ZL"
      },
      "source": [
        "alphaSE = 0.1\n",
        "alphaCE = 0.1\n",
        "modelVersicolorSE = [0.01, 0.01, 0.01, 0.01, 0.01] # Initial model SE\n",
        "modelVersicolorCE = [0.01, 0.01, 0.01, 0.01, 0.01] # Initial model CE"
      ],
      "execution_count": 31,
      "outputs": []
    },
    {
      "cell_type": "markdown",
      "metadata": {
        "id": "Grka7_JmX-ZL"
      },
      "source": [
        "#### Final Model (Squared Error Loss Function)"
      ]
    },
    {
      "cell_type": "code",
      "metadata": {
        "colab": {
          "base_uri": "https://localhost:8080/"
        },
        "id": "DVR33gG6X-ZL",
        "outputId": "bbd5666a-ee69-4377-886c-29c74a6b3aac"
      },
      "source": [
        "modelVersicolorSE = LogisticRegressionSE(alphaSE, modelVersicolorSE, dataVersicolor, 1000)\n",
        "print(\"Model Learned (SE):\", modelVersicolorSE) # Model after 1000 iterations"
      ],
      "execution_count": 32,
      "outputs": [
        {
          "output_type": "stream",
          "name": "stdout",
          "text": [
            "Model Learned (SE): [0.3891231816125636, 0.4058877115486959, -1.189324267211758, 0.3303674917680032, -0.886454273134278]\n"
          ]
        }
      ]
    },
    {
      "cell_type": "markdown",
      "metadata": {
        "id": "EBMzeLFqX-ZL"
      },
      "source": [
        "##### Model Results on Original Data"
      ]
    },
    {
      "cell_type": "code",
      "metadata": {
        "colab": {
          "base_uri": "https://localhost:8080/"
        },
        "id": "ApWG2qUyX-ZL",
        "outputId": "a2f67999-0aef-43af-ec5a-36f14b75b4d8"
      },
      "source": [
        "testModel(dataVersicolor, modelVersicolorSE)"
      ],
      "execution_count": 33,
      "outputs": [
        {
          "output_type": "stream",
          "name": "stdout",
          "text": [
            "True Pos: 12\n",
            "True Neg: 91\n",
            "False Pos: 9\n",
            "False Neg: 38\n",
            "Accuracy: 0.6866666666666666\n",
            "Precision: 0.5714285714285714\n",
            "Recall: 0.24\n",
            "F1: 0.33802816901408445\n"
          ]
        }
      ]
    },
    {
      "cell_type": "markdown",
      "metadata": {
        "id": "HdssV1B7X-ZL"
      },
      "source": [
        "#### Final Model (Cross Entropy Loss Function)"
      ]
    },
    {
      "cell_type": "code",
      "metadata": {
        "colab": {
          "base_uri": "https://localhost:8080/"
        },
        "id": "gY4e3QRCX-ZL",
        "outputId": "8d99d957-afdb-4b47-a011-7b18d41fc513"
      },
      "source": [
        "modelVersicolorCE = LogisticRegressionCE(alphaCE, modelVersicolorCE, dataVersicolor, 1000)\n",
        "print(\"Model Learned (CE):\", modelVersicolorCE) # Model after 1000 iterations"
      ],
      "execution_count": 34,
      "outputs": [
        {
          "output_type": "stream",
          "name": "stdout",
          "text": [
            "Model Learned (CE): [0.8321826200719452, 0.6001803278142375, -1.7862958795819457, 0.5401535485005801, -1.4941864703679544]\n"
          ]
        }
      ]
    },
    {
      "cell_type": "markdown",
      "metadata": {
        "id": "jMkbxinPX-ZL"
      },
      "source": [
        "##### Model Results on Original Data"
      ]
    },
    {
      "cell_type": "code",
      "metadata": {
        "colab": {
          "base_uri": "https://localhost:8080/"
        },
        "id": "1s8t0fpAX-ZL",
        "outputId": "4c595d06-1831-4c1a-b0e3-804cfa5e04ab"
      },
      "source": [
        "testModel(dataVersicolor, modelVersicolorCE)"
      ],
      "execution_count": 35,
      "outputs": [
        {
          "output_type": "stream",
          "name": "stdout",
          "text": [
            "True Pos: 17\n",
            "True Neg: 89\n",
            "False Pos: 11\n",
            "False Neg: 33\n",
            "Accuracy: 0.7066666666666667\n",
            "Precision: 0.6071428571428571\n",
            "Recall: 0.34\n",
            "F1: 0.43589743589743596\n"
          ]
        }
      ]
    },
    {
      "cell_type": "markdown",
      "metadata": {
        "id": "hrfKetHVixJf"
      },
      "source": [
        "#### Results Discussion\n",
        "This model struggled a lot more than the setosa and virginica if you look ahead. I believe this has to do with the fact that you can't really create a line that separates this class from both of the other classes. If you look at the visualization of the data, the three classes form somewhat of a line if you set points in the middles of their data points. Because of this, a line cannot separate the middle class from both of the other classes at the same time easily.\n",
        "\n",
        "It seems like the best indication of an iris being a virginica versus the other classes was a decent sepal and petal length, and very small sepal and petal widths."
      ]
    },
    {
      "cell_type": "markdown",
      "metadata": {
        "id": "oPiONX91pylt"
      },
      "source": [
        "### Virginica vs. Rest Model"
      ]
    },
    {
      "cell_type": "markdown",
      "metadata": {
        "id": "R_fAmrAlcQs0"
      },
      "source": [
        "#### Data Initialization"
      ]
    },
    {
      "cell_type": "code",
      "metadata": {
        "colab": {
          "base_uri": "https://localhost:8080/"
        },
        "id": "KzN0doh8cQs0",
        "outputId": "6d763463-e627-4d04-ee11-ecd3cd137a7d"
      },
      "source": [
        "dataVirginica = [((1,x1,x2,x3,x4), species) for (x1,x2,x3,x4,species) in data]\n",
        "dataVirginica = [(x,1) if species == 'Iris-virginica' else (x,0) for (x,species) in dataVirginica]\n",
        "print(dataVirginica)"
      ],
      "execution_count": 36,
      "outputs": [
        {
          "output_type": "stream",
          "name": "stdout",
          "text": [
            "[((1, 5.1, 3.5, 1.4, 0.2), 0), ((1, 4.9, 3.0, 1.4, 0.2), 0), ((1, 4.7, 3.2, 1.3, 0.2), 0), ((1, 4.6, 3.1, 1.5, 0.2), 0), ((1, 5.0, 3.6, 1.4, 0.2), 0), ((1, 5.4, 3.9, 1.7, 0.4), 0), ((1, 4.6, 3.4, 1.4, 0.3), 0), ((1, 5.0, 3.4, 1.5, 0.2), 0), ((1, 4.4, 2.9, 1.4, 0.2), 0), ((1, 4.9, 3.1, 1.5, 0.1), 0), ((1, 5.4, 3.7, 1.5, 0.2), 0), ((1, 4.8, 3.4, 1.6, 0.2), 0), ((1, 4.8, 3.0, 1.4, 0.1), 0), ((1, 4.3, 3.0, 1.1, 0.1), 0), ((1, 5.8, 4.0, 1.2, 0.2), 0), ((1, 5.7, 4.4, 1.5, 0.4), 0), ((1, 5.4, 3.9, 1.3, 0.4), 0), ((1, 5.1, 3.5, 1.4, 0.3), 0), ((1, 5.7, 3.8, 1.7, 0.3), 0), ((1, 5.1, 3.8, 1.5, 0.3), 0), ((1, 5.4, 3.4, 1.7, 0.2), 0), ((1, 5.1, 3.7, 1.5, 0.4), 0), ((1, 4.6, 3.6, 1.0, 0.2), 0), ((1, 5.1, 3.3, 1.7, 0.5), 0), ((1, 4.8, 3.4, 1.9, 0.2), 0), ((1, 5.0, 3.0, 1.6, 0.2), 0), ((1, 5.0, 3.4, 1.6, 0.4), 0), ((1, 5.2, 3.5, 1.5, 0.2), 0), ((1, 5.2, 3.4, 1.4, 0.2), 0), ((1, 4.7, 3.2, 1.6, 0.2), 0), ((1, 4.8, 3.1, 1.6, 0.2), 0), ((1, 5.4, 3.4, 1.5, 0.4), 0), ((1, 5.2, 4.1, 1.5, 0.1), 0), ((1, 5.5, 4.2, 1.4, 0.2), 0), ((1, 4.9, 3.1, 1.5, 0.1), 0), ((1, 5.0, 3.2, 1.2, 0.2), 0), ((1, 5.5, 3.5, 1.3, 0.2), 0), ((1, 4.9, 3.1, 1.5, 0.1), 0), ((1, 4.4, 3.0, 1.3, 0.2), 0), ((1, 5.1, 3.4, 1.5, 0.2), 0), ((1, 5.0, 3.5, 1.3, 0.3), 0), ((1, 4.5, 2.3, 1.3, 0.3), 0), ((1, 4.4, 3.2, 1.3, 0.2), 0), ((1, 5.0, 3.5, 1.6, 0.6), 0), ((1, 5.1, 3.8, 1.9, 0.4), 0), ((1, 4.8, 3.0, 1.4, 0.3), 0), ((1, 5.1, 3.8, 1.6, 0.2), 0), ((1, 4.6, 3.2, 1.4, 0.2), 0), ((1, 5.3, 3.7, 1.5, 0.2), 0), ((1, 5.0, 3.3, 1.4, 0.2), 0), ((1, 7.0, 3.2, 4.7, 1.4), 0), ((1, 6.4, 3.2, 4.5, 1.5), 0), ((1, 6.9, 3.1, 4.9, 1.5), 0), ((1, 5.5, 2.3, 4.0, 1.3), 0), ((1, 6.5, 2.8, 4.6, 1.5), 0), ((1, 5.7, 2.8, 4.5, 1.3), 0), ((1, 6.3, 3.3, 4.7, 1.6), 0), ((1, 4.9, 2.4, 3.3, 1.0), 0), ((1, 6.6, 2.9, 4.6, 1.3), 0), ((1, 5.2, 2.7, 3.9, 1.4), 0), ((1, 5.0, 2.0, 3.5, 1.0), 0), ((1, 5.9, 3.0, 4.2, 1.5), 0), ((1, 6.0, 2.2, 4.0, 1.0), 0), ((1, 6.1, 2.9, 4.7, 1.4), 0), ((1, 5.6, 2.9, 3.6, 1.3), 0), ((1, 6.7, 3.1, 4.4, 1.4), 0), ((1, 5.6, 3.0, 4.5, 1.5), 0), ((1, 5.8, 2.7, 4.1, 1.0), 0), ((1, 6.2, 2.2, 4.5, 1.5), 0), ((1, 5.6, 2.5, 3.9, 1.1), 0), ((1, 5.9, 3.2, 4.8, 1.8), 0), ((1, 6.1, 2.8, 4.0, 1.3), 0), ((1, 6.3, 2.5, 4.9, 1.5), 0), ((1, 6.1, 2.8, 4.7, 1.2), 0), ((1, 6.4, 2.9, 4.3, 1.3), 0), ((1, 6.6, 3.0, 4.4, 1.4), 0), ((1, 6.8, 2.8, 4.8, 1.4), 0), ((1, 6.7, 3.0, 5.0, 1.7), 0), ((1, 6.0, 2.9, 4.5, 1.5), 0), ((1, 5.7, 2.6, 3.5, 1.0), 0), ((1, 5.5, 2.4, 3.8, 1.1), 0), ((1, 5.5, 2.4, 3.7, 1.0), 0), ((1, 5.8, 2.7, 3.9, 1.2), 0), ((1, 6.0, 2.7, 5.1, 1.6), 0), ((1, 5.4, 3.0, 4.5, 1.5), 0), ((1, 6.0, 3.4, 4.5, 1.6), 0), ((1, 6.7, 3.1, 4.7, 1.5), 0), ((1, 6.3, 2.3, 4.4, 1.3), 0), ((1, 5.6, 3.0, 4.1, 1.3), 0), ((1, 5.5, 2.5, 4.0, 1.3), 0), ((1, 5.5, 2.6, 4.4, 1.2), 0), ((1, 6.1, 3.0, 4.6, 1.4), 0), ((1, 5.8, 2.6, 4.0, 1.2), 0), ((1, 5.0, 2.3, 3.3, 1.0), 0), ((1, 5.6, 2.7, 4.2, 1.3), 0), ((1, 5.7, 3.0, 4.2, 1.2), 0), ((1, 5.7, 2.9, 4.2, 1.3), 0), ((1, 6.2, 2.9, 4.3, 1.3), 0), ((1, 5.1, 2.5, 3.0, 1.1), 0), ((1, 5.7, 2.8, 4.1, 1.3), 0), ((1, 6.3, 3.3, 6.0, 2.5), 1), ((1, 5.8, 2.7, 5.1, 1.9), 1), ((1, 7.1, 3.0, 5.9, 2.1), 1), ((1, 6.3, 2.9, 5.6, 1.8), 1), ((1, 6.5, 3.0, 5.8, 2.2), 1), ((1, 7.6, 3.0, 6.6, 2.1), 1), ((1, 4.9, 2.5, 4.5, 1.7), 1), ((1, 7.3, 2.9, 6.3, 1.8), 1), ((1, 6.7, 2.5, 5.8, 1.8), 1), ((1, 7.2, 3.6, 6.1, 2.5), 1), ((1, 6.5, 3.2, 5.1, 2.0), 1), ((1, 6.4, 2.7, 5.3, 1.9), 1), ((1, 6.8, 3.0, 5.5, 2.1), 1), ((1, 5.7, 2.5, 5.0, 2.0), 1), ((1, 5.8, 2.8, 5.1, 2.4), 1), ((1, 6.4, 3.2, 5.3, 2.3), 1), ((1, 6.5, 3.0, 5.5, 1.8), 1), ((1, 7.7, 3.8, 6.7, 2.2), 1), ((1, 7.7, 2.6, 6.9, 2.3), 1), ((1, 6.0, 2.2, 5.0, 1.5), 1), ((1, 6.9, 3.2, 5.7, 2.3), 1), ((1, 5.6, 2.8, 4.9, 2.0), 1), ((1, 7.7, 2.8, 6.7, 2.0), 1), ((1, 6.3, 2.7, 4.9, 1.8), 1), ((1, 6.7, 3.3, 5.7, 2.1), 1), ((1, 7.2, 3.2, 6.0, 1.8), 1), ((1, 6.2, 2.8, 4.8, 1.8), 1), ((1, 6.1, 3.0, 4.9, 1.8), 1), ((1, 6.4, 2.8, 5.6, 2.1), 1), ((1, 7.2, 3.0, 5.8, 1.6), 1), ((1, 7.4, 2.8, 6.1, 1.9), 1), ((1, 7.9, 3.8, 6.4, 2.0), 1), ((1, 6.4, 2.8, 5.6, 2.2), 1), ((1, 6.3, 2.8, 5.1, 1.5), 1), ((1, 6.1, 2.6, 5.6, 1.4), 1), ((1, 7.7, 3.0, 6.1, 2.3), 1), ((1, 6.3, 3.4, 5.6, 2.4), 1), ((1, 6.4, 3.1, 5.5, 1.8), 1), ((1, 6.0, 3.0, 4.8, 1.8), 1), ((1, 6.9, 3.1, 5.4, 2.1), 1), ((1, 6.7, 3.1, 5.6, 2.4), 1), ((1, 6.9, 3.1, 5.1, 2.3), 1), ((1, 5.8, 2.7, 5.1, 1.9), 1), ((1, 6.8, 3.2, 5.9, 2.3), 1), ((1, 6.7, 3.3, 5.7, 2.5), 1), ((1, 6.7, 3.0, 5.2, 2.3), 1), ((1, 6.3, 2.5, 5.0, 1.9), 1), ((1, 6.5, 3.0, 5.2, 2.0), 1), ((1, 6.2, 3.4, 5.4, 2.3), 1), ((1, 5.9, 3.0, 5.1, 1.8), 1)]\n"
          ]
        }
      ]
    },
    {
      "cell_type": "markdown",
      "metadata": {
        "id": "ZlURjiKGcQs0"
      },
      "source": [
        "#### Building Model"
      ]
    },
    {
      "cell_type": "code",
      "metadata": {
        "id": "s4JD_4pFcQs0"
      },
      "source": [
        "alphaSE = 0.02\n",
        "alphaCE = 0.02\n",
        "modelVirginicaSE = [0.01, 0.01, 0.01, 0.01, 0.01] # Initial model SE\n",
        "modelVirginicaCE = [0.01, 0.01, 0.01, 0.01, 0.01] # Initial model CE"
      ],
      "execution_count": 37,
      "outputs": []
    },
    {
      "cell_type": "markdown",
      "metadata": {
        "id": "D8PQhduUcQs1"
      },
      "source": [
        "#### Final Model (Squared Error Loss Function)"
      ]
    },
    {
      "cell_type": "code",
      "metadata": {
        "colab": {
          "base_uri": "https://localhost:8080/"
        },
        "id": "be9wHplrcQs1",
        "outputId": "17f6eb93-c52d-4ed6-9d68-0227e77fbafd"
      },
      "source": [
        "modelVirginicaSE = LogisticRegressionSE(alphaSE, modelVirginicaSE, dataVirginica, 1000)\n",
        "print(\"Model Learned (SE):\", modelVirginicaSE) # Model after 1000 iterations"
      ],
      "execution_count": 38,
      "outputs": [
        {
          "output_type": "stream",
          "name": "stdout",
          "text": [
            "Model Learned (SE): [-0.26191769171161006, -0.5948725878853423, -0.5898485002408734, 0.9336672594439202, 0.7086444693542031]\n"
          ]
        }
      ]
    },
    {
      "cell_type": "markdown",
      "metadata": {
        "id": "24IX-5NGcQs1"
      },
      "source": [
        "##### Model Results on Original Data"
      ]
    },
    {
      "cell_type": "code",
      "metadata": {
        "colab": {
          "base_uri": "https://localhost:8080/"
        },
        "id": "Q6OYRGoScQs1",
        "outputId": "bbc2c69c-e84d-477a-84a6-da99e9171a80"
      },
      "source": [
        "testModel(dataVirginica, modelVirginicaSE)"
      ],
      "execution_count": 39,
      "outputs": [
        {
          "output_type": "stream",
          "name": "stdout",
          "text": [
            "True Pos: 50\n",
            "True Neg: 95\n",
            "False Pos: 5\n",
            "False Neg: 0\n",
            "Accuracy: 0.9666666666666667\n",
            "Precision: 0.9090909090909091\n",
            "Recall: 1.0\n",
            "F1: 0.9523809523809523\n"
          ]
        }
      ]
    },
    {
      "cell_type": "markdown",
      "metadata": {
        "id": "xcL2I7w-cQs1"
      },
      "source": [
        "#### Final Model (Cross Entropy Loss Function)"
      ]
    },
    {
      "cell_type": "code",
      "metadata": {
        "colab": {
          "base_uri": "https://localhost:8080/"
        },
        "id": "vE91nqPlcQs1",
        "outputId": "0d43502a-52ec-4030-8cf1-36f098f08c1e"
      },
      "source": [
        "modelVirginicaCE = LogisticRegressionCE(alphaCE, modelVirginicaCE, dataVirginica, 1000)\n",
        "print(\"Model Learned (CE):\", modelVirginicaCE) # Model after 1000 iterations"
      ],
      "execution_count": 40,
      "outputs": [
        {
          "output_type": "stream",
          "name": "stdout",
          "text": [
            "Model Learned (CE): [-0.4563797067572469, -0.9968823286625594, -0.9671435169833719, 1.5416028397631534, 1.2045452291084213]\n"
          ]
        }
      ]
    },
    {
      "cell_type": "markdown",
      "metadata": {
        "id": "KlD63VLKcQs1"
      },
      "source": [
        "##### Model Results on Original Data"
      ]
    },
    {
      "cell_type": "code",
      "metadata": {
        "colab": {
          "base_uri": "https://localhost:8080/"
        },
        "id": "nkEUmpFUcQs1",
        "outputId": "fe14bc8c-c66b-4c89-926c-1da4ebce0142"
      },
      "source": [
        "testModel(dataVirginica, modelVirginicaCE)"
      ],
      "execution_count": 41,
      "outputs": [
        {
          "output_type": "stream",
          "name": "stdout",
          "text": [
            "True Pos: 50\n",
            "True Neg: 96\n",
            "False Pos: 4\n",
            "False Neg: 0\n",
            "Accuracy: 0.9733333333333334\n",
            "Precision: 0.9259259259259259\n",
            "Recall: 1.0\n",
            "F1: 0.9615384615384615\n"
          ]
        }
      ]
    },
    {
      "cell_type": "markdown",
      "metadata": {
        "id": "mPr8teeMiyHY"
      },
      "source": [
        "#### Results Discussion\n",
        "This model worked out pretty well like the setosas, which follows the previous logic that the non-middle classes can be separated more easily from both of the other classes than the middle class can.\n",
        "\n",
        "Virginica irises seem to have small sepal lengths/widths and large petal lengths/widths."
      ]
    },
    {
      "cell_type": "markdown",
      "metadata": {
        "id": "bFcWeAGFlLMk"
      },
      "source": [
        "## Interesting Results\n",
        "I was able to create three different models for each class of iris species.\n",
        "\n",
        "Setosa and viriginica irises were very easy to distinguish where as versicolors were much more difficult.\n",
        "\n",
        "Based on the weights of the final models, I found some basic relationships and commonalities for each type of iris, which is summarized below.\n",
        "\n",
        "*   Setosa: Larger Sepals, Smaller Petals   \n",
        "*   Virginica: Smaller Sepals, Larger Petals\n",
        "*   Versicolor: Large Length, Small Width for Sepals and Petals\n",
        "\n"
      ]
    },
    {
      "cell_type": "markdown",
      "metadata": {
        "id": "CEknl73DePRD"
      },
      "source": [
        "## Multi-class Classification Testing\n",
        "Now that I've shown the result of each model independently, I'll show how all three models operate in a multi-class classification test where each data point will be run through each model to determine the species with the highest probability."
      ]
    },
    {
      "cell_type": "code",
      "metadata": {
        "id": "fLUMp13SrBoc"
      },
      "source": [
        "data = [((1,x1,x2,x3,x4),species) for (x1,x2,x3,x4,species) in data]"
      ],
      "execution_count": 42,
      "outputs": []
    },
    {
      "cell_type": "code",
      "metadata": {
        "colab": {
          "base_uri": "https://localhost:8080/"
        },
        "id": "_2M7pqC5nFYb",
        "outputId": "a34e2c19-4033-4bcf-f84d-3c98a9129296"
      },
      "source": [
        "yActual = [r for (x,r) in data]\n",
        "yPredicted = []\n",
        "\n",
        "for (x,r) in data:\n",
        "  predictionSetosa = sigmoid(F(modelSetosaSE, x))\n",
        "  predictionVersicolor = sigmoid(F(modelVersicolorSE, x))\n",
        "  predictionVirginica = sigmoid(F(modelVirginicaSE, x))\n",
        "  print(predictionVirginica)\n",
        "\n",
        "  classPredictions = {'Iris-setosa':predictionSetosa, 'Iris-versicolor':predictionVersicolor, 'Iris-virginica':predictionVirginica}\n",
        "  chosenClass = max(classPredictions, key=classPredictions.get)\n",
        "  yPredicted.append(chosenClass)\n",
        "\n",
        "  print(\"Data Point:\", x)\n",
        "  print(\"Setosa Probability:\", predictionSetosa)\n",
        "  print(\"Versicolor Probability:\", predictionVersicolor)\n",
        "  print(\"Virginica Probability:\", predictionVirginica)\n",
        "  print(\"Chosen Class:\", chosenClass)\n",
        "  print(\"Actual Class:\", r)\n",
        "  print()"
      ],
      "execution_count": 43,
      "outputs": [
        {
          "output_type": "stream",
          "name": "stdout",
          "text": [
            "0.019620311875663515\n",
            "Data Point: (1, 5.1, 3.5, 1.4, 0.2)\n",
            "Setosa Probability: 0.8904612828063289\n",
            "Versicolor Probability: 0.19493438151164819\n",
            "Virginica Probability: 0.019620311875663515\n",
            "Chosen Class: Iris-setosa\n",
            "Actual Class: Iris-setosa\n",
            "\n",
            "0.029384136813147874\n",
            "Data Point: (1, 4.9, 3.0, 1.4, 0.2)\n",
            "Setosa Probability: 0.8434420970139531\n",
            "Versicolor Probability: 0.28806997666699297\n",
            "Virginica Probability: 0.029384136813147874\n",
            "Chosen Class: Iris-setosa\n",
            "Actual Class: Iris-setosa\n",
            "\n",
            "0.026861360315469845\n",
            "Data Point: (1, 4.7, 3.2, 1.3, 0.2)\n",
            "Setosa Probability: 0.8703773806003035\n",
            "Versicolor Probability: 0.22151570210967356\n",
            "Virginica Probability: 0.026861360315469845\n",
            "Chosen Class: Iris-setosa\n",
            "Actual Class: Iris-setosa\n",
            "\n",
            "0.03610217575874169\n",
            "Data Point: (1, 4.6, 3.1, 1.5, 0.2)\n",
            "Setosa Probability: 0.8287665638600495\n",
            "Versicolor Probability: 0.2474166139515473\n",
            "Virginica Probability: 0.03610217575874169\n",
            "Chosen Class: Iris-setosa\n",
            "Actual Class: Iris-setosa\n",
            "\n",
            "0.01962997821946152\n",
            "Data Point: (1, 5.0, 3.6, 1.4, 0.2)\n",
            "Setosa Probability: 0.895438429750151\n",
            "Versicolor Probability: 0.17110983590704815\n",
            "Virginica Probability: 0.01962997821946152\n",
            "Chosen Class: Iris-setosa\n",
            "Actual Class: Iris-setosa\n",
            "\n",
            "0.019763701062768795\n",
            "Data Point: (1, 5.4, 3.9, 1.7, 0.4)\n",
            "Setosa Probability: 0.8810725846196306\n",
            "Versicolor Probability: 0.13582537686779986\n",
            "Virginica Probability: 0.019763701062768795\n",
            "Chosen Class: Iris-setosa\n",
            "Actual Class: Iris-setosa\n",
            "\n",
            "0.029768353352533923\n",
            "Data Point: (1, 4.6, 3.4, 1.4, 0.3)\n",
            "Setosa Probability: 0.8655285861387882\n",
            "Versicolor Probability: 0.16925482956333876\n",
            "Virginica Probability: 0.029768353352533923\n",
            "Chosen Class: Iris-setosa\n",
            "Actual Class: Iris-setosa\n",
            "\n",
            "0.024137954581949693\n",
            "Data Point: (1, 5.0, 3.4, 1.5, 0.2)\n",
            "Setosa Probability: 0.8680876916407937\n",
            "Versicolor Probability: 0.21300933662083305\n",
            "Virginica Probability: 0.024137954581949693\n",
            "Chosen Class: Iris-setosa\n",
            "Actual Class: Iris-setosa\n",
            "\n",
            "0.04144519955502361\n",
            "Data Point: (1, 4.4, 2.9, 1.4, 0.2)\n",
            "Setosa Probability: 0.817953934194909\n",
            "Versicolor Probability: 0.2711516101930873\n",
            "Virginica Probability: 0.04144519955502361\n",
            "Chosen Class: Iris-setosa\n",
            "Actual Class: Iris-setosa\n",
            "\n",
            "0.02836130277559932\n",
            "Data Point: (1, 4.9, 3.1, 1.5, 0.1)\n",
            "Setosa Probability: 0.8446951884021251\n",
            "Versicolor Probability: 0.28863423939866656\n",
            "Virginica Probability: 0.02836130277559932\n",
            "Chosen Class: Iris-setosa\n",
            "Actual Class: Iris-setosa\n",
            "\n",
            "0.0160725497245121\n",
            "Data Point: (1, 5.4, 3.7, 1.5, 0.2)\n",
            "Setosa Probability: 0.8994745610567626\n",
            "Versicolor Probability: 0.1822283482868343\n",
            "Virginica Probability: 0.0160725497245121\n",
            "Chosen Class: Iris-setosa\n",
            "Actual Class: Iris-setosa\n",
            "\n",
            "0.029678790182520568\n",
            "Data Point: (1, 4.8, 3.4, 1.6, 0.2)\n",
            "Setosa Probability: 0.848762120065095\n",
            "Versicolor Probability: 0.20505068274272403\n",
            "Virginica Probability: 0.029678790182520568\n",
            "Chosen Class: Iris-setosa\n",
            "Actual Class: Iris-setosa\n",
            "\n",
            "0.02906138293492893\n",
            "Data Point: (1, 4.8, 3.0, 1.4, 0.1)\n",
            "Setosa Probability: 0.8474119552713895\n",
            "Versicolor Probability: 0.29802518239109743\n",
            "Virginica Probability: 0.02906138293492893\n",
            "Chosen Class: Iris-setosa\n",
            "Actual Class: Iris-setosa\n",
            "\n",
            "0.02955456711002968\n",
            "Data Point: (1, 4.3, 3.0, 1.1, 0.1)\n",
            "Setosa Probability: 0.8759716608246377\n",
            "Versicolor Probability: 0.2388901913482644\n",
            "Virginica Probability: 0.02955456711002968\n",
            "Chosen Class: Iris-setosa\n",
            "Actual Class: Iris-setosa\n",
            "\n",
            "0.008086474365524428\n",
            "Data Point: (1, 5.8, 4.0, 1.2, 0.2)\n",
            "Setosa Probability: 0.9451578243155478\n",
            "Versicolor Probability: 0.1424760705884776\n",
            "Virginica Probability: 0.008086474365524428\n",
            "Chosen Class: Iris-setosa\n",
            "Actual Class: Iris-setosa\n",
            "\n",
            "0.010312156244718668\n",
            "Data Point: (1, 5.7, 4.4, 1.5, 0.4)\n",
            "Setosa Probability: 0.9350973387991667\n",
            "Versicolor Probability: 0.0839865708567839\n",
            "Virginica Probability: 0.010312156244718668\n",
            "Chosen Class: Iris-setosa\n",
            "Actual Class: Iris-setosa\n",
            "\n",
            "0.013688534713441386\n",
            "Data Point: (1, 5.4, 3.9, 1.3, 0.4)\n",
            "Setosa Probability: 0.921792683239555\n",
            "Versicolor Probability: 0.12104707855844654\n",
            "Virginica Probability: 0.013688534713441386\n",
            "Chosen Class: Iris-setosa\n",
            "Actual Class: Iris-setosa\n",
            "\n",
            "0.021030841480407316\n",
            "Data Point: (1, 5.1, 3.5, 1.4, 0.3)\n",
            "Setosa Probability: 0.8852899756928916\n",
            "Versicolor Probability: 0.18139774411648107\n",
            "Virginica Probability: 0.021030841480407316\n",
            "Chosen Class: Iris-setosa\n",
            "Actual Class: Iris-setosa\n",
            "\n",
            "0.01639435370148068\n",
            "Data Point: (1, 5.7, 3.8, 1.7, 0.3)\n",
            "Setosa Probability: 0.8855075711889802\n",
            "Versicolor Probability: 0.17930539024157685\n",
            "Virginica Probability: 0.01639435370148068\n",
            "Chosen Class: Iris-setosa\n",
            "Actual Class: Iris-setosa\n",
            "\n",
            "0.01937706322543959\n",
            "Data Point: (1, 5.1, 3.8, 1.5, 0.3)\n",
            "Setosa Probability: 0.8955167637308888\n",
            "Versicolor Probability: 0.13815886353078766\n",
            "Virginica Probability: 0.01937706322543959\n",
            "Chosen Class: Iris-setosa\n",
            "Actual Class: Iris-setosa\n",
            "\n",
            "0.02296050898923917\n",
            "Data Point: (1, 5.4, 3.4, 1.7, 0.2)\n",
            "Setosa Probability: 0.8504691771465805\n",
            "Versicolor Probability: 0.25379911033226066\n",
            "Virginica Probability: 0.02296050898923917\n",
            "Chosen Class: Iris-setosa\n",
            "Actual Class: Iris-setosa\n",
            "\n",
            "0.022004702872594723\n",
            "Data Point: (1, 5.1, 3.7, 1.5, 0.4)\n",
            "Setosa Probability: 0.8831672202934611\n",
            "Versicolor Probability: 0.14180484449784095\n",
            "Virginica Probability: 0.022004702872594723\n",
            "Chosen Class: Iris-setosa\n",
            "Actual Class: Iris-setosa\n",
            "\n",
            "0.017184897804374228\n",
            "Data Point: (1, 4.6, 3.6, 1.0, 0.2)\n",
            "Setosa Probability: 0.9259152057604395\n",
            "Versicolor Probability: 0.1332776577374808\n",
            "Virginica Probability: 0.017184897804374228\n",
            "Chosen Class: Iris-setosa\n",
            "Actual Class: Iris-setosa\n",
            "\n",
            "0.03554679333174079\n",
            "Data Point: (1, 5.1, 3.3, 1.7, 0.5)\n",
            "Setosa Probability: 0.8090815178741532\n",
            "Versicolor Probability: 0.20632491652188628\n",
            "Virginica Probability: 0.03554679333174079\n",
            "Chosen Class: Iris-setosa\n",
            "Actual Class: Iris-setosa\n",
            "\n",
            "0.03889962178349641\n",
            "Data Point: (1, 4.8, 3.4, 1.9, 0.2)\n",
            "Setosa Probability: 0.7984568042782848\n",
            "Versicolor Probability: 0.22167860561523461\n",
            "Virginica Probability: 0.03889962178349641\n",
            "Chosen Class: Iris-setosa\n",
            "Actual Class: Iris-setosa\n",
            "\n",
            "0.03323892932332843\n",
            "Data Point: (1, 5.0, 3.0, 1.6, 0.2)\n",
            "Setosa Probability: 0.8135848369075565\n",
            "Versicolor Probability: 0.31042911200703255\n",
            "Virginica Probability: 0.03323892932332843\n",
            "Chosen Class: Iris-setosa\n",
            "Actual Class: Iris-setosa\n",
            "\n",
            "0.03034112948035082\n",
            "Data Point: (1, 5.0, 3.4, 1.6, 0.4)\n",
            "Setosa Probability: 0.8407963527409846\n",
            "Versicolor Probability: 0.18982702806036297\n",
            "Virginica Probability: 0.03034112948035082\n",
            "Chosen Class: Iris-setosa\n",
            "Actual Class: Iris-setosa\n",
            "\n",
            "0.02028271268155743\n",
            "Data Point: (1, 5.2, 3.5, 1.5, 0.2)\n",
            "Setosa Probability: 0.8808970807193104\n",
            "Versicolor Probability: 0.20674882343616297\n",
            "Virginica Probability: 0.02028271268155743\n",
            "Chosen Class: Iris-setosa\n",
            "Actual Class: Iris-setosa\n",
            "\n",
            "0.019610650196625053\n",
            "Data Point: (1, 5.2, 3.4, 1.4, 0.2)\n",
            "Setosa Probability: 0.8852775758824168\n",
            "Versicolor Probability: 0.22119094056947924\n",
            "Virginica Probability: 0.019610650196625053\n",
            "Chosen Class: Iris-setosa\n",
            "Actual Class: Iris-setosa\n",
            "\n",
            "0.03523864071537959\n",
            "Data Point: (1, 4.7, 3.2, 1.6, 0.2)\n",
            "Setosa Probability: 0.8257860717989554\n",
            "Versicolor Probability: 0.23907725420076967\n",
            "Virginica Probability: 0.03523864071537959\n",
            "Chosen Class: Iris-setosa\n",
            "Actual Class: Iris-setosa\n",
            "\n",
            "0.03522156437313657\n",
            "Data Point: (1, 4.8, 3.1, 1.6, 0.2)\n",
            "Setosa Probability: 0.8181667203055887\n",
            "Versicolor Probability: 0.2692907672738707\n",
            "Virginica Probability: 0.03522156437313657\n",
            "Chosen Class: Iris-setosa\n",
            "Actual Class: Iris-setosa\n",
            "\n",
            "0.021972289973207066\n",
            "Data Point: (1, 5.4, 3.4, 1.5, 0.4)\n",
            "Setosa Probability: 0.8660578149936846\n",
            "Versicolor Probability: 0.2105162911173308\n",
            "Virginica Probability: 0.021972289973207066\n",
            "Chosen Class: Iris-setosa\n",
            "Actual Class: Iris-setosa\n",
            "\n",
            "0.013356987035952436\n",
            "Data Point: (1, 5.2, 4.1, 1.5, 0.1)\n",
            "Setosa Probability: 0.9237768075274038\n",
            "Versicolor Probability: 0.12243353297860465\n",
            "Virginica Probability: 0.013356987035952436\n",
            "Chosen Class: Iris-setosa\n",
            "Actual Class: Iris-setosa\n",
            "\n",
            "0.010331039781908698\n",
            "Data Point: (1, 5.5, 4.2, 1.4, 0.2)\n",
            "Setosa Probability: 0.9368674264392348\n",
            "Versicolor Probability: 0.11022619625363718\n",
            "Virginica Probability: 0.010331039781908698\n",
            "Chosen Class: Iris-setosa\n",
            "Actual Class: Iris-setosa\n",
            "\n",
            "0.02836130277559932\n",
            "Data Point: (1, 4.9, 3.1, 1.5, 0.1)\n",
            "Setosa Probability: 0.8446951884021251\n",
            "Versicolor Probability: 0.28863423939866656\n",
            "Virginica Probability: 0.02836130277559932\n",
            "Chosen Class: Iris-setosa\n",
            "Actual Class: Iris-setosa\n",
            "\n",
            "0.020599653723641146\n",
            "Data Point: (1, 5.0, 3.2, 1.2, 0.2)\n",
            "Setosa Probability: 0.8894468969940639\n",
            "Versicolor Probability: 0.23719392537096853\n",
            "Virginica Probability: 0.020599653723641146\n",
            "Chosen Class: Iris-setosa\n",
            "Actual Class: Iris-setosa\n",
            "\n",
            "0.014165342406398981\n",
            "Data Point: (1, 5.5, 3.5, 1.3, 0.2)\n",
            "Setosa Probability: 0.9086979634703622\n",
            "Versicolor Probability: 0.2160318650001189\n",
            "Virginica Probability: 0.014165342406398981\n",
            "Chosen Class: Iris-setosa\n",
            "Actual Class: Iris-setosa\n",
            "\n",
            "0.02836130277559932\n",
            "Data Point: (1, 4.9, 3.1, 1.5, 0.1)\n",
            "Setosa Probability: 0.8446951884021251\n",
            "Versicolor Probability: 0.28863423939866656\n",
            "Virginica Probability: 0.02836130277559932\n",
            "Chosen Class: Iris-setosa\n",
            "Actual Class: Iris-setosa\n",
            "\n",
            "0.03579808775215919\n",
            "Data Point: (1, 4.4, 3.0, 1.3, 0.2)\n",
            "Setosa Probability: 0.8445235791772077\n",
            "Versicolor Probability: 0.24218143787086074\n",
            "Virginica Probability: 0.03579808775215919\n",
            "Chosen Class: Iris-setosa\n",
            "Actual Class: Iris-setosa\n",
            "\n",
            "0.022775678192698136\n",
            "Data Point: (1, 5.1, 3.4, 1.5, 0.2)\n",
            "Setosa Probability: 0.8705385894909258\n",
            "Versicolor Probability: 0.21989272731587972\n",
            "Virginica Probability: 0.022775678192698136\n",
            "Chosen Class: Iris-setosa\n",
            "Actual Class: Iris-setosa\n",
            "\n",
            "0.020344515351835138\n",
            "Data Point: (1, 5.0, 3.5, 1.3, 0.3)\n",
            "Setosa Probability: 0.8945436499016582\n",
            "Versicolor Probability: 0.17072018806236275\n",
            "Virginica Probability: 0.020344515351835138\n",
            "Chosen Class: Iris-setosa\n",
            "Actual Class: Iris-setosa\n",
            "\n",
            "0.05370058603362833\n",
            "Data Point: (1, 4.5, 2.3, 1.3, 0.3)\n",
            "Setosa Probability: 0.7588437533169002\n",
            "Versicolor Probability: 0.4118588022566828\n",
            "Virginica Probability: 0.05370058603362833\n",
            "Chosen Class: Iris-setosa\n",
            "Actual Class: Iris-setosa\n",
            "\n",
            "0.03194182364075928\n",
            "Data Point: (1, 4.4, 3.2, 1.3, 0.2)\n",
            "Setosa Probability: 0.8628987862971402\n",
            "Versicolor Probability: 0.20123045874945772\n",
            "Virginica Probability: 0.03194182364075928\n",
            "Chosen Class: Iris-setosa\n",
            "Actual Class: Iris-setosa\n",
            "\n",
            "0.03287243039520647\n",
            "Data Point: (1, 5.0, 3.5, 1.6, 0.6)\n",
            "Setosa Probability: 0.8367042306066813\n",
            "Versicolor Probability: 0.14838077009160408\n",
            "Virginica Probability: 0.03287243039520647\n",
            "Chosen Class: Iris-setosa\n",
            "Actual Class: Iris-setosa\n",
            "\n",
            "0.029893447326653007\n",
            "Data Point: (1, 5.1, 3.8, 1.9, 0.4)\n",
            "Setosa Probability: 0.836455760590629\n",
            "Versicolor Probability: 0.14342063250360088\n",
            "Virginica Probability: 0.029893447326653007\n",
            "Chosen Class: Iris-setosa\n",
            "Actual Class: Iris-setosa\n",
            "\n",
            "0.033338866968073665\n",
            "Data Point: (1, 4.8, 3.0, 1.4, 0.3)\n",
            "Setosa Probability: 0.8334860292675417\n",
            "Versicolor Probability: 0.26230734391570615\n",
            "Virginica Probability: 0.033338866968073665\n",
            "Chosen Class: Iris-setosa\n",
            "Actual Class: Iris-setosa\n",
            "\n",
            "0.019809298802223683\n",
            "Data Point: (1, 5.1, 3.8, 1.6, 0.2)\n",
            "Setosa Probability: 0.8893624590360591\n",
            "Versicolor Probability: 0.15329546773975322\n",
            "Virginica Probability: 0.019809298802223683\n",
            "Chosen Class: Iris-setosa\n",
            "Actual Class: Iris-setosa\n",
            "\n",
            "0.03115941188977414\n",
            "Data Point: (1, 4.6, 3.2, 1.4, 0.2)\n",
            "Setosa Probability: 0.8540397100931115\n",
            "Versicolor Probability: 0.22021612173259655\n",
            "Virginica Probability: 0.03115941188977414\n",
            "Chosen Class: Iris-setosa\n",
            "Actual Class: Iris-setosa\n",
            "\n",
            "0.01704088491937021\n",
            "Data Point: (1, 5.3, 3.7, 1.5, 0.2)\n",
            "Setosa Probability: 0.8975069688875225\n",
            "Versicolor Probability: 0.17625759208800024\n",
            "Virginica Probability: 0.01704088491937021\n",
            "Chosen Class: Iris-setosa\n",
            "Actual Class: Iris-setosa\n",
            "\n",
            "0.02334119303442029\n",
            "Data Point: (1, 5.0, 3.3, 1.4, 0.2)\n",
            "Setosa Probability: 0.8728713138802588\n",
            "Versicolor Probability: 0.22776320657812968\n",
            "Virginica Probability: 0.02334119303442029\n",
            "Chosen Class: Iris-setosa\n",
            "Actual Class: Iris-setosa\n",
            "\n",
            "0.2822754220196857\n",
            "Data Point: (1, 7.0, 3.2, 4.7, 1.4)\n",
            "Setosa Probability: 0.10249956684940445\n",
            "Versicolor Probability: 0.4344275384371534\n",
            "Virginica Probability: 0.2822754220196857\n",
            "Chosen Class: Iris-versicolor\n",
            "Actual Class: Iris-versicolor\n",
            "\n",
            "0.3335553918779369\n",
            "Data Point: (1, 6.4, 3.2, 4.5, 1.5)\n",
            "Setosa Probability: 0.10726505866370056\n",
            "Versicolor Probability: 0.34027682980506563\n",
            "Virginica Probability: 0.3335553918779369\n",
            "Chosen Class: Iris-versicolor\n",
            "Actual Class: Iris-versicolor\n",
            "\n",
            "0.364211174529159\n",
            "Data Point: (1, 6.9, 3.1, 4.9, 1.5)\n",
            "Setosa Probability: 0.07248713528516901\n",
            "Versicolor Probability: 0.4481773862837487\n",
            "Virginica Probability: 0.364211174529159\n",
            "Chosen Class: Iris-versicolor\n",
            "Actual Class: Iris-versicolor\n",
            "\n",
            "0.4416516435586084\n",
            "Data Point: (1, 5.5, 2.3, 4.0, 1.3)\n",
            "Setosa Probability: 0.09181450479849666\n",
            "Versicolor Probability: 0.513781306668138\n",
            "Virginica Probability: 0.4416516435586084\n",
            "Chosen Class: Iris-versicolor\n",
            "Actual Class: Iris-versicolor\n",
            "\n",
            "0.3959595237268289\n",
            "Data Point: (1, 6.5, 2.8, 4.6, 1.5)\n",
            "Setosa Probability: 0.07529268449951268\n",
            "Versicolor Probability: 0.471853390898876\n",
            "Virginica Probability: 0.3959595237268289\n",
            "Chosen Class: Iris-versicolor\n",
            "Actual Class: Iris-versicolor\n",
            "\n",
            "0.4547425173038174\n",
            "Data Point: (1, 5.7, 2.8, 4.5, 1.3)\n",
            "Setosa Probability: 0.07865993787761581\n",
            "Versicolor Probability: 0.4272300188917752\n",
            "Virginica Probability: 0.4547425173038174\n",
            "Chosen Class: Iris-virginica\n",
            "Actual Class: Iris-versicolor\n",
            "\n",
            "0.39316017544376214\n",
            "Data Point: (1, 6.3, 3.3, 4.7, 1.6)\n",
            "Setosa Probability: 0.08698394502515308\n",
            "Versicolor Probability: 0.30066063747678445\n",
            "Virginica Probability: 0.39316017544376214\n",
            "Chosen Class: Iris-virginica\n",
            "Actual Class: Iris-versicolor\n",
            "\n",
            "0.3094518176410228\n",
            "Data Point: (1, 4.9, 2.4, 3.3, 1.0)\n",
            "Setosa Probability: 0.20116444479413859\n",
            "Versicolor Probability: 0.4322574194976054\n",
            "Virginica Probability: 0.3094518176410228\n",
            "Chosen Class: Iris-versicolor\n",
            "Actual Class: Iris-versicolor\n",
            "\n",
            "0.3356968181278908\n",
            "Data Point: (1, 6.6, 2.9, 4.6, 1.3)\n",
            "Setosa Probability: 0.09038334208599866\n",
            "Versicolor Probability: 0.4965604567512299\n",
            "Virginica Probability: 0.3356968181278908\n",
            "Chosen Class: Iris-versicolor\n",
            "Actual Class: Iris-versicolor\n",
            "\n",
            "0.4220309835411681\n",
            "Data Point: (1, 5.2, 2.7, 3.9, 1.4)\n",
            "Setosa Probability: 0.11944753212888432\n",
            "Versicolor Probability: 0.3398328897437949\n",
            "Virginica Probability: 0.4220309835411681\n",
            "Chosen Class: Iris-virginica\n",
            "Actual Class: Iris-versicolor\n",
            "\n",
            "0.391860650875797\n",
            "Data Point: (1, 5.0, 2.0, 3.5, 1.0)\n",
            "Setosa Probability: 0.13190461483009935\n",
            "Versicolor Probability: 0.576823054648283\n",
            "Virginica Probability: 0.391860650875797\n",
            "Chosen Class: Iris-versicolor\n",
            "Actual Class: Iris-versicolor\n",
            "\n",
            "0.3642784124892222\n",
            "Data Point: (1, 5.9, 3.0, 4.2, 1.5)\n",
            "Setosa Probability: 0.1165095053886265\n",
            "Versicolor Probability: 0.3260181633907135\n",
            "Virginica Probability: 0.3642784124892222\n",
            "Chosen Class: Iris-virginica\n",
            "Actual Class: Iris-versicolor\n",
            "\n",
            "0.335033438555162\n",
            "Data Point: (1, 6.0, 2.2, 4.0, 1.0)\n",
            "Setosa Probability: 0.10894164863614736\n",
            "Versicolor Probability: 0.6554204041637819\n",
            "Virginica Probability: 0.335033438555162\n",
            "Chosen Class: Iris-versicolor\n",
            "Actual Class: Iris-versicolor\n",
            "\n",
            "0.4450076758854195\n",
            "Data Point: (1, 6.1, 2.9, 4.7, 1.4)\n",
            "Setosa Probability: 0.0701185978668565\n",
            "Versicolor Probability: 0.4323398547792281\n",
            "Virginica Probability: 0.4450076758854195\n",
            "Chosen Class: Iris-virginica\n",
            "Actual Class: Iris-versicolor\n",
            "\n",
            "0.26476940829675905\n",
            "Data Point: (1, 5.6, 2.9, 3.6, 1.3)\n",
            "Setosa Probability: 0.20361110037523708\n",
            "Versicolor Probability: 0.3208183389113944\n",
            "Virginica Probability: 0.26476940829675905\n",
            "Chosen Class: Iris-versicolor\n",
            "Actual Class: Iris-versicolor\n",
            "\n",
            "0.27371478093969703\n",
            "Data Point: (1, 6.7, 3.1, 4.4, 1.4)\n",
            "Setosa Probability: 0.12348019797423372\n",
            "Versicolor Probability: 0.4095675474808117\n",
            "Virginica Probability: 0.27371478093969703\n",
            "Chosen Class: Iris-versicolor\n",
            "Actual Class: Iris-versicolor\n",
            "\n",
            "0.475449679556615\n",
            "Data Point: (1, 5.6, 3.0, 4.5, 1.5)\n",
            "Setosa Probability: 0.08025575586864594\n",
            "Versicolor Probability: 0.3210596958659919\n",
            "Virginica Probability: 0.475449679556615\n",
            "Chosen Class: Iris-virginica\n",
            "Actual Class: Iris-versicolor\n",
            "\n",
            "0.31689254813651946\n",
            "Data Point: (1, 5.8, 2.7, 4.1, 1.0)\n",
            "Setosa Probability: 0.13095064796035505\n",
            "Versicolor Probability: 0.5000372075593783\n",
            "Virginica Probability: 0.31689254813651946\n",
            "Chosen Class: Iris-versicolor\n",
            "Actual Class: Iris-versicolor\n",
            "\n",
            "0.504168637008033\n",
            "Data Point: (1, 6.2, 2.2, 4.5, 1.5)\n",
            "Setosa Probability: 0.05222125560984717\n",
            "Versicolor Probability: 0.6097082216615223\n",
            "Virginica Probability: 0.504168637008033\n",
            "Chosen Class: Iris-versicolor\n",
            "Actual Class: Iris-versicolor\n",
            "\n",
            "0.3436626941780507\n",
            "Data Point: (1, 5.6, 2.5, 3.9, 1.1)\n",
            "Setosa Probability: 0.12979020082009646\n",
            "Versicolor Probability: 0.5005293037281214\n",
            "Virginica Probability: 0.3436626941780507\n",
            "Chosen Class: Iris-versicolor\n",
            "Actual Class: Iris-versicolor\n",
            "\n",
            "0.5244758538848489\n",
            "Data Point: (1, 5.9, 3.2, 4.8, 1.8)\n",
            "Setosa Probability: 0.0611707110226407\n",
            "Versicolor Probability: 0.2627293374991262\n",
            "Virginica Probability: 0.5244758538848489\n",
            "Chosen Class: Iris-virginica\n",
            "Actual Class: Iris-versicolor\n",
            "\n",
            "0.29187201813955377\n",
            "Data Point: (1, 6.1, 2.8, 4.0, 1.3)\n",
            "Setosa Probability: 0.14258464620291958\n",
            "Versicolor Probability: 0.42653797557969625\n",
            "Virginica Probability: 0.29187201813955377\n",
            "Chosen Class: Iris-versicolor\n",
            "Actual Class: Iris-versicolor\n",
            "\n",
            "0.538349540536927\n",
            "Data Point: (1, 6.3, 2.5, 4.9, 1.5)\n",
            "Setosa Probability: 0.04227199581948614\n",
            "Versicolor Probability: 0.565133867976428\n",
            "Virginica Probability: 0.538349540536927\n",
            "Chosen Class: Iris-versicolor\n",
            "Actual Class: Iris-versicolor\n",
            "\n",
            "0.4246760095884188\n",
            "Data Point: (1, 6.1, 2.8, 4.7, 1.2)\n",
            "Setosa Probability: 0.07211730842277643\n",
            "Versicolor Probability: 0.5059778045137043\n",
            "Virginica Probability: 0.4246760095884188\n",
            "Chosen Class: Iris-versicolor\n",
            "Actual Class: Iris-versicolor\n",
            "\n",
            "0.3007653727174682\n",
            "Data Point: (1, 6.4, 2.9, 4.3, 1.3)\n",
            "Setosa Probability: 0.11879791062620967\n",
            "Versicolor Probability: 0.4516401048581539\n",
            "Virginica Probability: 0.3007653727174682\n",
            "Chosen Class: Iris-versicolor\n",
            "Actual Class: Iris-versicolor\n",
            "\n",
            "0.29788617719116567\n",
            "Data Point: (1, 6.6, 3.0, 4.4, 1.4)\n",
            "Setosa Probability: 0.11353786036257021\n",
            "Versicolor Probability: 0.4286381229397988\n",
            "Virginica Probability: 0.29788617719116567\n",
            "Chosen Class: Iris-versicolor\n",
            "Actual Class: Iris-versicolor\n",
            "\n",
            "0.38109054508081774\n",
            "Data Point: (1, 6.8, 2.8, 4.8, 1.4)\n",
            "Setosa Probability: 0.06763591974398347\n",
            "Versicolor Probability: 0.5408536325958104\n",
            "Virginica Probability: 0.38109054508081774\n",
            "Chosen Class: Iris-versicolor\n",
            "Actual Class: Iris-versicolor\n",
            "\n",
            "0.4640427705631359\n",
            "Data Point: (1, 6.7, 3.0, 5.0, 1.7)\n",
            "Setosa Probability: 0.05285574122134473\n",
            "Versicolor Probability: 0.42200775569473353\n",
            "Virginica Probability: 0.4640427705631359\n",
            "Chosen Class: Iris-virginica\n",
            "Actual Class: Iris-versicolor\n",
            "\n",
            "0.431129453095192\n",
            "Data Point: (1, 6.0, 2.9, 4.5, 1.5)\n",
            "Setosa Probability: 0.08119417141856582\n",
            "Versicolor Probability: 0.38518003878788204\n",
            "Virginica Probability: 0.431129453095192\n",
            "Chosen Class: Iris-virginica\n",
            "Actual Class: Iris-versicolor\n",
            "\n",
            "0.22973331446574902\n",
            "Data Point: (1, 5.7, 2.6, 3.5, 1.0)\n",
            "Setosa Probability: 0.21563162677960088\n",
            "Versicolor Probability: 0.47010370226766\n",
            "Virginica Probability: 0.22973331446574902\n",
            "Chosen Class: Iris-versicolor\n",
            "Actual Class: Iris-versicolor\n",
            "\n",
            "0.34934744390565226\n",
            "Data Point: (1, 5.5, 2.4, 3.8, 1.1)\n",
            "Setosa Probability: 0.13216436761314748\n",
            "Versicolor Probability: 0.51185380895835\n",
            "Virginica Probability: 0.34934744390565226\n",
            "Chosen Class: Iris-versicolor\n",
            "Actual Class: Iris-versicolor\n",
            "\n",
            "0.3129980873712066\n",
            "Data Point: (1, 5.5, 2.4, 3.7, 1.0)\n",
            "Setosa Probability: 0.15265601221916483\n",
            "Versicolor Probability: 0.5257354373200799\n",
            "Virginica Probability: 0.3129980873712066\n",
            "Chosen Class: Iris-versicolor\n",
            "Actual Class: Iris-versicolor\n",
            "\n",
            "0.30723158011889345\n",
            "Data Point: (1, 5.8, 2.7, 3.9, 1.2)\n",
            "Setosa Probability: 0.14624991487909533\n",
            "Versicolor Probability: 0.43949408850598265\n",
            "Virginica Probability: 0.30723158011889345\n",
            "Chosen Class: Iris-versicolor\n",
            "Actual Class: Iris-versicolor\n",
            "\n",
            "0.6158073388411699\n",
            "Data Point: (1, 6.0, 2.7, 5.1, 1.6)\n",
            "Setosa Probability: 0.03482478931323313\n",
            "Versicolor Probability: 0.4699914340270451\n",
            "Virginica Probability: 0.6158073388411699\n",
            "Chosen Class: Iris-virginica\n",
            "Actual Class: Iris-versicolor\n",
            "\n",
            "0.505173366505224\n",
            "Data Point: (1, 5.4, 3.0, 4.5, 1.5)\n",
            "Setosa Probability: 0.0771279477574308\n",
            "Versicolor Probability: 0.3036273779538862\n",
            "Virginica Probability: 0.505173366505224\n",
            "Chosen Class: Iris-virginica\n",
            "Actual Class: Iris-versicolor\n",
            "\n",
            "0.37723420212591396\n",
            "Data Point: (1, 6.0, 3.4, 4.5, 1.6)\n",
            "Setosa Probability: 0.10813478168273162\n",
            "Versicolor Probability: 0.24031995284886276\n",
            "Virginica Probability: 0.37723420212591396\n",
            "Chosen Class: Iris-virginica\n",
            "Actual Class: Iris-versicolor\n",
            "\n",
            "0.3486697620457744\n",
            "Data Point: (1, 6.7, 3.1, 4.7, 1.5)\n",
            "Setosa Probability: 0.08626788238594331\n",
            "Versicolor Probability: 0.4121005449470656\n",
            "Virginica Probability: 0.3486697620457744\n",
            "Chosen Class: Iris-versicolor\n",
            "Actual Class: Iris-versicolor\n",
            "\n",
            "0.4165644513873172\n",
            "Data Point: (1, 6.3, 2.3, 4.4, 1.3)\n",
            "Setosa Probability: 0.07021327490152586\n",
            "Versicolor Probability: 0.625274350769894\n",
            "Virginica Probability: 0.4165644513873172\n",
            "Chosen Class: Iris-versicolor\n",
            "Actual Class: Iris-versicolor\n",
            "\n",
            "0.35126665844050553\n",
            "Data Point: (1, 5.6, 3.0, 4.1, 1.3)\n",
            "Setosa Probability: 0.13346777579227276\n",
            "Versicolor Probability: 0.3309786116835579\n",
            "Virginica Probability: 0.35126665844050553\n",
            "Chosen Class: Iris-virginica\n",
            "Actual Class: Iris-versicolor\n",
            "\n",
            "0.4127929548670115\n",
            "Data Point: (1, 5.5, 2.5, 4.0, 1.3)\n",
            "Setosa Probability: 0.10485765697388152\n",
            "Versicolor Probability: 0.45444526528607376\n",
            "Virginica Probability: 0.4127929548670115\n",
            "Chosen Class: Iris-versicolor\n",
            "Actual Class: Iris-versicolor\n",
            "\n",
            "0.4728233797073335\n",
            "Data Point: (1, 5.5, 2.6, 4.4, 1.2)\n",
            "Setosa Probability: 0.07705102966656704\n",
            "Versicolor Probability: 0.47979459359263177\n",
            "Virginica Probability: 0.4728233797073335\n",
            "Chosen Class: Iris-versicolor\n",
            "Actual Class: Iris-versicolor\n",
            "\n",
            "0.4077645555345454\n",
            "Data Point: (1, 6.1, 3.0, 4.6, 1.4)\n",
            "Setosa Probability: 0.08354430194443654\n",
            "Versicolor Probability: 0.3954930148321683\n",
            "Virginica Probability: 0.4077645555345454\n",
            "Chosen Class: Iris-virginica\n",
            "Actual Class: Iris-versicolor\n",
            "\n",
            "0.34057286116925173\n",
            "Data Point: (1, 5.8, 2.6, 4.0, 1.2)\n",
            "Setosa Probability: 0.12411199167585361\n",
            "Versicolor Probability: 0.47720422736351326\n",
            "Virginica Probability: 0.34057286116925173\n",
            "Chosen Class: Iris-versicolor\n",
            "Actual Class: Iris-versicolor\n",
            "\n",
            "0.30934446749291783\n",
            "Data Point: (1, 5.0, 2.3, 3.3, 1.0)\n",
            "Setosa Probability: 0.19292606847921934\n",
            "Versicolor Probability: 0.47174871579198885\n",
            "Virginica Probability: 0.30934446749291783\n",
            "Chosen Class: Iris-versicolor\n",
            "Actual Class: Iris-versicolor\n",
            "\n",
            "0.41504333412698163\n",
            "Data Point: (1, 5.6, 2.7, 4.2, 1.3)\n",
            "Setosa Probability: 0.09906374837536062\n",
            "Versicolor Probability: 0.4221561896008266\n",
            "Virginica Probability: 0.41504333412698163\n",
            "Chosen Class: Iris-versicolor\n",
            "Actual Class: Iris-versicolor\n",
            "\n",
            "0.3428856391617419\n",
            "Data Point: (1, 5.7, 3.0, 4.2, 1.2)\n",
            "Setosa Probability: 0.1286224200086042\n",
            "Versicolor Probability: 0.3678407299510283\n",
            "Virginica Probability: 0.3428856391617419\n",
            "Chosen Class: Iris-versicolor\n",
            "Actual Class: Iris-versicolor\n",
            "\n",
            "0.37270918702914824\n",
            "Data Point: (1, 5.7, 2.9, 4.2, 1.3)\n",
            "Setosa Probability: 0.11518921770969161\n",
            "Versicolor Probability: 0.3749112456032298\n",
            "Virginica Probability: 0.37270918702914824\n",
            "Chosen Class: Iris-versicolor\n",
            "Actual Class: Iris-versicolor\n",
            "\n",
            "0.32636294939255617\n",
            "Data Point: (1, 6.2, 2.9, 4.3, 1.3)\n",
            "Setosa Probability: 0.11435476023841219\n",
            "Versicolor Probability: 0.4316251310680615\n",
            "Virginica Probability: 0.32636294939255617\n",
            "Chosen Class: Iris-versicolor\n",
            "Actual Class: Iris-versicolor\n",
            "\n",
            "0.23328067632907307\n",
            "Data Point: (1, 5.1, 2.5, 3.0, 1.1)\n",
            "Setosa Probability: 0.27569032051397735\n",
            "Versicolor Probability: 0.3779737883217075\n",
            "Virginica Probability: 0.23328067632907307\n",
            "Chosen Class: Iris-versicolor\n",
            "Actual Class: Iris-versicolor\n",
            "\n",
            "0.36470661743669786\n",
            "Data Point: (1, 5.7, 2.8, 4.1, 1.3)\n",
            "Setosa Probability: 0.11958512897834218\n",
            "Versicolor Probability: 0.39524713736845635\n",
            "Virginica Probability: 0.36470661743669786\n",
            "Chosen Class: Iris-versicolor\n",
            "Actual Class: Iris-versicolor\n",
            "\n",
            "0.8049461464485188\n",
            "Data Point: (1, 6.3, 3.3, 6.0, 2.5)\n",
            "Setosa Probability: 0.013026114046793153\n",
            "Versicolor Probability: 0.22926164542654587\n",
            "Virginica Probability: 0.8049461464485188\n",
            "Chosen Class: Iris-virginica\n",
            "Actual Class: Iris-virginica\n",
            "\n",
            "0.6906923019703738\n",
            "Data Point: (1, 5.8, 2.7, 5.1, 1.9)\n",
            "Setosa Probability: 0.02872089108067881\n",
            "Versicolor Probability: 0.3852572667744523\n",
            "Virginica Probability: 0.6906923019703738\n",
            "Chosen Class: Iris-virginica\n",
            "Actual Class: Iris-virginica\n",
            "\n",
            "0.6773744042856513\n",
            "Data Point: (1, 7.1, 3.0, 5.9, 2.1)\n",
            "Setosa Probability: 0.017087917498911705\n",
            "Versicolor Probability: 0.447832382177889\n",
            "Virginica Probability: 0.6773744042856513\n",
            "Chosen Class: Iris-virginica\n",
            "Actual Class: Iris-virginica\n",
            "\n",
            "0.6865245744383957\n",
            "Data Point: (1, 6.3, 2.9, 5.6, 1.8)\n",
            "Setosa Probability: 0.02200403481838845\n",
            "Versicolor Probability: 0.43822120593229397\n",
            "Virginica Probability: 0.6865245744383957\n",
            "Chosen Class: Iris-virginica\n",
            "Actual Class: Iris-virginica\n",
            "\n",
            "0.7457652697301934\n",
            "Data Point: (1, 6.5, 3.0, 5.8, 2.2)\n",
            "Setosa Probability: 0.016024812229997725\n",
            "Versicolor Probability: 0.36016514454422466\n",
            "Virginica Probability: 0.7457652697301934\n",
            "Chosen Class: Iris-virginica\n",
            "Actual Class: Iris-virginica\n",
            "\n",
            "0.7498593765716998\n",
            "Data Point: (1, 7.6, 3.0, 6.6, 2.1)\n",
            "Setosa Probability: 0.008519370117808778\n",
            "Versicolor Probability: 0.5559567312323245\n",
            "Virginica Probability: 0.7498593765716998\n",
            "Chosen Class: Iris-virginica\n",
            "Actual Class: Iris-virginica\n",
            "\n",
            "0.6802201362870736\n",
            "Data Point: (1, 4.9, 2.5, 4.5, 1.7)\n",
            "Setosa Probability: 0.044700073548549726\n",
            "Versicolor Probability: 0.35077001276798203\n",
            "Virginica Probability: 0.6802201362870736\n",
            "Chosen Class: Iris-virginica\n",
            "Actual Class: Iris-virginica\n",
            "\n",
            "0.6990157939701359\n",
            "Data Point: (1, 7.3, 2.9, 6.3, 1.8)\n",
            "Setosa Probability: 0.012235300008647611\n",
            "Versicolor Probability: 0.5959843052145708\n",
            "Virginica Probability: 0.6990157939701359\n",
            "Chosen Class: Iris-virginica\n",
            "Actual Class: Iris-virginica\n",
            "\n",
            "0.7248493089463505\n",
            "Data Point: (1, 6.7, 2.5, 5.8, 1.8)\n",
            "Setosa Probability: 0.014276680532385535\n",
            "Versicolor Probability: 0.6120111600605463\n",
            "Virginica Probability: 0.7248493089463505\n",
            "Chosen Class: Iris-virginica\n",
            "Actual Class: Iris-virginica\n",
            "\n",
            "0.6896592035480708\n",
            "Data Point: (1, 7.2, 3.6, 6.1, 2.5)\n",
            "Setosa Probability: 0.01748699488645436\n",
            "Versicolor Probability: 0.23668391722428486\n",
            "Virginica Probability: 0.6896592035480708\n",
            "Chosen Class: Iris-virginica\n",
            "Actual Class: Iris-virginica\n",
            "\n",
            "0.5406320134882914\n",
            "Data Point: (1, 6.5, 3.2, 5.1, 2.0)\n",
            "Setosa Probability: 0.04505898251954636\n",
            "Versicolor Probability: 0.29598754195278404\n",
            "Virginica Probability: 0.5406320134882914\n",
            "Chosen Class: Iris-virginica\n",
            "Actual Class: Iris-virginica\n",
            "\n",
            "0.6532073952099922\n",
            "Data Point: (1, 6.4, 2.7, 5.3, 1.9)\n",
            "Setosa Probability: 0.025989965306632598\n",
            "Versicolor Probability: 0.4606598826078408\n",
            "Virginica Probability: 0.6532073952099922\n",
            "Chosen Class: Iris-virginica\n",
            "Actual Class: Iris-virginica\n",
            "\n",
            "0.6333757862739783\n",
            "Data Point: (1, 6.8, 3.0, 5.5, 2.1)\n",
            "Setosa Probability: 0.025270083669589553\n",
            "Versicolor Probability: 0.3861923722096606\n",
            "Virginica Probability: 0.6333757862739783\n",
            "Chosen Class: Iris-virginica\n",
            "Actual Class: Iris-virginica\n",
            "\n",
            "0.7227838208795565\n",
            "Data Point: (1, 5.7, 2.5, 5.0, 2.0)\n",
            "Setosa Probability: 0.025938818806216377\n",
            "Versicolor Probability: 0.40330845995939896\n",
            "Virginica Probability: 0.7227838208795565\n",
            "Chosen Class: Iris-virginica\n",
            "Actual Class: Iris-virginica\n",
            "\n",
            "0.7500155544570705\n",
            "Data Point: (1, 5.8, 2.8, 5.1, 2.4)\n",
            "Setosa Probability: 0.02396022849427679\n",
            "Versicolor Probability: 0.2631903422981602\n",
            "Virginica Probability: 0.7500155544570705\n",
            "Chosen Class: Iris-virginica\n",
            "Actual Class: Iris-virginica\n",
            "\n",
            "0.6506053836553799\n",
            "Data Point: (1, 6.4, 3.2, 5.3, 2.3)\n",
            "Setosa Probability: 0.030375353140774622\n",
            "Versicolor Probability: 0.2484436292923421\n",
            "Virginica Probability: 0.6506053836553799\n",
            "Chosen Class: Iris-virginica\n",
            "Actual Class: Iris-virginica\n",
            "\n",
            "0.6254145959292196\n",
            "Data Point: (1, 6.5, 3.0, 5.5, 1.8)\n",
            "Setosa Probability: 0.027614813923873542\n",
            "Versicolor Probability: 0.42087658049904275\n",
            "Virginica Probability: 0.6254145959292196\n",
            "Chosen Class: Iris-virginica\n",
            "Actual Class: Iris-virginica\n",
            "\n",
            "0.6749649084435851\n",
            "Data Point: (1, 7.7, 3.8, 6.7, 2.2)\n",
            "Setosa Probability: 0.013201675916076905\n",
            "Versicolor Probability: 0.32263013892989884\n",
            "Virginica Probability: 0.6749649084435851\n",
            "Chosen Class: Iris-virginica\n",
            "Actual Class: Iris-virginica\n",
            "\n",
            "0.8450304021257076\n",
            "Data Point: (1, 7.7, 2.6, 6.9, 2.3)\n",
            "Setosa Probability: 0.00414360361702246\n",
            "Versicolor Probability: 0.6599129528383529\n",
            "Virginica Probability: 0.8450304021257076\n",
            "Chosen Class: Iris-virginica\n",
            "Actual Class: Iris-virginica\n",
            "\n",
            "0.6462241905037227\n",
            "Data Point: (1, 6.0, 2.2, 5.0, 1.5)\n",
            "Setosa Probability: 0.02868734515153527\n",
            "Versicolor Probability: 0.6295045954141429\n",
            "Virginica Probability: 0.6462241905037227\n",
            "Chosen Class: Iris-virginica\n",
            "Actual Class: Iris-virginica\n",
            "\n",
            "0.6676847156134034\n",
            "Data Point: (1, 6.9, 3.2, 5.7, 2.3)\n",
            "Setosa Probability: 0.02146277877535216\n",
            "Versicolor Probability: 0.31608134388790726\n",
            "Virginica Probability: 0.6676847156134034\n",
            "Chosen Class: Iris-virginica\n",
            "Actual Class: Iris-virginica\n",
            "\n",
            "0.6786290344474981\n",
            "Data Point: (1, 5.6, 2.8, 4.9, 2.0)\n",
            "Setosa Probability: 0.035220351774009444\n",
            "Versicolor Probability: 0.3053135272722841\n",
            "Virginica Probability: 0.6786290344474981\n",
            "Chosen Class: Iris-virginica\n",
            "Actual Class: Iris-virginica\n",
            "\n",
            "0.7647404563726166\n",
            "Data Point: (1, 7.7, 2.8, 6.7, 2.0)\n",
            "Setosa Probability: 0.007056592278766137\n",
            "Versicolor Probability: 0.65133312280049\n",
            "Virginica Probability: 0.7647404563726166\n",
            "Chosen Class: Iris-virginica\n",
            "Actual Class: Iris-virginica\n",
            "\n",
            "0.5617638560442353\n",
            "Data Point: (1, 6.3, 2.7, 4.9, 1.8)\n",
            "Setosa Probability: 0.04192672674988927\n",
            "Versicolor Probability: 0.439848547880616\n",
            "Virginica Probability: 0.5617638560442353\n",
            "Chosen Class: Iris-virginica\n",
            "Actual Class: Iris-virginica\n",
            "\n",
            "0.6493065991678305\n",
            "Data Point: (1, 6.7, 3.3, 5.7, 2.1)\n",
            "Setosa Probability: 0.02447486592217988\n",
            "Versicolor Probability: 0.31116927471197237\n",
            "Virginica Probability: 0.6493065991678305\n",
            "Chosen Class: Iris-virginica\n",
            "Actual Class: Iris-virginica\n",
            "\n",
            "0.6094612267115689\n",
            "Data Point: (1, 7.2, 3.2, 6.0, 1.8)\n",
            "Setosa Probability: 0.02096945015348781\n",
            "Versicolor Probability: 0.4730920987503384\n",
            "Virginica Probability: 0.6094612267115689\n",
            "Chosen Class: Iris-virginica\n",
            "Actual Class: Iris-virginica\n",
            "\n",
            "0.5387867544054258\n",
            "Data Point: (1, 6.2, 2.8, 4.8, 1.8)\n",
            "Setosa Probability: 0.049226567441144384\n",
            "Versicolor Probability: 0.39309172497562794\n",
            "Virginica Probability: 0.5387867544054258\n",
            "Chosen Class: Iris-virginica\n",
            "Actual Class: Iris-virginica\n",
            "\n",
            "0.5474427554601133\n",
            "Data Point: (1, 6.1, 3.0, 4.9, 1.8)\n",
            "Setosa Probability: 0.049679853878970136\n",
            "Versicolor Probability: 0.3363167537380945\n",
            "Virginica Probability: 0.5474427554601133\n",
            "Chosen Class: Iris-virginica\n",
            "Actual Class: Iris-virginica\n",
            "\n",
            "0.7302737648925123\n",
            "Data Point: (1, 6.4, 2.8, 5.6, 2.1)\n",
            "Setosa Probability: 0.017947098831394476\n",
            "Versicolor Probability: 0.4122190571014714\n",
            "Virginica Probability: 0.7302737648925123\n",
            "Chosen Class: Iris-virginica\n",
            "Actual Class: Iris-virginica\n",
            "\n",
            "0.5583714876686217\n",
            "Data Point: (1, 7.2, 3.0, 5.8, 1.6)\n",
            "Setosa Probability: 0.025216350622383123\n",
            "Versicolor Probability: 0.5600454508228996\n",
            "Virginica Probability: 0.5583714876686217\n",
            "Chosen Class: Iris-versicolor\n",
            "Actual Class: Iris-virginica\n",
            "\n",
            "0.6739805326144203\n",
            "Data Point: (1, 7.4, 2.8, 6.1, 1.9)\n",
            "Setosa Probability: 0.013884729685637842\n",
            "Versicolor Probability: 0.5971400950219627\n",
            "Virginica Probability: 0.6739805326144203\n",
            "Chosen Class: Iris-virginica\n",
            "Actual Class: Iris-virginica\n",
            "\n",
            "0.5473387791656065\n",
            "Data Point: (1, 7.9, 3.8, 6.4, 2.0)\n",
            "Setosa Probability: 0.021482104248614582\n",
            "Versicolor Probability: 0.35839141463947927\n",
            "Virginica Probability: 0.5473387791656065\n",
            "Chosen Class: Iris-virginica\n",
            "Actual Class: Iris-virginica\n",
            "\n",
            "0.7440024455995088\n",
            "Data Point: (1, 6.4, 2.8, 5.6, 2.2)\n",
            "Setosa Probability: 0.017053982894288073\n",
            "Versicolor Probability: 0.390920434973195\n",
            "Virginica Probability: 0.7440024455995088\n",
            "Chosen Class: Iris-virginica\n",
            "Actual Class: Iris-virginica\n",
            "\n",
            "0.5407789538551833\n",
            "Data Point: (1, 6.3, 2.8, 5.1, 1.5)\n",
            "Setosa Probability: 0.04182023325617751\n",
            "Versicolor Probability: 0.4928256460487427\n",
            "Virginica Probability: 0.5407789538551833\n",
            "Chosen Class: Iris-virginica\n",
            "Actual Class: Iris-virginica\n",
            "\n",
            "0.6892022374317316\n",
            "Data Point: (1, 6.1, 2.6, 5.6, 1.4)\n",
            "Setosa Probability: 0.020824888733382205\n",
            "Versicolor Probability: 0.5943112902099358\n",
            "Virginica Probability: 0.6892022374317316\n",
            "Chosen Class: Iris-virginica\n",
            "Actual Class: Iris-virginica\n",
            "\n",
            "0.6711234050117899\n",
            "Data Point: (1, 7.7, 3.0, 6.1, 2.3)\n",
            "Setosa Probability: 0.013942437553913\n",
            "Versicolor Probability: 0.48073020660397026\n",
            "Virginica Probability: 0.6711234050117899\n",
            "Chosen Class: Iris-virginica\n",
            "Actual Class: Iris-virginica\n",
            "\n",
            "0.713855469401863\n",
            "Data Point: (1, 6.3, 3.4, 5.6, 2.4)\n",
            "Setosa Probability: 0.023253907075035933\n",
            "Versicolor Probability: 0.20182626305828266\n",
            "Virginica Probability: 0.713855469401863\n",
            "Chosen Class: Iris-virginica\n",
            "Actual Class: Iris-virginica\n",
            "\n",
            "0.6255322884046639\n",
            "Data Point: (1, 6.4, 3.1, 5.5, 1.8)\n",
            "Setosa Probability: 0.029048100924025905\n",
            "Versicolor Probability: 0.3825598144184517\n",
            "Virginica Probability: 0.6255322884046639\n",
            "Chosen Class: Iris-virginica\n",
            "Actual Class: Iris-virginica\n",
            "\n",
            "0.5390364373757275\n",
            "Data Point: (1, 6.0, 3.0, 4.8, 1.8)\n",
            "Setosa Probability: 0.05433649598789998\n",
            "Versicolor Probability: 0.32008589728060555\n",
            "Virginica Probability: 0.5390364373757275\n",
            "Chosen Class: Iris-virginica\n",
            "Actual Class: Iris-virginica\n",
            "\n",
            "0.5829481491515882\n",
            "Data Point: (1, 6.9, 3.1, 5.4, 2.1)\n",
            "Setosa Probability: 0.03103138827823895\n",
            "Versicolor Probability: 0.36014695988958506\n",
            "Virginica Probability: 0.5829481491515882\n",
            "Chosen Class: Iris-virginica\n",
            "Actual Class: Iris-virginica\n",
            "\n",
            "0.7012356794230781\n",
            "Data Point: (1, 6.7, 3.1, 5.6, 2.4)\n",
            "Setosa Probability: 0.020384064263874117\n",
            "Versicolor Probability: 0.2982245654522466\n",
            "Virginica Probability: 0.7012356794230781\n",
            "Chosen Class: Iris-virginica\n",
            "Actual Class: Iris-virginica\n",
            "\n",
            "0.5489716006819448\n",
            "Data Point: (1, 6.9, 3.1, 5.1, 2.3)\n",
            "Setosa Probability: 0.03928282762462897\n",
            "Versicolor Probability: 0.29919640113289114\n",
            "Virginica Probability: 0.5489716006819448\n",
            "Chosen Class: Iris-virginica\n",
            "Actual Class: Iris-virginica\n",
            "\n",
            "0.6906923019703738\n",
            "Data Point: (1, 5.8, 2.7, 5.1, 1.9)\n",
            "Setosa Probability: 0.02872089108067881\n",
            "Versicolor Probability: 0.3852572667744523\n",
            "Virginica Probability: 0.6906923019703738\n",
            "Chosen Class: Iris-virginica\n",
            "Actual Class: Iris-virginica\n",
            "\n",
            "0.7198973763867851\n",
            "Data Point: (1, 6.8, 3.2, 5.9, 2.3)\n",
            "Setosa Probability: 0.016733331709108634\n",
            "Versicolor Probability: 0.32161612005773843\n",
            "Virginica Probability: 0.7198973763867851\n",
            "Chosen Class: Iris-virginica\n",
            "Actual Class: Iris-virginica\n",
            "\n",
            "0.7108365611317878\n",
            "Data Point: (1, 6.7, 3.3, 5.7, 2.5)\n",
            "Setosa Probability: 0.019974069750909776\n",
            "Versicolor Probability: 0.24062788869035942\n",
            "Virginica Probability: 0.7108365611317878\n",
            "Chosen Class: Iris-virginica\n",
            "Actual Class: Iris-virginica\n",
            "\n",
            "0.61487297749482\n",
            "Data Point: (1, 6.7, 3.0, 5.2, 2.3)\n",
            "Setosa Probability: 0.031377841207204674\n",
            "Versicolor Probability: 0.3142475128874423\n",
            "Virginica Probability: 0.61487297749482\n",
            "Chosen Class: Iris-virginica\n",
            "Actual Class: Iris-virginica\n",
            "\n",
            "0.6296054449830187\n",
            "Data Point: (1, 6.3, 2.5, 5.0, 1.9)\n",
            "Setosa Probability: 0.030938206533351584\n",
            "Versicolor Probability: 0.4851242504869906\n",
            "Virginica Probability: 0.6296054449830187\n",
            "Chosen Class: Iris-virginica\n",
            "Actual Class: Iris-virginica\n",
            "\n",
            "0.5924791713988534\n",
            "Data Point: (1, 6.5, 3.0, 5.2, 2.0)\n",
            "Setosa Probability: 0.03499057143878942\n",
            "Versicolor Probability: 0.35535623790096643\n",
            "Virginica Probability: 0.5924791713988534\n",
            "Chosen Class: Iris-virginica\n",
            "Actual Class: Iris-virginica\n",
            "\n",
            "0.6717416448580794\n",
            "Data Point: (1, 6.2, 3.4, 5.4, 2.3)\n",
            "Setosa Probability: 0.030025915878944716\n",
            "Versicolor Probability: 0.1989394726589935\n",
            "Virginica Probability: 0.6717416448580794\n",
            "Chosen Class: Iris-virginica\n",
            "Actual Class: Iris-virginica\n",
            "\n",
            "0.6215309965398538\n",
            "Data Point: (1, 5.9, 3.0, 5.1, 1.8)\n",
            "Setosa Probability: 0.03818011348804342\n",
            "Versicolor Probability: 0.3329537915064704\n",
            "Virginica Probability: 0.6215309965398538\n",
            "Chosen Class: Iris-virginica\n",
            "Actual Class: Iris-virginica\n",
            "\n"
          ]
        }
      ]
    },
    {
      "cell_type": "markdown",
      "metadata": {
        "id": "G-B0nRzLbhsb"
      },
      "source": [
        "### Sklearn Metrics\n",
        "Below, I have included some metrics built-in to scikit-learn for looking at the performance of multi-class classifier models."
      ]
    },
    {
      "cell_type": "code",
      "metadata": {
        "colab": {
          "base_uri": "https://localhost:8080/",
          "height": 292
        },
        "id": "A4u8R1xKy_Qt",
        "outputId": "681cb753-ad72-471c-c4b4-d57b8da3429f"
      },
      "source": [
        "from sklearn.metrics import confusion_matrix\n",
        "conf_mx = confusion_matrix(yActual, yPredicted, labels=['Iris-setosa','Iris-versicolor','Iris-virginica'], normalize='true')\n",
        "plt.matshow(conf_mx, cmap=plt.cm.gray)\n",
        "plt.show"
      ],
      "execution_count": 44,
      "outputs": [
        {
          "output_type": "execute_result",
          "data": {
            "text/plain": [
              "<function matplotlib.pyplot.show>"
            ]
          },
          "metadata": {},
          "execution_count": 44
        },
        {
          "output_type": "display_data",
          "data": {
            "image/png": "[encoded data removed]",
            "text/plain": [
              "<Figure size 288x288 with 1 Axes>"
            ]
          },
          "metadata": {
            "needs_background": "light"
          }
        }
      ]
    },
    {
      "cell_type": "markdown",
      "metadata": {
        "id": "xYhy5JtDb1Jp"
      },
      "source": [
        "For a confusion matrix, the columns refer to the predicted class and the rows refer to the actual class. The \"brightness\" of each square indicates how many examples fell into each (actual class, predicted class) pairing. Ideally, the model should produce a diagonal line from the top-left to the bottom-right, which this model does pretty well aside from the versicolor class."
      ]
    },
    {
      "cell_type": "code",
      "metadata": {
        "colab": {
          "base_uri": "https://localhost:8080/",
          "height": 300
        },
        "id": "KgpabX7J3c8N",
        "outputId": "1272fa0a-dfc2-4f11-9b82-e5b58312933e"
      },
      "source": [
        "from sklearn.metrics import ConfusionMatrixDisplay\n",
        "ConfusionMatrixDisplay.from_predictions(yActual, yPredicted)"
      ],
      "execution_count": 45,
      "outputs": [
        {
          "output_type": "execute_result",
          "data": {
            "text/plain": [
              "<sklearn.metrics._plot.confusion_matrix.ConfusionMatrixDisplay at 0x7f98cf13a490>"
            ]
          },
          "metadata": {},
          "execution_count": 45
        },
        {
          "output_type": "display_data",
          "data": {
            "image/png": "[encoded data removed]",
            "text/plain": [
              "<Figure size 432x288 with 2 Axes>"
            ]
          },
          "metadata": {
            "needs_background": "light"
          }
        }
      ]
    },
    {
      "cell_type": "markdown",
      "metadata": {
        "id": "Q5e1R3C3caPq"
      },
      "source": [
        "This is another confusion matrix that is a bit more detailed and shows us the amount of examples for each (true label, predicted label) pairing. You can see that the most confused classification was mistaking a versicolor for a virginica. There is also one example where a virginica was confused for a versicolor.\n",
        "\n",
        "This coinicides with the visual of the data in that veriscolors and virginicas were very close together and would therefore have a harder time begin distinguished from eachother. This also coincides with the fact that the versicolor class couldn't be easily separated from the other two classes so it got confused for virginicas (the class most similar to it) very often."
      ]
    },
    {
      "cell_type": "code",
      "metadata": {
        "colab": {
          "base_uri": "https://localhost:8080/"
        },
        "id": "QlgB4GX11ea3",
        "outputId": "5c61f34f-84b9-469d-b5a9-af5d15ff5df4"
      },
      "source": [
        "from sklearn.metrics import classification_report\n",
        "print(classification_report(yActual, yPredicted))"
      ],
      "execution_count": 46,
      "outputs": [
        {
          "output_type": "stream",
          "name": "stdout",
          "text": [
            "                 precision    recall  f1-score   support\n",
            "\n",
            "    Iris-setosa       1.00      1.00      1.00        50\n",
            "Iris-versicolor       0.97      0.72      0.83        50\n",
            " Iris-virginica       0.78      0.98      0.87        50\n",
            "\n",
            "       accuracy                           0.90       150\n",
            "      macro avg       0.92      0.90      0.90       150\n",
            "   weighted avg       0.92      0.90      0.90       150\n",
            "\n"
          ]
        }
      ]
    },
    {
      "cell_type": "markdown",
      "metadata": {
        "id": "oOE_mN3DdW2B"
      },
      "source": [
        "Here's a condensed report of popular metrics used for classification tasks.\n",
        "\n",
        "The overall accuracy was 90%, which isn't too bad. Setosas were perfectly distinguished since they're very different from the other two classes in terms of the features provided. Versicolors struggled in terms of recall meaning it was difficult for the model to identify a versicolor and often confused it for something else. Virginicas struggled with precision meaning it often predicted a virginica for non-virginica examples."
      ]
    }
  ]
}