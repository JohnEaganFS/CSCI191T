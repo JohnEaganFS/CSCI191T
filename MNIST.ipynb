{
  "nbformat": 4,
  "nbformat_minor": 0,
  "metadata": {
    "colab": {
      "name": "MNIST.ipynb",
      "provenance": [],
      "collapsed_sections": [],
      "authorship_tag": "ABX9TyO1dAWKuJnxSXij2Oz8/D0b",
      "include_colab_link": true
    },
    "kernelspec": {
      "name": "python3",
      "display_name": "Python 3"
    },
    "language_info": {
      "name": "python"
    }
  },
  "cells": [
    {
      "cell_type": "markdown",
      "metadata": {
        "id": "view-in-github",
        "colab_type": "text"
      },
      "source": [
        "<a href=\"https://colab.research.google.com/github/JohnEaganFS/CSCI191T/blob/main/MNIST.ipynb\" target=\"_parent\"><img src=\"https://colab.research.google.com/assets/colab-badge.svg\" alt=\"Open In Colab\"/></a>"
      ]
    },
    {
      "cell_type": "markdown",
      "metadata": {
        "id": "WV0x4gAuWecr"
      },
      "source": [
        "# CSCI 191T - Machine Learning\n",
        "# Name: John Eagan \n",
        "# Assignment: MNIST - Digit Recognition"
      ]
    },
    {
      "cell_type": "code",
      "metadata": {
        "id": "9jfsxS2mNDON"
      },
      "source": [
        "import sklearn\n",
        "import math\n",
        "import numpy as np\n",
        "import pandas as pd\n",
        "import matplotlib.pyplot as plt\n",
        "import os"
      ],
      "execution_count": 163,
      "outputs": []
    },
    {
      "cell_type": "markdown",
      "metadata": {
        "id": "DgTuWSSANX76"
      },
      "source": [
        "# Loading MNIST dataset"
      ]
    },
    {
      "cell_type": "markdown",
      "metadata": {
        "id": "tfaUEqq-yTh4"
      },
      "source": [
        "I uploaded the mnist datasets as zip files to my github repo.\n",
        "I then used colab's !wget to download the zip file and !unzip to unzip it into the session storage as a csv."
      ]
    },
    {
      "cell_type": "code",
      "metadata": {
        "id": "jMCim2t0gCrb"
      },
      "source": [
        "if not(os.path.isfile(\"/content/mnist_train.zip\")):\n",
        "  !wget https://github.com/JohnEaganFS/CSCI191T/raw/main/datasets/mnist_train.zip\n",
        "if not(os.path.isfile(\"/content/mnist_test.zip\")):\n",
        "  !wget https://github.com/JohnEaganFS/CSCI191T/raw/main/datasets/mnist_test.zip\n",
        "if not(os.path.isfile(\"/content/train.csv\")):\n",
        "  !unzip /content/mnist_train.zip\n",
        "if not(os.path.isfile(\"/content/test.csv\")):\n",
        "  !unzip /content/mnist_test.zip"
      ],
      "execution_count": 164,
      "outputs": []
    },
    {
      "cell_type": "markdown",
      "metadata": {
        "id": "ZHV-62Lsyh0P"
      },
      "source": [
        "# Loading the training set"
      ]
    },
    {
      "cell_type": "code",
      "metadata": {
        "colab": {
          "base_uri": "https://localhost:8080/"
        },
        "id": "f1nLo_3dPOiX",
        "outputId": "1c5b5877-82bd-45ab-d676-1039412ed7d4"
      },
      "source": [
        "mnistTrain = pd.read_csv(\"train.csv\")\n",
        "trainingData = mnistTrain.values\n",
        "print(trainingData.shape)\n",
        "print(trainingData[1,1:])"
      ],
      "execution_count": 165,
      "outputs": [
        {
          "output_type": "stream",
          "name": "stdout",
          "text": [
            "(42000, 785)\n",
            "[  0   0   0   0   0   0   0   0   0   0   0   0   0   0   0   0   0   0\n",
            "   0   0   0   0   0   0   0   0   0   0   0   0   0   0   0   0   0   0\n",
            "   0   0   0   0   0   0   0   0   0   0   0   0   0   0   0   0   0   0\n",
            "   0   0   0   0   0   0   0   0   0   0   0   0   0   0   0   0   0   0\n",
            "   0   0   0   0   0   0   0   0   0   0   0   0   0   0   0   0   0   0\n",
            "   0   0   0   0   0   0   0   0   0   0   0   0   0   0   0   0   0   0\n",
            "   0   0   0   0   0   0   0   0   0   0   0   0   0   0  18  30 137 137\n",
            " 192  86  72   1   0   0   0   0   0   0   0   0   0   0   0   0   0   0\n",
            "   0   0   0   0  13  86 250 254 254 254 254 217 246 151  32   0   0   0\n",
            "   0   0   0   0   0   0   0   0   0   0   0   0   0  16 179 254 254 254\n",
            " 254 254 254 254 254 254 231  54  15   0   0   0   0   0   0   0   0   0\n",
            "   0   0   0   0   0  72 254 254 254 254 254 254 254 254 254 254 254 254\n",
            " 104   0   0   0   0   0   0   0   0   0   0   0   0   0  61 191 254 254\n",
            " 254 254 254 109  83 199 254 254 254 254 243  85   0   0   0   0   0   0\n",
            "   0   0   0   0   0   0 172 254 254 254 202 147 147  45   0  11  29 200\n",
            " 254 254 254 171   0   0   0   0   0   0   0   0   0   0   0   1 174 254\n",
            " 254  89  67   0   0   0   0   0   0 128 252 254 254 212  76   0   0   0\n",
            "   0   0   0   0   0   0   0  47 254 254 254  29   0   0   0   0   0   0\n",
            "   0   0  83 254 254 254 153   0   0   0   0   0   0   0   0   0   0  80\n",
            " 254 254 240  24   0   0   0   0   0   0   0   0  25 240 254 254 153   0\n",
            "   0   0   0   0   0   0   0   0   0  64 254 254 186   7   0   0   0   0\n",
            "   0   0   0   0   0 166 254 254 224  12   0   0   0   0   0   0   0   0\n",
            "  14 232 254 254 254  29   0   0   0   0   0   0   0   0   0  75 254 254\n",
            " 254  17   0   0   0   0   0   0   0   0  18 254 254 254 254  29   0   0\n",
            "   0   0   0   0   0   0   0  48 254 254 254  17   0   0   0   0   0   0\n",
            "   0   0   2 163 254 254 254  29   0   0   0   0   0   0   0   0   0  48\n",
            " 254 254 254  17   0   0   0   0   0   0   0   0   0  94 254 254 254 200\n",
            "  12   0   0   0   0   0   0   0  16 209 254 254 150   1   0   0   0   0\n",
            "   0   0   0   0   0  15 206 254 254 254 202  66   0   0   0   0   0  21\n",
            " 161 254 254 245  31   0   0   0   0   0   0   0   0   0   0   0  60 212\n",
            " 254 254 254 194  48  48  34  41  48 209 254 254 254 171   0   0   0   0\n",
            "   0   0   0   0   0   0   0   0   0  86 243 254 254 254 254 254 233 243\n",
            " 254 254 254 254 254  86   0   0   0   0   0   0   0   0   0   0   0   0\n",
            "   0   0 114 254 254 254 254 254 254 254 254 254 254 239  86  11   0   0\n",
            "   0   0   0   0   0   0   0   0   0   0   0   0  13 182 254 254 254 254\n",
            " 254 254 254 254 243  70   0   0   0   0   0   0   0   0   0   0   0   0\n",
            "   0   0   0   0   0   8  76 146 254 255 254 255 146  19  15   0   0   0\n",
            "   0   0   0   0   0   0   0   0   0   0   0   0   0   0   0   0   0   0\n",
            "   0   0   0   0   0   0   0   0   0   0   0   0   0   0   0   0   0   0\n",
            "   0   0   0   0   0   0   0   0   0   0   0   0   0   0   0   0   0   0\n",
            "   0   0   0   0   0   0   0   0   0   0   0   0   0   0   0   0   0   0\n",
            "   0   0   0   0   0   0   0   0   0   0   0   0   0   0   0   0   0   0\n",
            "   0   0   0   0   0   0   0   0   0   0   0   0   0   0   0   0   0   0\n",
            "   0   0   0   0   0   0   0   0   0   0]\n"
          ]
        }
      ]
    },
    {
      "cell_type": "code",
      "metadata": {
        "colab": {
          "base_uri": "https://localhost:8080/",
          "height": 618
        },
        "id": "jCt4Og_FQCFy",
        "outputId": "9dbd6e34-f284-4f8d-922f-618ca3f3237d"
      },
      "source": [
        "myNum = trainingData[1,1:]\n",
        "print(myNum[:5])\n",
        "myNum = myNum.reshape((28,28))\n",
        "plt.imshow(myNum, cmap = plt.cm.binary, interpolation = \"nearest\")\n",
        "plt.axis(\"off\")\n",
        "plt.show()\n",
        "mnistTrain['label'].hist()\n",
        "plt.show()\n",
        "print(mnistTrain.columns)"
      ],
      "execution_count": 166,
      "outputs": [
        {
          "output_type": "stream",
          "name": "stdout",
          "text": [
            "[0 0 0 0 0]\n"
          ]
        },
        {
          "output_type": "display_data",
          "data": {
            "image/png": "[encoded data removed]",
            "text/plain": [
              "<Figure size 432x288 with 1 Axes>"
            ]
          },
          "metadata": {
            "needs_background": "light"
          }
        },
        {
          "output_type": "display_data",
          "data": {
            "image/png": "[encoded data removed]",
            "text/plain": [
              "<Figure size 432x288 with 1 Axes>"
            ]
          },
          "metadata": {
            "needs_background": "light"
          }
        },
        {
          "output_type": "stream",
          "name": "stdout",
          "text": [
            "Index(['label', 'pixel0', 'pixel1', 'pixel2', 'pixel3', 'pixel4', 'pixel5',\n",
            "       'pixel6', 'pixel7', 'pixel8',\n",
            "       ...\n",
            "       'pixel774', 'pixel775', 'pixel776', 'pixel777', 'pixel778', 'pixel779',\n",
            "       'pixel780', 'pixel781', 'pixel782', 'pixel783'],\n",
            "      dtype='object', length=785)\n"
          ]
        }
      ]
    },
    {
      "cell_type": "markdown",
      "metadata": {
        "id": "TGcnDcEkR7U7"
      },
      "source": [
        "# Dimensionality Reduction"
      ]
    },
    {
      "cell_type": "markdown",
      "metadata": {
        "id": "ya2wi_cdymHj"
      },
      "source": [
        "Reducing the dimensionality to around 100 features/components seemed to be a good cutoff point in terms of training time and accuracy."
      ]
    },
    {
      "cell_type": "code",
      "metadata": {
        "colab": {
          "base_uri": "https://localhost:8080/"
        },
        "id": "h0aZkQdER-Ny",
        "outputId": "5900258b-12cf-4b69-b857-e7174fdefe58"
      },
      "source": [
        "from sklearn.decomposition import PCA\n",
        "n = 100\n",
        "rnd_pca = PCA(n_components=n)\n",
        "\n",
        "rnd_pca.fit(trainingData[:,1:])\n",
        "X_reduced = rnd_pca.transform(trainingData[:,1:])\n",
        "print(X_reduced.shape)"
      ],
      "execution_count": 167,
      "outputs": [
        {
          "output_type": "stream",
          "name": "stdout",
          "text": [
            "(42000, 100)\n"
          ]
        }
      ]
    },
    {
      "cell_type": "code",
      "metadata": {
        "colab": {
          "base_uri": "https://localhost:8080/",
          "height": 727
        },
        "id": "LTOMai83SjyT",
        "outputId": "08ff38d2-ba3a-4f60-be2c-fbdc92a34ec7"
      },
      "source": [
        "eigennumbers = rnd_pca.components_.reshape((n,28,28))\n",
        "myNumber = eigennumbers[0]\n",
        "print (len(myNumber))\n",
        "myNumber=myNumber.reshape((28,28))\n",
        "plt.imshow(myNumber, cmap = plt.cm.binary,\n",
        "           interpolation=\"nearest\")\n",
        "plt.axis(\"off\")\n",
        "plt.show()\n",
        "myNumber = eigennumbers[1]\n",
        "myNumber=myNumber.reshape((28,28))\n",
        "plt.imshow(myNumber, cmap = plt.cm.binary,\n",
        "           interpolation=\"nearest\")\n",
        "plt.axis(\"off\")\n",
        "plt.show()\n",
        "myNumber = eigennumbers[2]\n",
        "myNumber=myNumber.reshape((28,28))\n",
        "plt.imshow(myNumber, cmap = plt.cm.binary,\n",
        "           interpolation=\"nearest\")\n",
        "plt.axis(\"off\")\n",
        "plt.show()"
      ],
      "execution_count": 168,
      "outputs": [
        {
          "output_type": "stream",
          "name": "stdout",
          "text": [
            "28\n"
          ]
        },
        {
          "output_type": "display_data",
          "data": {
            "image/png": "[encoded data removed]",
            "text/plain": [
              "<Figure size 432x288 with 1 Axes>"
            ]
          },
          "metadata": {
            "needs_background": "light"
          }
        },
        {
          "output_type": "display_data",
          "data": {
            "image/png": "[encoded data removed]",
            "text/plain": [
              "<Figure size 432x288 with 1 Axes>"
            ]
          },
          "metadata": {
            "needs_background": "light"
          }
        },
        {
          "output_type": "display_data",
          "data": {
            "image/png": "[encoded data removed]",
            "text/plain": [
              "<Figure size 432x288 with 1 Axes>"
            ]
          },
          "metadata": {
            "needs_background": "light"
          }
        }
      ]
    },
    {
      "cell_type": "markdown",
      "metadata": {
        "id": "N-sttNG_t5yC"
      },
      "source": [
        "# Logistic Regression"
      ]
    },
    {
      "cell_type": "code",
      "metadata": {
        "id": "zKPFFtf2j_R-"
      },
      "source": [
        "from sklearn.linear_model import LogisticRegression\n",
        "from sklearn.metrics import accuracy_score"
      ],
      "execution_count": 169,
      "outputs": []
    },
    {
      "cell_type": "code",
      "metadata": {
        "colab": {
          "base_uri": "https://localhost:8080/"
        },
        "id": "YEBK8Gpkqh-D",
        "outputId": "b4a39896-5193-4574-ea51-264c9fdc80bf"
      },
      "source": [
        "clf = LogisticRegression(solver='saga',\n",
        "                        max_iter=10000)\n",
        "clf.fit(X_reduced, trainingData[:, 0])"
      ],
      "execution_count": 170,
      "outputs": [
        {
          "output_type": "execute_result",
          "data": {
            "text/plain": [
              "LogisticRegression(max_iter=10000, solver='saga')"
            ]
          },
          "metadata": {},
          "execution_count": 170
        }
      ]
    },
    {
      "cell_type": "code",
      "metadata": {
        "colab": {
          "base_uri": "https://localhost:8080/"
        },
        "id": "upiDlO6GlnYZ",
        "outputId": "367e8c46-28c7-467e-9709-e18c95f57ae0"
      },
      "source": [
        "predict = clf.predict(X_reduced)\n",
        "print(\"Accuracy = \", accuracy_score(predict, trainingData[:, 0]))"
      ],
      "execution_count": 171,
      "outputs": [
        {
          "output_type": "stream",
          "name": "stdout",
          "text": [
            "Accuracy =  0.9175\n"
          ]
        }
      ]
    },
    {
      "cell_type": "markdown",
      "metadata": {
        "id": "GJHPyyEDWv1Q"
      },
      "source": [
        "# Test Set"
      ]
    },
    {
      "cell_type": "code",
      "metadata": {
        "colab": {
          "base_uri": "https://localhost:8080/"
        },
        "id": "-EOmlMMImJcy",
        "outputId": "06765afa-b83b-404f-8d0e-724263a9ac7f"
      },
      "source": [
        "mnistTest = pd.read_csv(\"test.csv\")\n",
        "testData = mnistTest.values\n",
        "X_reduced_test = rnd_pca.transform(testData)\n",
        "print(X_reduced_test.shape)"
      ],
      "execution_count": 172,
      "outputs": [
        {
          "output_type": "stream",
          "name": "stdout",
          "text": [
            "(28000, 100)\n"
          ]
        }
      ]
    },
    {
      "cell_type": "code",
      "metadata": {
        "id": "9Oj3M5l6m16_"
      },
      "source": [
        "predict = clf.predict(X_reduced_test)"
      ],
      "execution_count": 173,
      "outputs": []
    },
    {
      "cell_type": "code",
      "metadata": {
        "id": "IsyUzXGnnMhY"
      },
      "source": [
        "mnistTest.index.name='ImageId'\n",
        "\n",
        "mnistTest['label']=predict\n",
        "\n",
        "mnistTest.index += 1"
      ],
      "execution_count": 174,
      "outputs": []
    },
    {
      "cell_type": "code",
      "metadata": {
        "id": "w1tBSWjWs3Hy"
      },
      "source": [
        "if not(os.path.isfile(\"/content/submissionLogisticRegression.csv\")):\n",
        "  mnistTest['label'].to_csv('submissionLogisticRegression.csv', index=True, header=True)"
      ],
      "execution_count": 175,
      "outputs": []
    },
    {
      "cell_type": "markdown",
      "metadata": {
        "id": "8gKQhhYYt2qG"
      },
      "source": [
        "# MLP Classifier"
      ]
    },
    {
      "cell_type": "code",
      "metadata": {
        "id": "s25IWkuAt8av"
      },
      "source": [
        "from sklearn.neural_network import MLPClassifier"
      ],
      "execution_count": 176,
      "outputs": []
    },
    {
      "cell_type": "code",
      "metadata": {
        "colab": {
          "base_uri": "https://localhost:8080/"
        },
        "id": "QR8SUOLeuE0s",
        "outputId": "580132e2-73f5-4e3a-a008-7364bbb3777e"
      },
      "source": [
        "clfMLP = MLPClassifier()\n",
        "clfMLP.fit(trainingData[:,1:], trainingData[:,0])"
      ],
      "execution_count": 177,
      "outputs": [
        {
          "output_type": "execute_result",
          "data": {
            "text/plain": [
              "MLPClassifier()"
            ]
          },
          "metadata": {},
          "execution_count": 177
        }
      ]
    },
    {
      "cell_type": "code",
      "metadata": {
        "colab": {
          "base_uri": "https://localhost:8080/"
        },
        "id": "WIj2NmenuZan",
        "outputId": "a8093475-4161-4d4d-ddf2-77ae27c31f7d"
      },
      "source": [
        "predict = clfMLP.predict(trainingData[:,1:])\n",
        "print(\"Accuracy = \", accuracy_score(predict, trainingData[:, 0]))"
      ],
      "execution_count": 178,
      "outputs": [
        {
          "output_type": "stream",
          "name": "stdout",
          "text": [
            "Accuracy =  0.9940714285714286\n"
          ]
        }
      ]
    },
    {
      "cell_type": "code",
      "metadata": {
        "id": "9-D0CZ35u0b0"
      },
      "source": [
        "predict = clfMLP.predict(testData)"
      ],
      "execution_count": 179,
      "outputs": []
    },
    {
      "cell_type": "code",
      "metadata": {
        "id": "HjIfR0mSvr-k"
      },
      "source": [
        "mnistTest['label'] = predict"
      ],
      "execution_count": 180,
      "outputs": []
    },
    {
      "cell_type": "code",
      "metadata": {
        "id": "o7-Z6Ddxv-OB"
      },
      "source": [
        "if not(os.path.isfile(\"/content/submissionMLP.csv\")):\n",
        "  mnistTest['label'].to_csv('submissionMLP.csv', index=True, header=True)"
      ],
      "execution_count": 181,
      "outputs": []
    },
    {
      "cell_type": "markdown",
      "metadata": {
        "id": "w6J-F-8H0BcW"
      },
      "source": [
        "# Scaling the Pixel Values"
      ]
    },
    {
      "cell_type": "code",
      "metadata": {
        "id": "fhxAwk9w0DUe"
      },
      "source": [
        "X = mnistTrain.values[:,1:]\n",
        "Y = mnistTrain.values[:,0]"
      ],
      "execution_count": 182,
      "outputs": []
    },
    {
      "cell_type": "markdown",
      "metadata": {
        "id": "A9u98wLL_pip"
      },
      "source": [
        "## Sklearn's MinMaxScaler"
      ]
    },
    {
      "cell_type": "code",
      "metadata": {
        "id": "TjAFUmG03UrG"
      },
      "source": [
        "from sklearn.preprocessing import MinMaxScaler\n",
        "scaler = MinMaxScaler().fit(X)\n",
        "X = scaler.transform(X)"
      ],
      "execution_count": 183,
      "outputs": []
    },
    {
      "cell_type": "markdown",
      "metadata": {
        "id": "y3cfT3NjAF2I"
      },
      "source": [
        "## Training MLP with scaled values"
      ]
    },
    {
      "cell_type": "code",
      "metadata": {
        "colab": {
          "base_uri": "https://localhost:8080/"
        },
        "id": "jFaAiXmq7k_R",
        "outputId": "c26fea1b-753e-4832-ff2b-f57b8b334cd2"
      },
      "source": [
        "clfMLP = MLPClassifier(hidden_layer_sizes=(50, ), max_iter=20, alpha=1e-4, \n",
        "                    solver='sgd', verbose=10, random_state=1, learning_rate_init=.1)\n",
        "clfMLP.fit(X, Y)"
      ],
      "execution_count": 184,
      "outputs": [
        {
          "output_type": "stream",
          "name": "stdout",
          "text": [
            "Iteration 1, loss = 0.36543975\n",
            "Iteration 2, loss = 0.17442623\n",
            "Iteration 3, loss = 0.13014811\n",
            "Iteration 4, loss = 0.10546337\n",
            "Iteration 5, loss = 0.08826350\n",
            "Iteration 6, loss = 0.07436825\n",
            "Iteration 7, loss = 0.06448077\n",
            "Iteration 8, loss = 0.05675206\n",
            "Iteration 9, loss = 0.04937751\n",
            "Iteration 10, loss = 0.04393944\n",
            "Iteration 11, loss = 0.03897262\n",
            "Iteration 12, loss = 0.03650974\n",
            "Iteration 13, loss = 0.03167411\n",
            "Iteration 14, loss = 0.02687008\n",
            "Iteration 15, loss = 0.02546305\n",
            "Iteration 16, loss = 0.02149641\n",
            "Iteration 17, loss = 0.01964476\n",
            "Iteration 18, loss = 0.01751869\n",
            "Iteration 19, loss = 0.01667527\n",
            "Iteration 20, loss = 0.01437938\n"
          ]
        },
        {
          "output_type": "stream",
          "name": "stderr",
          "text": [
            "/usr/local/lib/python3.7/dist-packages/sklearn/neural_network/_multilayer_perceptron.py:696: ConvergenceWarning: Stochastic Optimizer: Maximum iterations (20) reached and the optimization hasn't converged yet.\n",
            "  ConvergenceWarning,\n"
          ]
        },
        {
          "output_type": "execute_result",
          "data": {
            "text/plain": [
              "MLPClassifier(hidden_layer_sizes=(50,), learning_rate_init=0.1, max_iter=20,\n",
              "              random_state=1, solver='sgd', verbose=10)"
            ]
          },
          "metadata": {},
          "execution_count": 184
        }
      ]
    },
    {
      "cell_type": "code",
      "metadata": {
        "colab": {
          "base_uri": "https://localhost:8080/"
        },
        "id": "Ibqz2KPN7k_W",
        "outputId": "981f8838-c08f-4e66-9f0d-4c5d5f971ca7"
      },
      "source": [
        "predict = clfMLP.predict(X)\n",
        "print(\"Accuracy = \", accuracy_score(predict, trainingData[:, 0]))"
      ],
      "execution_count": 185,
      "outputs": [
        {
          "output_type": "stream",
          "name": "stdout",
          "text": [
            "Accuracy =  0.9974761904761905\n"
          ]
        }
      ]
    },
    {
      "cell_type": "code",
      "metadata": {
        "id": "K_lVaEZD81mq"
      },
      "source": [
        "mnistTest = pd.read_csv(\"test.csv\")\n",
        "X_test = mnistTest.values[:,:]\n",
        "X_test = scaler.transform(X_test)\n",
        "submission = mnistTest.copy()\n",
        "submission.index.name='ImageId'\n",
        "submission.index += 1\n",
        "\n",
        "predict = clfMLP.predict(X_test)\n",
        "submission['label']=predict\n",
        "\n",
        "if not(os.path.isfile(\"/content/submissionMLPScaled.csv\")):\n",
        "  submission['label'].to_csv('submissionMLPScaled.csv', index=True, header=True)"
      ],
      "execution_count": 186,
      "outputs": []
    },
    {
      "cell_type": "markdown",
      "metadata": {
        "id": "gDfLoEYd_cqx"
      },
      "source": [
        "# Kaggle Scores"
      ]
    },
    {
      "cell_type": "markdown",
      "metadata": {
        "id": "6VuZ8LNvCshW"
      },
      "source": [
        "Logistic Regression struggled with this dataset.\n",
        "\n",
        "MLP with dimensionality reduction via PCA did much better, but took a long time to train even with a reduction to 100 features.\n",
        "\n",
        "MLP with pixel value scaling did slightly better (~0.5%) on the test set and this was with only 20 iterations so it was relatively quick to train."
      ]
    },
    {
      "cell_type": "markdown",
      "metadata": {
        "id": "CrC-ofQQBluC"
      },
      "source": [
        "## Logistic Regression"
      ]
    },
    {
      "cell_type": "markdown",
      "metadata": {
        "id": "Jlg7sJE1B9l4"
      },
      "source": [
        "<div>\n",
        "<img src=https://drive.google.com/uc?export=view&id=1e66xtbnrtQm0aUWArPM5ibTCfuibezCg width=\"1000\">\n",
        "</div>"
      ]
    },
    {
      "cell_type": "markdown",
      "metadata": {
        "id": "pg28XA2OBs4K"
      },
      "source": [
        "## MLP PCA (n=100)"
      ]
    },
    {
      "cell_type": "markdown",
      "metadata": {
        "id": "22UmNdK2B-0u"
      },
      "source": [
        "<div>\n",
        "<img src=https://drive.google.com/uc?export=view&id=10BvMWi8cq4rC5R58Z3xx-h9G_YLTRovd width=\"1000\">\n",
        "</div>"
      ]
    },
    {
      "cell_type": "markdown",
      "metadata": {
        "id": "6d4RVcmPBtRb"
      },
      "source": [
        "## MLP Scaled"
      ]
    },
    {
      "cell_type": "markdown",
      "metadata": {
        "id": "XSwlbtyzB_oP"
      },
      "source": [
        "<div>\n",
        "<img src=https://drive.google.com/uc?export=view&id=1jJvg1H4fcy9bgB64v_g8prMLalZtyKbM width=\"1000\">\n",
        "</div>"
      ]
    },
    {
      "cell_type": "markdown",
      "metadata": {
        "id": "kMHiFh6DDMsn"
      },
      "source": [
        "There are definitely optimizations to be made in terms of the hyperparameters chosen and preprocessing of the images, but I think major improvements to the test set accuracy will come from more advanced/complex model structures than MLP or logistic regression."
      ]
    }
  ]
}