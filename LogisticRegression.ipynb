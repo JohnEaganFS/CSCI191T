{
  "nbformat": 4,
  "nbformat_minor": 0,
  "metadata": {
    "colab": {
      "name": "LogisticRegression.ipynb",
      "provenance": [],
      "authorship_tag": "ABX9TyP7xj2CYpcVXr3Mo0SrJE7J",
      "include_colab_link": true
    },
    "kernelspec": {
      "name": "python3",
      "display_name": "Python 3"
    },
    "language_info": {
      "name": "python"
    }
  },
  "cells": [
    {
      "cell_type": "markdown",
      "metadata": {
        "id": "view-in-github",
        "colab_type": "text"
      },
      "source": [
        "<a href=\"https://colab.research.google.com/github/JohnEaganFS/CSCI191T/blob/main/LogisticRegression.ipynb\" target=\"_parent\"><img src=\"https://colab.research.google.com/assets/colab-badge.svg\" alt=\"Open In Colab\"/></a>"
      ]
    },
    {
      "cell_type": "markdown",
      "metadata": {
        "id": "1rsy9XGLcWb1"
      },
      "source": [
        "## CSCI 191T - Machine Learning\n",
        "##Name: John Eagan \n",
        "##Assignment: Logistic Regression"
      ]
    },
    {
      "cell_type": "code",
      "metadata": {
        "id": "WCCovhUOfVOI"
      },
      "source": [
        "%matplotlib inline\n",
        "import matplotlib.pyplot as plt\n",
        "import math\n",
        "import random"
      ],
      "execution_count": 692,
      "outputs": []
    },
    {
      "cell_type": "markdown",
      "metadata": {
        "id": "dLjVNQ5Kh8qf"
      },
      "source": [
        "## Sigmoid, F(w, x), and Classify Functions"
      ]
    },
    {
      "cell_type": "code",
      "metadata": {
        "id": "Y5HE0OZ1hWno"
      },
      "source": [
        "def sigmoid(x):\n",
        "  return 1.0/(1+math.exp(-x))"
      ],
      "execution_count": 693,
      "outputs": []
    },
    {
      "cell_type": "code",
      "metadata": {
        "id": "J5h1clQmiAf7"
      },
      "source": [
        "def F(W,X):\n",
        "  return sum([w*x for w,x in zip(W,X)])"
      ],
      "execution_count": 694,
      "outputs": []
    },
    {
      "cell_type": "code",
      "metadata": {
        "id": "7yJE2H8FkbTI"
      },
      "source": [
        "def classify(model, X): # Uses model to classify list of x values [(x0, x1, x2),...] into either 1 (positive) or 0 (negative).\n",
        "  return [1 if sigmoid(F(model, x)) > 0.5 else 0 for x in X]"
      ],
      "execution_count": 695,
      "outputs": []
    },
    {
      "cell_type": "markdown",
      "metadata": {
        "id": "F2a-5mIHdBPc"
      },
      "source": [
        "## Training Data 1"
      ]
    },
    {
      "cell_type": "code",
      "metadata": {
        "id": "C_fI2aeNdQc2"
      },
      "source": [
        "data = [((1, 0, 0), 1), ((1, 1, 7), 0), ((1, -3, -2), 0), ((1, 8, 9), 1), ((1, 4, 3), 1), ((1, 5, -2), 1), ((1, 0, 0), 1), ((1, 6, 9), 1), ((1, 4, 2), 1), ((1, 1, -9), 1), ((1, -7, 7), 0), ((1, 0, -1), 1), ((1, 9, -4), 1), ((1, 1, 0), 1), ((1, -2, -5), 1), ((1, 2, 3), 1), ((1, -7, 2), 0), ((1, -3, 0), 0), ((1, 5, 0), 1), ((1, 0, -3), 1), ((1, -2, 3), 0), ((1, 9, 6), 1), ((1, 0, -8), 1), ((1, 0, 2), 0), ((1, -8, 6), 0), ((1, 1, 9), 0), ((1, 0, 5), 0), ((1, -4, 9), 0), ((1, 8, 2), 1), ((1, 2, 6), 0)]"
      ],
      "execution_count": 696,
      "outputs": []
    },
    {
      "cell_type": "markdown",
      "metadata": {
        "id": "vKf7PnzCdj5f"
      },
      "source": [
        "### Visualizing the Data"
      ]
    },
    {
      "cell_type": "code",
      "metadata": {
        "id": "AudcIhE7dnZL"
      },
      "source": [
        "def plotClasses(data): # Plots the data points according to if they are a positive or negative example (the class they belong to)\n",
        "  X = [x for (x,r) in data]\n",
        "  R = [r for (x,r) in data]\n",
        "\n",
        "  xNeg = [x for (x,r) in data if r == 0] # Negative examples\n",
        "  xPos = [x for (x,r) in data if r != 0] # Positive examples\n",
        "\n",
        "  x1Pos = [x[1] for x in xPos]\n",
        "  x2Pos = [x[2] for x in xPos]\n",
        "  x1Neg = [x[1] for x in xNeg]\n",
        "  x2Neg = [x[2] for x in xNeg]\n",
        "\n",
        "  plt.xlabel(\"x1\")\n",
        "  plt.ylabel(\"x2\")\n",
        "  plt.plot(x1Pos, x2Pos, \"g+\") # Positive examples shown as green plus symbols\n",
        "  plt.plot(x1Neg, x2Neg, \"ro\") # Negative examples shown as red dots\n",
        "  plt.show()"
      ],
      "execution_count": 697,
      "outputs": []
    },
    {
      "cell_type": "code",
      "metadata": {
        "colab": {
          "base_uri": "https://localhost:8080/",
          "height": 279
        },
        "id": "COJR5TomfxIR",
        "outputId": "e9a4fae5-00ae-44b2-cd44-3ff00e5db9c6"
      },
      "source": [
        "plotClasses(data)"
      ],
      "execution_count": 698,
      "outputs": [
        {
          "output_type": "display_data",
          "data": {
            "image/png": "[encoded data removed]",
            "text/plain": [
              "<Figure size 432x288 with 1 Axes>"
            ]
          },
          "metadata": {
            "needs_background": "light"
          }
        }
      ]
    },
    {
      "cell_type": "markdown",
      "metadata": {
        "id": "0I4HHXSlgoWc"
      },
      "source": [
        "### Building Model"
      ]
    },
    {
      "cell_type": "code",
      "metadata": {
        "id": "fTEzrKpngwyY"
      },
      "source": [
        "alpha = 0.01\n",
        "model = [0.01, 0.01, 0.01] # Initial model\n",
        "X = [x for (x,r) in data]\n",
        "R = [r for (x,r) in data]"
      ],
      "execution_count": 699,
      "outputs": []
    },
    {
      "cell_type": "code",
      "metadata": {
        "id": "LmSOB4kLioZD"
      },
      "source": [
        "def LogisticRegression(alpha, model, X, R, iterations): # Performs iterations of the Logistic Regression with Gradient Descent algorithm\n",
        "  dimensions = len(X[0]) # number of dimensions\n",
        "  N = len(X) # number of data points\n",
        "  for i in range(iterations):\n",
        "    deltaW = [0]*dimensions # initially, changes to each weight is 0\n",
        "    for t in range(N): # for each data point\n",
        "      yPredicted = sigmoid(F(model, X[t])) # calculate the predicted value using sigmoid(F(W,X)) with current model\n",
        "      for j in range(dimensions): # for each weight\n",
        "        deltaW[j] += -2 * (R[t] - yPredicted)*(yPredicted)*(1 - yPredicted)*X[t][j] # calculate the derivative (gradient) and increment change in weight by this amount\n",
        "    for j in range(dimensions): # for each weight\n",
        "      model[j] = model[j] - (1/N)*alpha*deltaW[j] # update current model by going in opposite direction of gradient\n",
        "  return model"
      ],
      "execution_count": 700,
      "outputs": []
    },
    {
      "cell_type": "code",
      "metadata": {
        "id": "2BHEKeK1mweE"
      },
      "source": [
        "model = LogisticRegression(alpha, model, X, R, 100)"
      ],
      "execution_count": 701,
      "outputs": []
    },
    {
      "cell_type": "markdown",
      "metadata": {
        "id": "HePLSCkZtnsv"
      },
      "source": [
        "#### <font color=\"green\">Final Model"
      ]
    },
    {
      "cell_type": "code",
      "metadata": {
        "colab": {
          "base_uri": "https://localhost:8080/"
        },
        "id": "w4BRhLZ7nPn4",
        "outputId": "c945278c-8716-4c4d-9dfb-efc7ef564421"
      },
      "source": [
        "print(\"Model Learned:\", model) # Model after 100 iterations"
      ],
      "execution_count": 702,
      "outputs": [
        {
          "output_type": "stream",
          "name": "stdout",
          "text": [
            "Model Learned: [0.05161759068489734, 0.3099093240157539, -0.16724731105964472]\n"
          ]
        }
      ]
    },
    {
      "cell_type": "code",
      "metadata": {
        "id": "HjYiV45PncNO"
      },
      "source": [
        "def plotModel(data, model): # Plots the original dataset with the line defined by the model included\n",
        "  X = [x for (x,r) in data]\n",
        "  R = [r for (x,r) in data]\n",
        "\n",
        "  xNeg = [x for (x,r) in data if r == 0]\n",
        "  xPos = [x for (x,r) in data if r != 0]\n",
        "\n",
        "  x1Pos = [x[1] for x in xPos]\n",
        "  x2Pos = [x[2] for x in xPos]\n",
        "  x1Neg = [x[1] for x in xNeg]\n",
        "  x2Neg = [x[2] for x in xNeg]\n",
        "\n",
        "  M = lambda W, X1: [(-W[0]/W[2]) - (W[1]/W[2]) * x1 for x1 in X1] # calculates the X2 values for a set of X1 values according to a model\n",
        "  modelX1 = [x[1] for x in X]\n",
        "  modelX2 = M(model, modelX1)\n",
        "\n",
        "  plt.xlabel(\"x1\")\n",
        "  plt.ylabel(\"x2\")\n",
        "  plt.plot(x1Pos, x2Pos, \"g+\")\n",
        "  plt.plot(x1Neg, x2Neg, \"ro\")\n",
        "  plt.plot(modelX1, modelX2, \"b\", linewidth=0.5) # Plot the model line in blue\n",
        "  plt.show()"
      ],
      "execution_count": 703,
      "outputs": []
    },
    {
      "cell_type": "code",
      "metadata": {
        "colab": {
          "base_uri": "https://localhost:8080/",
          "height": 279
        },
        "id": "SoBE4vzwpirS",
        "outputId": "5d24dc09-e649-4e12-94d9-a5d6a0ee15b5"
      },
      "source": [
        "plotModel(data, model)"
      ],
      "execution_count": 704,
      "outputs": [
        {
          "output_type": "display_data",
          "data": {
            "image/png": "[encoded data removed]",
            "text/plain": [
              "<Figure size 432x288 with 1 Axes>"
            ]
          },
          "metadata": {
            "needs_background": "light"
          }
        }
      ]
    },
    {
      "cell_type": "markdown",
      "metadata": {
        "id": "xaa27mAGuHVZ"
      },
      "source": [
        "The model creates a clear distinction between the two classes."
      ]
    },
    {
      "cell_type": "markdown",
      "metadata": {
        "id": "_ald5Q5-jozE"
      },
      "source": [
        "#### Model Results on Original Data"
      ]
    },
    {
      "cell_type": "code",
      "metadata": {
        "id": "D4sX3mZBjr2U"
      },
      "source": [
        "def testModel(data, model): # Tests the model on the original data and prints out some statistics about its performance\n",
        "  X = [x for (x,r) in data]\n",
        "  R = [r for (x,r) in data]\n",
        "  R = [r if r == 0 else 1 for r in R] # Had to change R values !=0 to 1's to make things easier for iris dataset\n",
        "  N = len(X)\n",
        "  predictions = classify(model, X) # Classify according to the final model learned\n",
        "  truePos = sum([1 for (r,y) in zip(R, predictions) if r == y and r == 1])\n",
        "  trueNeg = sum([1 for (r,y) in zip(R, predictions) if r == y and r == 0])\n",
        "  falsePos = sum([1 for (r,y) in zip(R, predictions) if r != y and r == 0])\n",
        "  falseNeg = sum([1 for (r,y) in zip(R, predictions) if r != y and r == 1])\n",
        "  \n",
        "  accuracy = (truePos + trueNeg) / N # How often we got the correct result\n",
        "  precision = truePos / (truePos + falsePos) # How often we predicted positive and it actually was\n",
        "  recall = truePos / (truePos + falseNeg) # How many of the actual positive examples were classified positive\n",
        "  f1 = 2*recall*precision / (recall + precision) # Combination of recall and precision for overall performance\n",
        "\n",
        "  print(\"True Pos:\", truePos)\n",
        "  print(\"True Neg:\", trueNeg)\n",
        "  print(\"False Pos:\", falsePos)\n",
        "  print(\"False Neg:\", falseNeg)\n",
        "  print(\"Accuracy:\", accuracy)\n",
        "  print(\"Precision:\", precision)\n",
        "  print(\"Recall:\", recall)\n",
        "  print(\"F1:\", f1)"
      ],
      "execution_count": 705,
      "outputs": []
    },
    {
      "cell_type": "code",
      "metadata": {
        "colab": {
          "base_uri": "https://localhost:8080/"
        },
        "id": "Wbmm1q-Cndls",
        "outputId": "9e6e4007-2a06-4db6-ed04-f5a5cd87aa01"
      },
      "source": [
        "testModel(data, model)"
      ],
      "execution_count": 706,
      "outputs": [
        {
          "output_type": "stream",
          "name": "stdout",
          "text": [
            "True Pos: 18\n",
            "True Neg: 12\n",
            "False Pos: 0\n",
            "False Neg: 0\n",
            "Accuracy: 1.0\n",
            "Precision: 1.0\n",
            "Recall: 1.0\n",
            "F1: 1.0\n"
          ]
        }
      ]
    },
    {
      "cell_type": "markdown",
      "metadata": {
        "id": "WyuvMBgauOM7"
      },
      "source": [
        "As expected, the model can classify the two classes perfectly on the original dataset."
      ]
    },
    {
      "cell_type": "markdown",
      "metadata": {
        "id": "mvcgJiKpdNmq"
      },
      "source": [
        "## Training Data 2"
      ]
    },
    {
      "cell_type": "code",
      "metadata": {
        "id": "hkrXTvKudZqH"
      },
      "source": [
        "data = [((1, 0, 0), 0), ((1, 1, 7), 0), ((1, -3, -2), 0), ((1, 8, 9), 1), ((1, 4, 3), 1), ((1, 5, -2), 1), ((1, 0, 0), 0), ((1, 6, 9), 1), ((1, 4, 2), 1), ((1, 1, -9), 1), ((1, -7, 7), 0), ((1, 0, -1), 1), ((1, 9, -4), 1), ((1, 1, 0), 1), ((1, -2, -5), 1), ((1, 2, 3), 1), ((1, -7, 2), 0), ((1, -3, 0), 0), ((1, 5, 0), 1), ((1, 0, -3), 1), ((1, -2, 3), 0), ((1, 9, 6), 1), ((1, 0, -8), 1), ((1, 0, 2), 1), ((1, -8, 6), 0), ((1, 1, 9), 0), ((1, 0, 5), 0), ((1, -4, 9), 0), ((1, 8, 2), 1), ((1, 2, 6), 0)]"
      ],
      "execution_count": 707,
      "outputs": []
    },
    {
      "cell_type": "markdown",
      "metadata": {
        "id": "_esfDhJCgOdu"
      },
      "source": [
        "### Visualizing the Data"
      ]
    },
    {
      "cell_type": "code",
      "metadata": {
        "colab": {
          "base_uri": "https://localhost:8080/",
          "height": 279
        },
        "id": "nS3tc-a1gOd1",
        "outputId": "940e0906-03ac-4c2d-9a64-0978647c6e90"
      },
      "source": [
        "plotClasses(data)"
      ],
      "execution_count": 708,
      "outputs": [
        {
          "output_type": "display_data",
          "data": {
            "image/png": "[encoded data removed]",
            "text/plain": [
              "<Figure size 432x288 with 1 Axes>"
            ]
          },
          "metadata": {
            "needs_background": "light"
          }
        }
      ]
    },
    {
      "cell_type": "markdown",
      "metadata": {
        "id": "Cw65HsvYqa0r"
      },
      "source": [
        "### Building Model"
      ]
    },
    {
      "cell_type": "code",
      "metadata": {
        "id": "KBsfuYMLqa0x"
      },
      "source": [
        "alpha = 0.01\n",
        "model = [0.01, 0.01, 0.01] # Initial model\n",
        "X = [x for (x,r) in data]\n",
        "R = [r for (x,r) in data]"
      ],
      "execution_count": 709,
      "outputs": []
    },
    {
      "cell_type": "code",
      "metadata": {
        "id": "ZBqAfRwdqa0x"
      },
      "source": [
        "model = LogisticRegression(alpha, model, X, R, 100)"
      ],
      "execution_count": 710,
      "outputs": []
    },
    {
      "cell_type": "markdown",
      "metadata": {
        "id": "IZQCqnqrty-b"
      },
      "source": [
        "#### <font color=\"green\">Final Model"
      ]
    },
    {
      "cell_type": "code",
      "metadata": {
        "colab": {
          "base_uri": "https://localhost:8080/"
        },
        "id": "dv3JIfmcqa0x",
        "outputId": "1a7d1950-02a4-476b-8283-0e7b19b57bd5"
      },
      "source": [
        "print(\"Model Learned:\", model)  # Model after 100 iterations"
      ],
      "execution_count": 711,
      "outputs": [
        {
          "output_type": "stream",
          "name": "stdout",
          "text": [
            "Model Learned: [0.03431692304020504, 0.3063478176860939, -0.15441062746292988]\n"
          ]
        }
      ]
    },
    {
      "cell_type": "code",
      "metadata": {
        "colab": {
          "base_uri": "https://localhost:8080/",
          "height": 279
        },
        "id": "aUF3Ehszqa0x",
        "outputId": "c8b77139-359d-4a66-abc9-28322ef2eda7"
      },
      "source": [
        "plotModel(data, model)"
      ],
      "execution_count": 712,
      "outputs": [
        {
          "output_type": "display_data",
          "data": {
            "image/png": "[encoded data removed]",
            "text/plain": [
              "<Figure size 432x288 with 1 Axes>"
            ]
          },
          "metadata": {
            "needs_background": "light"
          }
        }
      ]
    },
    {
      "cell_type": "markdown",
      "metadata": {
        "id": "VT_F3qHHuYKT"
      },
      "source": [
        "This time, there are a couple data points that make it impossible to draw a perfect separating line between the two classes."
      ]
    },
    {
      "cell_type": "markdown",
      "metadata": {
        "id": "2hI3hX6cnqrz"
      },
      "source": [
        "#### Model Results on Original Data"
      ]
    },
    {
      "cell_type": "code",
      "metadata": {
        "colab": {
          "base_uri": "https://localhost:8080/"
        },
        "id": "Nqrruslmnqr4",
        "outputId": "7252b239-6f25-4602-bd94-f6ea61289683"
      },
      "source": [
        "testModel(data, model)"
      ],
      "execution_count": 713,
      "outputs": [
        {
          "output_type": "stream",
          "name": "stdout",
          "text": [
            "True Pos: 16\n",
            "True Neg: 11\n",
            "False Pos: 2\n",
            "False Neg: 1\n",
            "Accuracy: 0.9\n",
            "Precision: 0.8888888888888888\n",
            "Recall: 0.9411764705882353\n",
            "F1: 0.9142857142857143\n"
          ]
        }
      ]
    },
    {
      "cell_type": "markdown",
      "metadata": {
        "id": "gOE7uP6xufWY"
      },
      "source": [
        "Predictably, the model misclassifies a few data points."
      ]
    },
    {
      "cell_type": "markdown",
      "metadata": {
        "id": "V2usa2rHdNs5"
      },
      "source": [
        "## Training Data 3"
      ]
    },
    {
      "cell_type": "code",
      "metadata": {
        "id": "HRAQWV33daQR"
      },
      "source": [
        "data = [((1, 2, 7), 0), ((1, 19, 72), 0), ((1, -39, -20), 0), ((1, 86, 95), 1), ((1, 45, 37), 1), ((1, 52, -23), 1), ((1, -8, -8), 0), ((1, 67, 93), 1), ((1, 46, 21), 1), ((1, 18, -97), 1), ((1, -78, 70), 0), ((1, -9, -17), 1), ((1, 94, -40), 1), ((1, 11, -3), 1), ((1, -24, -59), 1), ((1, 25, 33), 1), ((1, -71, 23), 0), ((1, -34, -7), 0), ((1, 55, -3), 1), ((1, -5, -33), 1), ((1, -22, 38), 0), ((1, 94, 66), 1), ((1, 4, -89), 1), ((1, -9, 26), 0), ((1, -83, 61), 0), ((1, 19, 98), 0), ((1, -1, 55), 0), ((1, -43, 90), 0), ((1, 86, 27), 1), ((1, 24, 69), 0)]"
      ],
      "execution_count": 714,
      "outputs": []
    },
    {
      "cell_type": "markdown",
      "metadata": {
        "id": "1CbrcuUigPrr"
      },
      "source": [
        "### Visualizing the Data"
      ]
    },
    {
      "cell_type": "code",
      "metadata": {
        "colab": {
          "base_uri": "https://localhost:8080/",
          "height": 279
        },
        "id": "q5Jjk3hVgPrr",
        "outputId": "13cb51cb-c220-40d6-e1d7-4146fda660de"
      },
      "source": [
        "plotClasses(data)"
      ],
      "execution_count": 715,
      "outputs": [
        {
          "output_type": "display_data",
          "data": {
            "image/png": "[encoded data removed]",
            "text/plain": [
              "<Figure size 432x288 with 1 Axes>"
            ]
          },
          "metadata": {
            "needs_background": "light"
          }
        }
      ]
    },
    {
      "cell_type": "markdown",
      "metadata": {
        "id": "3HWcOZWWqhE7"
      },
      "source": [
        "### Building Model"
      ]
    },
    {
      "cell_type": "code",
      "metadata": {
        "id": "bmnPu4jbqhE7"
      },
      "source": [
        "alpha = 0.01\n",
        "model = [0.01, 0.01, 0.01] # Initial model\n",
        "X = [x for (x,r) in data]\n",
        "R = [r for (x,r) in data]"
      ],
      "execution_count": 716,
      "outputs": []
    },
    {
      "cell_type": "code",
      "metadata": {
        "id": "W6ylrvXaqhE7"
      },
      "source": [
        "model = LogisticRegression(alpha, model, X, R, 100)"
      ],
      "execution_count": 717,
      "outputs": []
    },
    {
      "cell_type": "markdown",
      "metadata": {
        "id": "YWBxMplztzzK"
      },
      "source": [
        "#### <font color=\"green\">Final Model"
      ]
    },
    {
      "cell_type": "code",
      "metadata": {
        "colab": {
          "base_uri": "https://localhost:8080/"
        },
        "id": "7luU4yE7qhE7",
        "outputId": "a753f6be-d3d0-411f-b7a9-838b2fb7ef7d"
      },
      "source": [
        "print(\"Model Learned:\", model)  # Model after 100 iterations"
      ],
      "execution_count": 718,
      "outputs": [
        {
          "output_type": "stream",
          "name": "stdout",
          "text": [
            "Model Learned: [0.013023555787017707, 0.18933092869711407, -0.11157264987117092]\n"
          ]
        }
      ]
    },
    {
      "cell_type": "code",
      "metadata": {
        "colab": {
          "base_uri": "https://localhost:8080/",
          "height": 279
        },
        "id": "qOc2i1K1qhE8",
        "outputId": "00581917-a5f1-4fb8-a201-b4620ed837a5"
      },
      "source": [
        "plotModel(data, model)"
      ],
      "execution_count": 719,
      "outputs": [
        {
          "output_type": "display_data",
          "data": {
            "image/png": "[encoded data removed]",
            "text/plain": [
              "<Figure size 432x288 with 1 Axes>"
            ]
          },
          "metadata": {
            "needs_background": "light"
          }
        }
      ]
    },
    {
      "cell_type": "markdown",
      "metadata": {
        "id": "hmDnpzDUupcA"
      },
      "source": [
        "The model is very close to not being able to classify a few of the data points, but it seems to have learned just enough."
      ]
    },
    {
      "cell_type": "markdown",
      "metadata": {
        "id": "78VEgav2nr3W"
      },
      "source": [
        "#### Model Results on Original Data"
      ]
    },
    {
      "cell_type": "code",
      "metadata": {
        "colab": {
          "base_uri": "https://localhost:8080/"
        },
        "id": "HRJt3KXDnr3W",
        "outputId": "f8f7d51c-166b-40fe-8e01-467a71e249ef"
      },
      "source": [
        "testModel(data, model)"
      ],
      "execution_count": 720,
      "outputs": [
        {
          "output_type": "stream",
          "name": "stdout",
          "text": [
            "True Pos: 16\n",
            "True Neg: 14\n",
            "False Pos: 0\n",
            "False Neg: 0\n",
            "Accuracy: 1.0\n",
            "Precision: 1.0\n",
            "Recall: 1.0\n",
            "F1: 1.0\n"
          ]
        }
      ]
    },
    {
      "cell_type": "markdown",
      "metadata": {
        "id": "XT3aCpoiuzHS"
      },
      "source": [
        "The model ended up being able to classify all of the points perfectly."
      ]
    },
    {
      "cell_type": "markdown",
      "metadata": {
        "id": "Q6JcE_fEdNxc"
      },
      "source": [
        "## Training Data 4"
      ]
    },
    {
      "cell_type": "code",
      "metadata": {
        "id": "t_jWEKQQcY7E"
      },
      "source": [
        "data = [((1, 5.1, 3.5), 0), ((1, 4.9, 3.0), 0), ((1, 4.7, 3.2), 0), ((1, 4.6, 3.1), 0), ((1, 5.0, 3.6), 0), ((1, 5.4, 3.9), 0), ((1, 4.6, 3.4), 0), ((1, 5.0, 3.4), 0), ((1, 4.4, 2.9), 0), ((1, 4.9, 3.1), 0), ((1, 5.4, 3.7), 0), ((1, 4.8, 3.4), 0), ((1, 4.8, 3.0), 0), ((1, 4.3, 3.0), 0), ((1, 5.8, 4.0), 0), ((1, 5.7, 4.4), 0), ((1, 5.4, 3.9), 0), ((1, 5.1, 3.5), 0), ((1, 5.7, 3.8), 0), ((1, 5.1, 3.8), 0), ((1, 5.4, 3.4), 0), ((1, 5.1, 3.7), 0), ((1, 4.6, 3.6), 0), ((1, 5.1, 3.3), 0), ((1, 4.8, 3.4), 0), ((1, 5.0, 3.0), 0), ((1, 5.0, 3.4), 0), ((1, 5.2, 3.5), 0), ((1, 5.2, 3.4), 0), ((1, 4.7, 3.2), 0), ((1, 4.8, 3.1), 0), ((1, 5.4, 3.4), 0), ((1, 5.2, 4.1), 0), ((1, 5.5, 4.2), 0), ((1, 4.9, 3.1), 0), ((1, 5.0, 3.2), 0), ((1, 5.5, 3.5), 0), ((1, 4.9, 3.6), 0), ((1, 4.4, 3.0), 0), ((1, 5.1, 3.4), 0), ((1, 5.0, 3.5), 0), ((1, 4.5, 2.3), 0), ((1, 4.4, 3.2), 0), ((1, 5.0, 3.5), 0), ((1, 5.1, 3.8), 0), ((1, 4.8, 3.0), 0), ((1, 5.1, 3.8), 0), ((1, 4.6, 3.2), 0), ((1, 5.3, 3.7), 0), ((1, 5.0, 3.3), 0), ((1, 7.0, 3.2), 1), ((1, 6.4, 3.2), 1), ((1, 6.9, 3.1), 1), ((1, 5.5, 2.3), 1), ((1, 6.5, 2.8), 1), ((1, 5.7, 2.8), 1), ((1, 6.3, 3.3), 1), ((1, 4.9, 2.4), 1), ((1, 6.6, 2.9), 1), ((1, 5.2, 2.7), 1), ((1, 5.0, 2.0), 1), ((1, 5.9, 3.0), 1), ((1, 6.0, 2.2), 1), ((1, 6.1, 2.9), 1), ((1, 5.6, 2.9), 1), ((1, 6.7, 3.1), 1), ((1, 5.6, 3.0), 1), ((1, 5.8, 2.7), 1), ((1, 6.2, 2.2), 1), ((1, 5.6, 2.5), 1), ((1, 5.9, 3.2), 1), ((1, 6.1, 2.8), 1), ((1, 6.3, 2.5), 1), ((1, 6.1, 2.8), 1), ((1, 6.4, 2.9), 1), ((1, 6.6, 3.0), 1), ((1, 6.8, 2.8), 1), ((1, 6.7, 3.0), 1), ((1, 6.0, 2.9), 1), ((1, 5.7, 2.6), 1), ((1, 5.5, 2.4), 1), ((1, 5.5, 2.4), 1), ((1, 5.8, 2.7), 1), ((1, 6.0, 2.7), 1), ((1, 5.4, 3.0), 1), ((1, 6.0, 3.4), 1), ((1, 6.7, 3.1), 1), ((1, 6.3, 2.3), 1), ((1, 5.6, 3.0), 1), ((1, 5.5, 2.5), 1), ((1, 5.5, 2.6), 1), ((1, 6.1, 3.0), 1), ((1, 5.8, 2.6), 1), ((1, 5.0, 2.3), 1), ((1, 5.6, 2.7), 1), ((1, 5.7, 3.0), 1), ((1, 5.7, 2.9), 1), ((1, 6.2, 2.9), 1), ((1, 5.1, 2.5), 1), ((1, 5.7, 2.8), 1), ((1, 6.3, 3.3), 2), ((1, 5.8, 2.7), 2), ((1, 7.1, 3.0), 2), ((1, 6.3, 2.9), 2), ((1, 6.5, 3.0), 2), ((1, 7.6, 3.0), 2), ((1, 4.9, 2.5), 2), ((1, 7.3, 2.9), 2), ((1, 6.7, 2.5), 2), ((1, 7.2, 3.6), 2), ((1, 6.5, 3.2), 2), ((1, 6.4, 2.7), 2), ((1, 6.8, 3.0), 2), ((1, 5.7, 2.5), 2), ((1, 5.8, 2.8), 2), ((1, 6.4, 3.2), 2), ((1, 6.5, 3.0), 2), ((1, 7.7, 3.8), 2), ((1, 7.7, 2.6), 2), ((1, 6.0, 2.2), 2), ((1, 6.9, 3.2), 2), ((1, 5.6, 2.8), 2), ((1, 7.7, 2.8), 2), ((1, 6.3, 2.7), 2), ((1, 6.7, 3.3), 2), ((1, 7.2, 3.2), 2), ((1, 6.2, 2.8), 2), ((1, 6.1, 3.0), 2), ((1, 6.4, 2.8), 2), ((1, 7.2, 3.0), 2), ((1, 7.4, 2.8), 2), ((1, 7.9, 3.8), 2), ((1, 6.4, 2.8), 2), ((1, 6.3, 2.8), 2), ((1, 6.1, 2.6), 2), ((1, 7.7, 3.0), 2), ((1, 6.3, 3.4), 2), ((1, 6.4, 3.1), 2), ((1, 6.0, 3.0), 2), ((1, 6.9, 3.1), 2), ((1, 6.7, 3.1), 2), ((1, 6.9, 3.1), 2), ((1, 5.8, 2.7), 2), ((1, 6.8, 3.2), 2), ((1, 6.7, 3.3), 2), ((1, 6.7, 3.0), 2), ((1, 6.3, 2.5), 2), ((1, 6.5, 3.0), 2), ((1, 6.2, 3.4), 2), ((1, 5.9, 3.0), 2)]"
      ],
      "execution_count": 721,
      "outputs": []
    },
    {
      "cell_type": "markdown",
      "metadata": {
        "id": "8EHOUwTNgQGi"
      },
      "source": [
        "### Visualizing the Data"
      ]
    },
    {
      "cell_type": "code",
      "metadata": {
        "colab": {
          "base_uri": "https://localhost:8080/",
          "height": 282
        },
        "id": "YaVmBUVJgQGj",
        "outputId": "51368d70-0897-4dd8-d98a-43a3aad7128c"
      },
      "source": [
        "plotClasses(data)"
      ],
      "execution_count": 722,
      "outputs": [
        {
          "output_type": "display_data",
          "data": {
            "image/png": "[encoded data removed]",
            "text/plain": [
              "<Figure size 432x288 with 1 Axes>"
            ]
          },
          "metadata": {
            "needs_background": "light"
          }
        }
      ]
    },
    {
      "cell_type": "markdown",
      "metadata": {
        "id": "iuwML84zwkhR"
      },
      "source": [
        "The negative examples (0) are represented in red as usual. The other examples (1 and 2) are represented together as positive examples in green."
      ]
    },
    {
      "cell_type": "code",
      "metadata": {
        "id": "7IC-6dEtw0AR"
      },
      "source": [
        "def plotAllClasses(data):\n",
        "  X = [x for (x,r) in data]\n",
        "  R = [r for (x,r) in data]\n",
        "\n",
        "  random.seed(38)\n",
        "  plt.xlabel(\"x1\")\n",
        "  plt.ylabel(\"x2\")\n",
        "  classes = list(set(R)) # remove duplicates to just get classes\n",
        "  for i in classes:\n",
        "    Xr = [x for (x,r) in data if r == i]\n",
        "    x1r = [x[1] for x in Xr]\n",
        "    x2r = [x[2] for x in Xr]\n",
        "    rgb = [random.random(),random.random(),random.random()]\n",
        "    plt.plot(x1r, x2r, c=rgb, marker=\"o\", linestyle=\"\")\n",
        "  plt.show()"
      ],
      "execution_count": 723,
      "outputs": []
    },
    {
      "cell_type": "code",
      "metadata": {
        "colab": {
          "base_uri": "https://localhost:8080/",
          "height": 282
        },
        "id": "EHnZTgzYyeR2",
        "outputId": "46437bbd-df56-4022-b388-c1ba0f6bcae6"
      },
      "source": [
        "plotAllClasses(data)"
      ],
      "execution_count": 724,
      "outputs": [
        {
          "output_type": "display_data",
          "data": {
            "image/png": "[encoded data removed]",
            "text/plain": [
              "<Figure size 432x288 with 1 Axes>"
            ]
          },
          "metadata": {
            "needs_background": "light"
          }
        }
      ]
    },
    {
      "cell_type": "markdown",
      "metadata": {
        "id": "jpuS71odz9mF"
      },
      "source": [
        "This is the dataset with all classes as a different color."
      ]
    },
    {
      "cell_type": "markdown",
      "metadata": {
        "id": "B75l24vpqjf5"
      },
      "source": [
        "### Building Model"
      ]
    },
    {
      "cell_type": "markdown",
      "metadata": {
        "id": "--6Rdpcau9Eo"
      },
      "source": [
        "It should be noted that I had to increase the learning rate drastically for this dataset. 0.5 seemed to be a good round value that doesn't start to diverge."
      ]
    },
    {
      "cell_type": "code",
      "metadata": {
        "id": "BjUp0kDkqjf5"
      },
      "source": [
        "alpha = 0.5\n",
        "model = [0.01, 0.01, 0.01] # Initial model\n",
        "X = [x for (x,r) in data]\n",
        "R = [r for (x,r) in data]"
      ],
      "execution_count": 725,
      "outputs": []
    },
    {
      "cell_type": "code",
      "metadata": {
        "id": "3n9Tfy_Sqjf5"
      },
      "source": [
        "model = LogisticRegression(alpha, model, X, R, 10000)"
      ],
      "execution_count": 726,
      "outputs": []
    },
    {
      "cell_type": "markdown",
      "metadata": {
        "id": "aNYoSVJ-vHHW"
      },
      "source": [
        "I'm doing a lot more iterations because the learning was still too slow for only 100 iterations."
      ]
    },
    {
      "cell_type": "markdown",
      "metadata": {
        "id": "EIH3P5rct078"
      },
      "source": [
        "#### <font color=\"green\">Final Model"
      ]
    },
    {
      "cell_type": "code",
      "metadata": {
        "colab": {
          "base_uri": "https://localhost:8080/"
        },
        "id": "ZgXv5IHRqjf5",
        "outputId": "90e68720-f5f4-4593-ae5b-334d5836ddf3"
      },
      "source": [
        "print(\"Model Learned:\", model)  # Model after 10,000 iterations"
      ],
      "execution_count": 727,
      "outputs": [
        {
          "output_type": "stream",
          "name": "stdout",
          "text": [
            "Model Learned: [-3.7686443761585244, 7.063889117104098, -10.822021573606472]\n"
          ]
        }
      ]
    },
    {
      "cell_type": "code",
      "metadata": {
        "colab": {
          "base_uri": "https://localhost:8080/",
          "height": 279
        },
        "id": "sflxi-tEqjf5",
        "outputId": "5bbb9c54-0e87-4d7e-847a-7c90f22ca8cc"
      },
      "source": [
        "plotModel(data, model)"
      ],
      "execution_count": 728,
      "outputs": [
        {
          "output_type": "display_data",
          "data": {
            "image/png": "[encoded data removed]",
            "text/plain": [
              "<Figure size 432x288 with 1 Axes>"
            ]
          },
          "metadata": {
            "needs_background": "light"
          }
        }
      ]
    },
    {
      "cell_type": "markdown",
      "metadata": {
        "id": "t1qBYpf9vQEq"
      },
      "source": [
        "The model can separate the two classes aside from one point that seems to be a bit of an outlier. With enough iterations or an increased learning rate, the model can adjust for this point, but it takes a lot longer."
      ]
    },
    {
      "cell_type": "markdown",
      "metadata": {
        "id": "eamMRVK5ntBA"
      },
      "source": [
        "#### Model Results on Original Data"
      ]
    },
    {
      "cell_type": "code",
      "metadata": {
        "colab": {
          "base_uri": "https://localhost:8080/"
        },
        "id": "KaGGgp19ntBB",
        "outputId": "825cceb4-7d32-4a71-fa15-929ccda2682b"
      },
      "source": [
        "testModel(data, model)"
      ],
      "execution_count": 729,
      "outputs": [
        {
          "output_type": "stream",
          "name": "stdout",
          "text": [
            "True Pos: 100\n",
            "True Neg: 49\n",
            "False Pos: 1\n",
            "False Neg: 0\n",
            "Accuracy: 0.9933333333333333\n",
            "Precision: 0.9900990099009901\n",
            "Recall: 1.0\n",
            "F1: 0.9950248756218906\n"
          ]
        }
      ]
    },
    {
      "cell_type": "markdown",
      "metadata": {
        "id": "2Vb5EiOTwTtp"
      },
      "source": [
        "Overall, the model does essentially a perfect job of classifying the 0 class vs the rest of the classes (1 and 2), but misses that single example."
      ]
    }
  ]
}