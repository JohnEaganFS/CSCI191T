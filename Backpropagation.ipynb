{
  "nbformat": 4,
  "nbformat_minor": 0,
  "metadata": {
    "colab": {
      "name": "Backpropagation.ipynb",
      "provenance": [],
      "collapsed_sections": [],
      "authorship_tag": "ABX9TyPRKizolVjWnZQoaUi541mh",
      "include_colab_link": true
    },
    "kernelspec": {
      "name": "python3",
      "display_name": "Python 3"
    },
    "language_info": {
      "name": "python"
    }
  },
  "cells": [
    {
      "cell_type": "markdown",
      "metadata": {
        "id": "view-in-github",
        "colab_type": "text"
      },
      "source": [
        "<a href=\"https://colab.research.google.com/github/JohnEaganFS/CSCI191T/blob/main/Backpropagation.ipynb\" target=\"_parent\"><img src=\"https://colab.research.google.com/assets/colab-badge.svg\" alt=\"Open In Colab\"/></a>"
      ]
    },
    {
      "cell_type": "markdown",
      "metadata": {
        "id": "9EiIEsYfjmam"
      },
      "source": [
        "## CSCI 191T - Machine Learning\n",
        "##Name: John Eagan \n",
        "##Assignment: Backpropagation"
      ]
    },
    {
      "cell_type": "code",
      "metadata": {
        "id": "SmAK-ep0ylt3"
      },
      "source": [
        "import math\n",
        "import numpy as np\n",
        "import random\n",
        "import plotly.express as px\n",
        "import sklearn\n",
        "from sklearn.metrics import accuracy_score\n",
        "import pandas as pd"
      ],
      "execution_count": null,
      "outputs": []
    },
    {
      "cell_type": "markdown",
      "metadata": {
        "id": "dLjVNQ5Kh8qf"
      },
      "source": [
        "## F(w, x), Sigmoid, Classify, and Predict Functions"
      ]
    },
    {
      "cell_type": "code",
      "metadata": {
        "id": "kT-cugX3IPWp"
      },
      "source": [
        "def F(W,X):\n",
        "  return sum([w*x for w,x in zip(W,X)])"
      ],
      "execution_count": null,
      "outputs": []
    },
    {
      "cell_type": "code",
      "metadata": {
        "id": "Y5HE0OZ1hWno"
      },
      "source": [
        "def sigmoid(x):\n",
        "  return 1.0/(1+math.exp(-x))"
      ],
      "execution_count": null,
      "outputs": []
    },
    {
      "cell_type": "code",
      "metadata": {
        "id": "EXvbPTHuHttX"
      },
      "source": [
        "def relu(x):\n",
        "  return max([0.0, x])"
      ],
      "execution_count": null,
      "outputs": []
    },
    {
      "cell_type": "code",
      "metadata": {
        "id": "TcPdYXEcAezG"
      },
      "source": [
        "def classify(model, X):\n",
        "  return [1 if sigmoid(F(model, x)) > 0.5 else 0 for x in X]"
      ],
      "execution_count": null,
      "outputs": []
    },
    {
      "cell_type": "code",
      "metadata": {
        "id": "YdQnwauwqF3H"
      },
      "source": [
        "def predict(model, x):\n",
        "  w1 = model[0]\n",
        "  w2 = model[1]\n",
        "  v1 = model[2]\n",
        "  z1 = sigmoid(F(w1, x))\n",
        "  z2 = sigmoid(F(w2, x))\n",
        "  Z = (1, z1, z2)\n",
        "  y = sigmoid(F(v1,Z))\n",
        "  return y"
      ],
      "execution_count": null,
      "outputs": []
    },
    {
      "cell_type": "code",
      "metadata": {
        "id": "2Nikhvr-qF3I"
      },
      "source": [
        "def classifyY(Y):\n",
        "  return [1 if y > 0.5 else 0 for y in Y]"
      ],
      "execution_count": null,
      "outputs": []
    },
    {
      "cell_type": "markdown",
      "metadata": {
        "id": "cSd5w_5sj_Wr"
      },
      "source": [
        "# Training Data"
      ]
    },
    {
      "cell_type": "code",
      "metadata": {
        "id": "w5l_SnAPjeOG"
      },
      "source": [
        "data = [ ( (0,0), 0 ), ( (0,1), 1 ), ( (1,0), 1), ( (1,1), 0 ) ]"
      ],
      "execution_count": null,
      "outputs": []
    },
    {
      "cell_type": "markdown",
      "metadata": {
        "id": "Kd0l-wkKkBPz"
      },
      "source": [
        "#Randomizing Weights"
      ]
    },
    {
      "cell_type": "code",
      "metadata": {
        "id": "YRs3DVI9kF5k"
      },
      "source": [
        "np.random.seed(42)\n",
        "def randomWeights(weightVectors, range):\n",
        "  newWeightVectors = []\n",
        "  for weightVector in weightVectors:\n",
        "    newWeightVectors.append([np.random.uniform(-1*range, range) for w in weightVector])\n",
        "  return newWeightVectors"
      ],
      "execution_count": null,
      "outputs": []
    },
    {
      "cell_type": "code",
      "metadata": {
        "colab": {
          "base_uri": "https://localhost:8080/"
        },
        "id": "AG6QacI9z70u",
        "outputId": "aab8a961-4f5e-4b7b-a799-d0cc9565369b"
      },
      "source": [
        "w1 = [0, 0, 0]\n",
        "w2 = [0, 0, 0]\n",
        "v1 = [0, 0, 0]\n",
        "[w1, w2, v1] = randomWeights([w1, w2, v1], 1)\n",
        "model = [w1, w2, v1]\n",
        "print(model)"
      ],
      "execution_count": null,
      "outputs": [
        {
          "output_type": "stream",
          "name": "stdout",
          "text": [
            "[[-0.9152421199071252, -0.20564741686637378, 0.5269973699737718], [0.3271072350434838, -0.2565094314910705, -0.8951948670463146], [-0.41917545299916914, -0.6743595638997375, -0.4685845685401149]]\n"
          ]
        }
      ]
    },
    {
      "cell_type": "markdown",
      "metadata": {
        "id": "srMP-MjH0xz5"
      },
      "source": [
        "# Initial Training and Test"
      ]
    },
    {
      "cell_type": "code",
      "metadata": {
        "id": "NM9UMF2c0sAQ"
      },
      "source": [
        "alpha = 0.3"
      ],
      "execution_count": null,
      "outputs": []
    },
    {
      "cell_type": "code",
      "metadata": {
        "colab": {
          "base_uri": "https://localhost:8080/"
        },
        "id": "aSnIAwKF01nl",
        "outputId": "9de3f91f-f443-40b4-8daa-cfdb70dcc83e"
      },
      "source": [
        "trainingData = data.copy()\n",
        "trainingData = [((1, x1, x2), r) for ((x1, x2), r) in trainingData]\n",
        "print(trainingData)"
      ],
      "execution_count": null,
      "outputs": [
        {
          "output_type": "stream",
          "name": "stdout",
          "text": [
            "[((1, 0, 0), 0), ((1, 0, 1), 1), ((1, 1, 0), 1), ((1, 1, 1), 0)]\n"
          ]
        }
      ]
    },
    {
      "cell_type": "code",
      "metadata": {
        "id": "bNXmY5JI1Ti5"
      },
      "source": [
        "def Backpropagation(model, learningRate, data, iterations, SEAD):\n",
        "  w1 = model[0]\n",
        "  w2 = model[1]\n",
        "  v1 = model[2]\n",
        "  for i in range(iterations):\n",
        "    np.random.shuffle(data)\n",
        "    \n",
        "    # Tracking Squared Error and Accuracy (every 100 epochs)\n",
        "    if (i % 100) == 0:\n",
        "      testData = [ ( (0,0), 0 ), ( (0,1), 1 ), ( (1,0), 1), ( (1,1), 0 ) ]\n",
        "      X = [(1, x1, x2) for ((x1, x2),r) in testData]\n",
        "      R = [r for ((x1, x2),r) in testData]\n",
        "      yPred = [predict([w1, w2, v1], x) for x in X]\n",
        "      squaredError = sum([pow(r - y, 2) for (r, y) in zip(R, yPred)])\n",
        "\n",
        "      classPred = classifyY(yPred)\n",
        "      accuracy = sklearn.metrics.accuracy_score(R, classPred)\n",
        "\n",
        "      SEAD.append((squaredError, accuracy))\n",
        "\n",
        "    # Backpropagation\n",
        "    for (x, r) in data:\n",
        "      # Forward Pass\n",
        "      z1 = sigmoid(F(w1, x))\n",
        "      z2 = sigmoid(F(w2, x))\n",
        "      Z = (1, z1, z2)\n",
        "      y = sigmoid(F(v1,Z))\n",
        "\n",
        "      # Backward Pass\n",
        "      deltaV = [learningRate * (r - y) * z for z in Z]\n",
        "      deltaW1 = [learningRate * (r - y) * v1[1] * z1 * (1 - z1) * xi for xi in x]\n",
        "      deltaW2 = [learningRate * (r - y) * v1[2] * z2 * (1 - z2) * xi for xi in x]\n",
        "\n",
        "      v1 = [v + dv for (v, dv) in zip(v1, deltaV)]\n",
        "      w1 = [w + dw for (w, dw) in zip(w1, deltaW1)]\n",
        "      w2 = [w + dw for (w, dw) in zip(w2, deltaW2)]\n",
        "\n",
        "  newModel = [w1, w2, v1]\n",
        "  return newModel"
      ],
      "execution_count": null,
      "outputs": []
    },
    {
      "cell_type": "code",
      "metadata": {
        "colab": {
          "base_uri": "https://localhost:8080/"
        },
        "id": "hR2BLkEN2AXb",
        "outputId": "52a30f8d-74cb-480e-f262-31a3c19a7fb7"
      },
      "source": [
        "squaredErrorAccuracyData = []\n",
        "model = Backpropagation(model, alpha, trainingData, 1000, squaredErrorAccuracyData)\n",
        "print(\"Final Model:\", model)"
      ],
      "execution_count": null,
      "outputs": [
        {
          "output_type": "stream",
          "name": "stdout",
          "text": [
            "Final Model: [[-3.2591063578772608, 7.2501404610282085, 7.250693733234696], [7.844258083236938, -5.242393717995175, -5.240495698155427], [-12.611966932095935, 8.538539302252513, 8.696696157567322]]\n"
          ]
        }
      ]
    },
    {
      "cell_type": "code",
      "metadata": {
        "colab": {
          "base_uri": "https://localhost:8080/"
        },
        "id": "BQehcjC4_wOS",
        "outputId": "25b09cef-f9a2-4cb0-e0d7-7136e5cdc4c2"
      },
      "source": [
        "X = [(1,x1,x2) for ((x1,x2),r) in data]\n",
        "print(\"Test Data:\", X)\n",
        "yPred = [predict(model, x) for x in X]\n",
        "print(\"Y Predictions:\", yPred)\n",
        "print(\"Class Predictions:\", classifyY(yPred))"
      ],
      "execution_count": null,
      "outputs": [
        {
          "output_type": "stream",
          "name": "stdout",
          "text": [
            "Test Data: [(1, 0, 0), (1, 0, 1), (1, 1, 0), (1, 1, 1)]\n",
            "Y Predictions: [0.026526052706117426, 0.979552701087097, 0.9795297770962561, 0.02949690327923357]\n",
            "Class Predictions: [0, 1, 1, 0]\n"
          ]
        }
      ]
    },
    {
      "cell_type": "markdown",
      "metadata": {
        "id": "82CevT0Fy17W"
      },
      "source": [
        "# Testing 100 Random Models"
      ]
    },
    {
      "cell_type": "markdown",
      "metadata": {
        "id": "AUIrMqway6Eq"
      },
      "source": [
        "The inital random weights seem to have a substantial effect on the final model because of local minima in the XOR error surface."
      ]
    },
    {
      "cell_type": "code",
      "metadata": {
        "colab": {
          "base_uri": "https://localhost:8080/"
        },
        "id": "8vFPR1GHFLrz",
        "outputId": "54c5283e-7d0e-4cc5-9955-d594beb1fd74"
      },
      "source": [
        "successCount = 0\n",
        "failureCount = 0\n",
        "for i in range(100):\n",
        "  [w1, w2, v1] = randomWeights([w1, w2, v1], 1)\n",
        "  model = [w1, w2, v1]\n",
        "  SEAD = []\n",
        "  model = Backpropagation(model, alpha, trainingData, 1000, SEAD)\n",
        "  yPred = [predict(model, x) for x in X]\n",
        "  if (classifyY(yPred) == [0,1,1,0]):\n",
        "    successCount += 1\n",
        "  else:\n",
        "    failureCount += 1\n",
        "print(successCount)\n",
        "print(failureCount)"
      ],
      "execution_count": null,
      "outputs": [
        {
          "output_type": "stream",
          "name": "stdout",
          "text": [
            "68\n",
            "32\n"
          ]
        }
      ]
    },
    {
      "cell_type": "markdown",
      "metadata": {
        "id": "XPSeNSOIzOXZ"
      },
      "source": [
        "Out of 100 models, about 2/3 were able to model XOR."
      ]
    },
    {
      "cell_type": "markdown",
      "metadata": {
        "id": "NqEKZQgGkmvX"
      },
      "source": [
        "# 5 Different Initial Weights"
      ]
    },
    {
      "cell_type": "code",
      "metadata": {
        "id": "T1vISQRVkyVZ"
      },
      "source": [
        "modelList = [randomWeights([[0,0,0],[0,0,0],[0,0,0]], 1) for i in range(5)]"
      ],
      "execution_count": null,
      "outputs": []
    },
    {
      "cell_type": "markdown",
      "metadata": {
        "id": "YBC1QdExm5sm"
      },
      "source": [
        "## Initial Random Weights"
      ]
    },
    {
      "cell_type": "code",
      "metadata": {
        "colab": {
          "base_uri": "https://localhost:8080/"
        },
        "id": "AkBUBmlFlp3h",
        "outputId": "bbf53168-0026-4d3c-8b31-6297e998afec"
      },
      "source": [
        "for i, model in enumerate(modelList):\n",
        "  print(\"Model\", str(i) + \":\", \"\\n\", np.array(model), \"\\n\")\n",
        "\n",
        "# Model i:\n",
        "# w1\n",
        "# w2\n",
        "# v1"
      ],
      "execution_count": null,
      "outputs": [
        {
          "output_type": "stream",
          "name": "stdout",
          "text": [
            "Model 0: \n",
            " [[ 0.40144497  0.09380559  0.80415034]\n",
            " [-0.29678894  0.96171604 -0.07489762]\n",
            " [-0.38776761  0.26254586 -0.46330728]] \n",
            "\n",
            "Model 1: \n",
            " [[ 0.09194924  0.19342716  0.3546975 ]\n",
            " [-0.58023909  0.70011304 -0.86897872]\n",
            " [ 0.40417753  0.21851434  0.71328065]] \n",
            "\n",
            "Model 2: \n",
            " [[ 0.7398408   0.65043978 -0.03921999]\n",
            " [ 0.64550828  0.72055007  0.48186552]\n",
            " [ 0.68163987 -0.90306136 -0.04615828]] \n",
            "\n",
            "Model 3: \n",
            " [[ 0.48955145  0.92532185 -0.42668866]\n",
            " [ 0.54465499  0.5206087   0.08426143]\n",
            " [ 0.41788408  0.94544924 -0.30084753]] \n",
            "\n",
            "Model 4: \n",
            " [[-0.03546604 -0.43428262  0.36246929]\n",
            " [ 0.39096286 -0.85554524  0.69462158]\n",
            " [ 0.74081185  0.94871367 -0.73903522]] \n",
            "\n"
          ]
        }
      ]
    },
    {
      "cell_type": "markdown",
      "metadata": {
        "id": "d7sG28hMm8n8"
      },
      "source": [
        "## Learning Rate"
      ]
    },
    {
      "cell_type": "code",
      "metadata": {
        "id": "Obi7z8jSlqnr"
      },
      "source": [
        "alpha = 0.3"
      ],
      "execution_count": null,
      "outputs": []
    },
    {
      "cell_type": "markdown",
      "metadata": {
        "id": "X3jl_gxonGuG"
      },
      "source": [
        "## Final Weights"
      ]
    },
    {
      "cell_type": "code",
      "metadata": {
        "colab": {
          "base_uri": "https://localhost:8080/"
        },
        "id": "3S5OG1ucnR-U",
        "outputId": "b65e6be1-196c-42d2-ce16-074f2883b538"
      },
      "source": [
        "trainingData = [((1, x1, x2), r) for ((x1, x2), r) in data]\n",
        "print(trainingData)"
      ],
      "execution_count": null,
      "outputs": [
        {
          "output_type": "stream",
          "name": "stdout",
          "text": [
            "[((1, 0, 0), 0), ((1, 0, 1), 1), ((1, 1, 0), 1), ((1, 1, 1), 0)]\n"
          ]
        }
      ]
    },
    {
      "cell_type": "code",
      "metadata": {
        "colab": {
          "base_uri": "https://localhost:8080/"
        },
        "id": "7s2sbbWqnJZa",
        "outputId": "ddfe6f3f-03e1-4768-90c7-e62729da4a6e"
      },
      "source": [
        "SEADList = [[] for i in range(len(modelList))]\n",
        "for i, model in enumerate(modelList):\n",
        "  modelList[i] = Backpropagation(model, alpha, trainingData, 1000, SEADList[i])\n",
        "  trainingData = [((1, x1, x2), r) for ((x1, x2), r) in data] # Resetting data to default order (not necessary)\n",
        "\n",
        "for i, model in enumerate(modelList):\n",
        "  print(\"Final Model\", str(i) + \":\", \"\\n\", np.array(model), \"\\n\")"
      ],
      "execution_count": null,
      "outputs": [
        {
          "output_type": "stream",
          "name": "stdout",
          "text": [
            "Final Model 0: \n",
            " [[-3.07424817 -5.86920859  5.57045922]\n",
            " [-3.35989116  6.02803863 -6.22743746]\n",
            " [-4.45990685  9.15540143  9.09453059]] \n",
            "\n",
            "Final Model 1: \n",
            " [[ 2.84872635  6.13189498 -5.80092658]\n",
            " [-3.68718194  6.76234916 -6.81517252]\n",
            " [ 4.5450236  -9.7344899  10.18019972]] \n",
            "\n",
            "Final Model 2: \n",
            " [[-1.3612497   2.34607257 -5.35994298]\n",
            " [ 1.09432886 -4.69144958 -6.07153633]\n",
            " [ 0.03074398  4.32983696 -5.9585092 ]] \n",
            "\n",
            "Final Model 3: \n",
            " [[-3.63065011e+00  5.10789942e+00 -7.76534774e+00]\n",
            " [ 1.03850287e+00 -2.94330713e+00 -6.86131290e+00]\n",
            " [-1.56086023e-03  6.95787527e+00 -6.07663613e+00]] \n",
            "\n",
            "Final Model 4: \n",
            " [[ -3.2546731   -6.33713978   6.08812627]\n",
            " [  3.16726574  -6.32315429   6.55436042]\n",
            " [  4.72891391  10.72110284 -10.15113389]] \n",
            "\n"
          ]
        }
      ]
    },
    {
      "cell_type": "markdown",
      "metadata": {
        "id": "-AqIEcGvn6R3"
      },
      "source": [
        "## Outputs for Each Model"
      ]
    },
    {
      "cell_type": "code",
      "metadata": {
        "colab": {
          "base_uri": "https://localhost:8080/"
        },
        "id": "gYvwdHn0n8cp",
        "outputId": "8f263a2b-b228-4535-f7de-1c487d8eefed"
      },
      "source": [
        "print(X)\n",
        "for i, model in enumerate(modelList):\n",
        "  yPred = [predict(model, x) for x in X]\n",
        "  print(\"Model\", i, \"Output:\", \"\\n\", yPred, \"\\n\", classifyY(yPred), \"\\n\")"
      ],
      "execution_count": null,
      "outputs": [
        {
          "output_type": "stream",
          "name": "stdout",
          "text": [
            "[(1, 0, 0), (1, 0, 1), (1, 1, 0), (1, 1, 1)]\n",
            "Model 0 Output: \n",
            " [0.022975714621255642, 0.9819991329539177, 0.982804671633787, 0.019748243030223222] \n",
            " [0, 1, 1, 0] \n",
            "\n",
            "Model 1 Output: \n",
            " [0.012035082871906556, 0.9830793482345941, 0.9894661393222931, 0.010307828468698104] \n",
            " [0, 1, 1, 0] \n",
            "\n",
            "Model 2 Output: \n",
            " [0.027925310924340165, 0.4987907705046413, 0.9536563782852551, 0.5210345408251951] \n",
            " [0, 0, 1, 1] \n",
            "\n",
            "Model 3 Output: \n",
            " [0.01325664865151599, 0.4951471403310247, 0.9924296487128177, 0.5025993615644921] \n",
            " [0, 0, 1, 1] \n",
            "\n",
            "Model 4 Output: \n",
            " [0.009819087362259766, 0.9910224454838868, 0.986808090389387, 0.008319799958354749] \n",
            " [0, 1, 1, 0] \n",
            "\n"
          ]
        }
      ]
    },
    {
      "cell_type": "markdown",
      "metadata": {
        "id": "pbIt18ybvVQh"
      },
      "source": [
        "## Squared Error and Accuracy"
      ]
    },
    {
      "cell_type": "code",
      "metadata": {
        "id": "21Yl27w5vYJq"
      },
      "source": [
        "from google.colab import data_table\n",
        "data_table.enable_dataframe_formatter()"
      ],
      "execution_count": null,
      "outputs": []
    },
    {
      "cell_type": "code",
      "metadata": {
        "colab": {
          "base_uri": "https://localhost:8080/",
          "height": 211
        },
        "id": "Fbo28K3gvY50",
        "outputId": "a3fc2391-2d12-4320-9bb5-329779d99a24"
      },
      "source": [
        "SE = [[se for (se, a) in sead] for sead in SEADList]\n",
        "Acc = [[a for (se, a) in sead] for sead in SEADList]\n",
        "\n",
        "columns = []\n",
        "columns = columns + ['Epoch ' + str(i * 100) for i in range(10)]\n",
        "SE = pd.DataFrame(SE, columns=columns)\n",
        "SE.index.names = ['Model']\n",
        "print(\"Squared Error\")\n",
        "SE"
      ],
      "execution_count": null,
      "outputs": [
        {
          "output_type": "stream",
          "name": "stdout",
          "text": [
            "Squared Error\n"
          ]
        },
        {
          "output_type": "execute_result",
          "data": {
            "application/vnd.google.colaboratory.module+javascript": "\n      import \"https://ssl.gstatic.com/colaboratory/data_table/a6224c040fa35dcf/data_table.js\";\n\n      window.createDataTable({\n        data: [[{\n            'v': 0,\n            'f': \"0\",\n        },\n{\n            'v': 1.0495309380941618,\n            'f': \"1.0495309380941618\",\n        },\n{\n            'v': 1.0011437343731153,\n            'f': \"1.0011437343731153\",\n        },\n{\n            'v': 0.9994452579343558,\n            'f': \"0.9994452579343558\",\n        },\n{\n            'v': 0.9978475173936705,\n            'f': \"0.9978475173936705\",\n        },\n{\n            'v': 0.9851192930337486,\n            'f': \"0.9851192930337486\",\n        },\n{\n            'v': 0.8020101287203202,\n            'f': \"0.8020101287203202\",\n        },\n{\n            'v': 0.10613168218298878,\n            'f': \"0.10613168218298878\",\n        },\n{\n            'v': 0.01550790291996564,\n            'f': \"0.01550790291996564\",\n        },\n{\n            'v': 0.005371068094194741,\n            'f': \"0.005371068094194741\",\n        },\n{\n            'v': 0.002628097710529077,\n            'f': \"0.002628097710529077\",\n        }],\n [{\n            'v': 1,\n            'f': \"1\",\n        },\n{\n            'v': 1.1344059902267347,\n            'f': \"1.1344059902267347\",\n        },\n{\n            'v': 0.9446553401671578,\n            'f': \"0.9446553401671578\",\n        },\n{\n            'v': 0.7521067129581065,\n            'f': \"0.7521067129581065\",\n        },\n{\n            'v': 0.6211303108340478,\n            'f': \"0.6211303108340478\",\n        },\n{\n            'v': 0.06722068219036217,\n            'f': \"0.06722068219036217\",\n        },\n{\n            'v': 0.01167041686320461,\n            'f': \"0.01167041686320461\",\n        },\n{\n            'v': 0.004408031805140666,\n            'f': \"0.004408031805140666\",\n        },\n{\n            'v': 0.002264075931419309,\n            'f': \"0.002264075931419309\",\n        },\n{\n            'v': 0.0013664905456496697,\n            'f': \"0.0013664905456496697\",\n        },\n{\n            'v': 0.0009102830328833012,\n            'f': \"0.0009102830328833012\",\n        }],\n [{\n            'v': 2,\n            'f': \"2\",\n        },\n{\n            'v': 1.0008061350803825,\n            'f': \"1.0008061350803825\",\n        },\n{\n            'v': 0.9997651991831996,\n            'f': \"0.9997651991831996\",\n        },\n{\n            'v': 1.0000473219639714,\n            'f': \"1.0000473219639714\",\n        },\n{\n            'v': 1.0010115133284894,\n            'f': \"1.0010115133284894\",\n        },\n{\n            'v': 0.9999097355831695,\n            'f': \"0.9999097355831695\",\n        },\n{\n            'v': 1.000201661971574,\n            'f': \"1.000201661971574\",\n        },\n{\n            'v': 0.992898102825289,\n            'f': \"0.992898102825289\",\n        },\n{\n            'v': 0.9284885483294947,\n            'f': \"0.9284885483294947\",\n        },\n{\n            'v': 0.6624478198134004,\n            'f': \"0.6624478198134004\",\n        },\n{\n            'v': 0.5506777720132474,\n            'f': \"0.5506777720132474\",\n        }],\n [{\n            'v': 3,\n            'f': \"3\",\n        },\n{\n            'v': 1.1652079709989476,\n            'f': \"1.1652079709989476\",\n        },\n{\n            'v': 0.9984257007435259,\n            'f': \"0.9984257007435259\",\n        },\n{\n            'v': 0.9897137508862999,\n            'f': \"0.9897137508862999\",\n        },\n{\n            'v': 0.8690442658666842,\n            'f': \"0.8690442658666842\",\n        },\n{\n            'v': 0.6458181240516387,\n            'f': \"0.6458181240516387\",\n        },\n{\n            'v': 0.5506533602008628,\n            'f': \"0.5506533602008628\",\n        },\n{\n            'v': 0.5252955325537445,\n            'f': \"0.5252955325537445\",\n        },\n{\n            'v': 0.516421314036446,\n            'f': \"0.516421314036446\",\n        },\n{\n            'v': 0.511937516119428,\n            'f': \"0.511937516119428\",\n        },\n{\n            'v': 0.5094611572277038,\n            'f': \"0.5094611572277038\",\n        }],\n [{\n            'v': 4,\n            'f': \"4\",\n        },\n{\n            'v': 1.1333424715871485,\n            'f': \"1.1333424715871485\",\n        },\n{\n            'v': 0.9270505994972728,\n            'f': \"0.9270505994972728\",\n        },\n{\n            'v': 0.14853480962498256,\n            'f': \"0.14853480962498256\",\n        },\n{\n            'v': 0.018930271505983486,\n            'f': \"0.018930271505983486\",\n        },\n{\n            'v': 0.0061484985094169345,\n            'f': \"0.0061484985094169345\",\n        },\n{\n            'v': 0.0029145102382598202,\n            'f': \"0.0029145102382598202\",\n        },\n{\n            'v': 0.0016731566044333626,\n            'f': \"0.0016731566044333626\",\n        },\n{\n            'v': 0.0010785382263427028,\n            'f': \"0.0010785382263427028\",\n        },\n{\n            'v': 0.0007497904791295753,\n            'f': \"0.0007497904791295753\",\n        },\n{\n            'v': 0.0005502366819784718,\n            'f': \"0.0005502366819784718\",\n        }]],\n        columns: [[\"number\", \"Model\"], [\"number\", \"Epoch 0\"], [\"number\", \"Epoch 100\"], [\"number\", \"Epoch 200\"], [\"number\", \"Epoch 300\"], [\"number\", \"Epoch 400\"], [\"number\", \"Epoch 500\"], [\"number\", \"Epoch 600\"], [\"number\", \"Epoch 700\"], [\"number\", \"Epoch 800\"], [\"number\", \"Epoch 900\"]],\n        columnOptions: [{\"width\": \"1px\", \"className\": \"index_column\"}],\n        rowsPerPage: 25,\n        helpUrl: \"https://colab.research.google.com/notebooks/data_table.ipynb\",\n        suppressOutputScrolling: true,\n        minimumWidth: undefined,\n      });\n    ",
            "text/html": [
              "<div>\n",
              "<style scoped>\n",
              "    .dataframe tbody tr th:only-of-type {\n",
              "        vertical-align: middle;\n",
              "    }\n",
              "\n",
              "    .dataframe tbody tr th {\n",
              "        vertical-align: top;\n",
              "    }\n",
              "\n",
              "    .dataframe thead th {\n",
              "        text-align: right;\n",
              "    }\n",
              "</style>\n",
              "<table border=\"1\" class=\"dataframe\">\n",
              "  <thead>\n",
              "    <tr style=\"text-align: right;\">\n",
              "      <th></th>\n",
              "      <th>Epoch 0</th>\n",
              "      <th>Epoch 100</th>\n",
              "      <th>Epoch 200</th>\n",
              "      <th>Epoch 300</th>\n",
              "      <th>Epoch 400</th>\n",
              "      <th>Epoch 500</th>\n",
              "      <th>Epoch 600</th>\n",
              "      <th>Epoch 700</th>\n",
              "      <th>Epoch 800</th>\n",
              "      <th>Epoch 900</th>\n",
              "    </tr>\n",
              "    <tr>\n",
              "      <th>Model</th>\n",
              "      <th></th>\n",
              "      <th></th>\n",
              "      <th></th>\n",
              "      <th></th>\n",
              "      <th></th>\n",
              "      <th></th>\n",
              "      <th></th>\n",
              "      <th></th>\n",
              "      <th></th>\n",
              "      <th></th>\n",
              "    </tr>\n",
              "  </thead>\n",
              "  <tbody>\n",
              "    <tr>\n",
              "      <th>0</th>\n",
              "      <td>1.049531</td>\n",
              "      <td>1.001144</td>\n",
              "      <td>0.999445</td>\n",
              "      <td>0.997848</td>\n",
              "      <td>0.985119</td>\n",
              "      <td>0.802010</td>\n",
              "      <td>0.106132</td>\n",
              "      <td>0.015508</td>\n",
              "      <td>0.005371</td>\n",
              "      <td>0.002628</td>\n",
              "    </tr>\n",
              "    <tr>\n",
              "      <th>1</th>\n",
              "      <td>1.134406</td>\n",
              "      <td>0.944655</td>\n",
              "      <td>0.752107</td>\n",
              "      <td>0.621130</td>\n",
              "      <td>0.067221</td>\n",
              "      <td>0.011670</td>\n",
              "      <td>0.004408</td>\n",
              "      <td>0.002264</td>\n",
              "      <td>0.001366</td>\n",
              "      <td>0.000910</td>\n",
              "    </tr>\n",
              "    <tr>\n",
              "      <th>2</th>\n",
              "      <td>1.000806</td>\n",
              "      <td>0.999765</td>\n",
              "      <td>1.000047</td>\n",
              "      <td>1.001012</td>\n",
              "      <td>0.999910</td>\n",
              "      <td>1.000202</td>\n",
              "      <td>0.992898</td>\n",
              "      <td>0.928489</td>\n",
              "      <td>0.662448</td>\n",
              "      <td>0.550678</td>\n",
              "    </tr>\n",
              "    <tr>\n",
              "      <th>3</th>\n",
              "      <td>1.165208</td>\n",
              "      <td>0.998426</td>\n",
              "      <td>0.989714</td>\n",
              "      <td>0.869044</td>\n",
              "      <td>0.645818</td>\n",
              "      <td>0.550653</td>\n",
              "      <td>0.525296</td>\n",
              "      <td>0.516421</td>\n",
              "      <td>0.511938</td>\n",
              "      <td>0.509461</td>\n",
              "    </tr>\n",
              "    <tr>\n",
              "      <th>4</th>\n",
              "      <td>1.133342</td>\n",
              "      <td>0.927051</td>\n",
              "      <td>0.148535</td>\n",
              "      <td>0.018930</td>\n",
              "      <td>0.006148</td>\n",
              "      <td>0.002915</td>\n",
              "      <td>0.001673</td>\n",
              "      <td>0.001079</td>\n",
              "      <td>0.000750</td>\n",
              "      <td>0.000550</td>\n",
              "    </tr>\n",
              "  </tbody>\n",
              "</table>\n",
              "</div>"
            ],
            "text/plain": [
              "        Epoch 0  Epoch 100  Epoch 200  ...  Epoch 700  Epoch 800  Epoch 900\n",
              "Model                                  ...                                 \n",
              "0      1.049531   1.001144   0.999445  ...   0.015508   0.005371   0.002628\n",
              "1      1.134406   0.944655   0.752107  ...   0.002264   0.001366   0.000910\n",
              "2      1.000806   0.999765   1.000047  ...   0.928489   0.662448   0.550678\n",
              "3      1.165208   0.998426   0.989714  ...   0.516421   0.511938   0.509461\n",
              "4      1.133342   0.927051   0.148535  ...   0.001079   0.000750   0.000550\n",
              "\n",
              "[5 rows x 10 columns]"
            ]
          },
          "metadata": {},
          "execution_count": 439
        }
      ]
    },
    {
      "cell_type": "code",
      "metadata": {
        "colab": {
          "base_uri": "https://localhost:8080/",
          "height": 211
        },
        "id": "_nbx4UMSyHUK",
        "outputId": "deb4162a-953c-490c-d4a5-85ec699f5f89"
      },
      "source": [
        "Acc = pd.DataFrame(Acc, columns=columns)\n",
        "Acc.index.names = ['Model']\n",
        "print(\"Accuracy\")\n",
        "Acc"
      ],
      "execution_count": null,
      "outputs": [
        {
          "output_type": "stream",
          "name": "stdout",
          "text": [
            "Accuracy\n"
          ]
        },
        {
          "output_type": "execute_result",
          "data": {
            "application/vnd.google.colaboratory.module+javascript": "\n      import \"https://ssl.gstatic.com/colaboratory/data_table/a6224c040fa35dcf/data_table.js\";\n\n      window.createDataTable({\n        data: [[{\n            'v': 0,\n            'f': \"0\",\n        },\n{\n            'v': 0.5,\n            'f': \"0.5\",\n        },\n{\n            'v': 0.5,\n            'f': \"0.5\",\n        },\n{\n            'v': 0.5,\n            'f': \"0.5\",\n        },\n{\n            'v': 0.25,\n            'f': \"0.25\",\n        },\n{\n            'v': 0.5,\n            'f': \"0.5\",\n        },\n{\n            'v': 0.75,\n            'f': \"0.75\",\n        },\n{\n            'v': 1.0,\n            'f': \"1.0\",\n        },\n{\n            'v': 1.0,\n            'f': \"1.0\",\n        },\n{\n            'v': 1.0,\n            'f': \"1.0\",\n        },\n{\n            'v': 1.0,\n            'f': \"1.0\",\n        }],\n [{\n            'v': 1,\n            'f': \"1\",\n        },\n{\n            'v': 0.5,\n            'f': \"0.5\",\n        },\n{\n            'v': 0.5,\n            'f': \"0.5\",\n        },\n{\n            'v': 0.75,\n            'f': \"0.75\",\n        },\n{\n            'v': 0.75,\n            'f': \"0.75\",\n        },\n{\n            'v': 1.0,\n            'f': \"1.0\",\n        },\n{\n            'v': 1.0,\n            'f': \"1.0\",\n        },\n{\n            'v': 1.0,\n            'f': \"1.0\",\n        },\n{\n            'v': 1.0,\n            'f': \"1.0\",\n        },\n{\n            'v': 1.0,\n            'f': \"1.0\",\n        },\n{\n            'v': 1.0,\n            'f': \"1.0\",\n        }],\n [{\n            'v': 2,\n            'f': \"2\",\n        },\n{\n            'v': 0.5,\n            'f': \"0.5\",\n        },\n{\n            'v': 0.75,\n            'f': \"0.75\",\n        },\n{\n            'v': 0.75,\n            'f': \"0.75\",\n        },\n{\n            'v': 0.5,\n            'f': \"0.5\",\n        },\n{\n            'v': 0.5,\n            'f': \"0.5\",\n        },\n{\n            'v': 0.5,\n            'f': \"0.5\",\n        },\n{\n            'v': 0.5,\n            'f': \"0.5\",\n        },\n{\n            'v': 0.5,\n            'f': \"0.5\",\n        },\n{\n            'v': 0.75,\n            'f': \"0.75\",\n        },\n{\n            'v': 0.5,\n            'f': \"0.5\",\n        }],\n [{\n            'v': 3,\n            'f': \"3\",\n        },\n{\n            'v': 0.5,\n            'f': \"0.5\",\n        },\n{\n            'v': 0.25,\n            'f': \"0.25\",\n        },\n{\n            'v': 0.5,\n            'f': \"0.5\",\n        },\n{\n            'v': 0.75,\n            'f': \"0.75\",\n        },\n{\n            'v': 0.75,\n            'f': \"0.75\",\n        },\n{\n            'v': 0.75,\n            'f': \"0.75\",\n        },\n{\n            'v': 0.5,\n            'f': \"0.5\",\n        },\n{\n            'v': 0.5,\n            'f': \"0.5\",\n        },\n{\n            'v': 0.5,\n            'f': \"0.5\",\n        },\n{\n            'v': 0.75,\n            'f': \"0.75\",\n        }],\n [{\n            'v': 4,\n            'f': \"4\",\n        },\n{\n            'v': 0.5,\n            'f': \"0.5\",\n        },\n{\n            'v': 0.75,\n            'f': \"0.75\",\n        },\n{\n            'v': 1.0,\n            'f': \"1.0\",\n        },\n{\n            'v': 1.0,\n            'f': \"1.0\",\n        },\n{\n            'v': 1.0,\n            'f': \"1.0\",\n        },\n{\n            'v': 1.0,\n            'f': \"1.0\",\n        },\n{\n            'v': 1.0,\n            'f': \"1.0\",\n        },\n{\n            'v': 1.0,\n            'f': \"1.0\",\n        },\n{\n            'v': 1.0,\n            'f': \"1.0\",\n        },\n{\n            'v': 1.0,\n            'f': \"1.0\",\n        }]],\n        columns: [[\"number\", \"Model\"], [\"number\", \"Epoch 0\"], [\"number\", \"Epoch 100\"], [\"number\", \"Epoch 200\"], [\"number\", \"Epoch 300\"], [\"number\", \"Epoch 400\"], [\"number\", \"Epoch 500\"], [\"number\", \"Epoch 600\"], [\"number\", \"Epoch 700\"], [\"number\", \"Epoch 800\"], [\"number\", \"Epoch 900\"]],\n        columnOptions: [{\"width\": \"1px\", \"className\": \"index_column\"}],\n        rowsPerPage: 25,\n        helpUrl: \"https://colab.research.google.com/notebooks/data_table.ipynb\",\n        suppressOutputScrolling: true,\n        minimumWidth: undefined,\n      });\n    ",
            "text/html": [
              "<div>\n",
              "<style scoped>\n",
              "    .dataframe tbody tr th:only-of-type {\n",
              "        vertical-align: middle;\n",
              "    }\n",
              "\n",
              "    .dataframe tbody tr th {\n",
              "        vertical-align: top;\n",
              "    }\n",
              "\n",
              "    .dataframe thead th {\n",
              "        text-align: right;\n",
              "    }\n",
              "</style>\n",
              "<table border=\"1\" class=\"dataframe\">\n",
              "  <thead>\n",
              "    <tr style=\"text-align: right;\">\n",
              "      <th></th>\n",
              "      <th>Epoch 0</th>\n",
              "      <th>Epoch 100</th>\n",
              "      <th>Epoch 200</th>\n",
              "      <th>Epoch 300</th>\n",
              "      <th>Epoch 400</th>\n",
              "      <th>Epoch 500</th>\n",
              "      <th>Epoch 600</th>\n",
              "      <th>Epoch 700</th>\n",
              "      <th>Epoch 800</th>\n",
              "      <th>Epoch 900</th>\n",
              "    </tr>\n",
              "    <tr>\n",
              "      <th>Model</th>\n",
              "      <th></th>\n",
              "      <th></th>\n",
              "      <th></th>\n",
              "      <th></th>\n",
              "      <th></th>\n",
              "      <th></th>\n",
              "      <th></th>\n",
              "      <th></th>\n",
              "      <th></th>\n",
              "      <th></th>\n",
              "    </tr>\n",
              "  </thead>\n",
              "  <tbody>\n",
              "    <tr>\n",
              "      <th>0</th>\n",
              "      <td>0.5</td>\n",
              "      <td>0.50</td>\n",
              "      <td>0.50</td>\n",
              "      <td>0.25</td>\n",
              "      <td>0.50</td>\n",
              "      <td>0.75</td>\n",
              "      <td>1.0</td>\n",
              "      <td>1.0</td>\n",
              "      <td>1.00</td>\n",
              "      <td>1.00</td>\n",
              "    </tr>\n",
              "    <tr>\n",
              "      <th>1</th>\n",
              "      <td>0.5</td>\n",
              "      <td>0.50</td>\n",
              "      <td>0.75</td>\n",
              "      <td>0.75</td>\n",
              "      <td>1.00</td>\n",
              "      <td>1.00</td>\n",
              "      <td>1.0</td>\n",
              "      <td>1.0</td>\n",
              "      <td>1.00</td>\n",
              "      <td>1.00</td>\n",
              "    </tr>\n",
              "    <tr>\n",
              "      <th>2</th>\n",
              "      <td>0.5</td>\n",
              "      <td>0.75</td>\n",
              "      <td>0.75</td>\n",
              "      <td>0.50</td>\n",
              "      <td>0.50</td>\n",
              "      <td>0.50</td>\n",
              "      <td>0.5</td>\n",
              "      <td>0.5</td>\n",
              "      <td>0.75</td>\n",
              "      <td>0.50</td>\n",
              "    </tr>\n",
              "    <tr>\n",
              "      <th>3</th>\n",
              "      <td>0.5</td>\n",
              "      <td>0.25</td>\n",
              "      <td>0.50</td>\n",
              "      <td>0.75</td>\n",
              "      <td>0.75</td>\n",
              "      <td>0.75</td>\n",
              "      <td>0.5</td>\n",
              "      <td>0.5</td>\n",
              "      <td>0.50</td>\n",
              "      <td>0.75</td>\n",
              "    </tr>\n",
              "    <tr>\n",
              "      <th>4</th>\n",
              "      <td>0.5</td>\n",
              "      <td>0.75</td>\n",
              "      <td>1.00</td>\n",
              "      <td>1.00</td>\n",
              "      <td>1.00</td>\n",
              "      <td>1.00</td>\n",
              "      <td>1.0</td>\n",
              "      <td>1.0</td>\n",
              "      <td>1.00</td>\n",
              "      <td>1.00</td>\n",
              "    </tr>\n",
              "  </tbody>\n",
              "</table>\n",
              "</div>"
            ],
            "text/plain": [
              "       Epoch 0  Epoch 100  Epoch 200  ...  Epoch 700  Epoch 800  Epoch 900\n",
              "Model                                 ...                                 \n",
              "0          0.5       0.50       0.50  ...        1.0       1.00       1.00\n",
              "1          0.5       0.50       0.75  ...        1.0       1.00       1.00\n",
              "2          0.5       0.75       0.75  ...        0.5       0.75       0.50\n",
              "3          0.5       0.25       0.50  ...        0.5       0.50       0.75\n",
              "4          0.5       0.75       1.00  ...        1.0       1.00       1.00\n",
              "\n",
              "[5 rows x 10 columns]"
            ]
          },
          "metadata": {},
          "execution_count": 440
        }
      ]
    }
  ]
}